{
 "cells": [
  {
   "cell_type": "code",
   "execution_count": 1,
   "metadata": {},
   "outputs": [],
   "source": [
    "import numpy as np\n",
    "import pandas as pd\n",
    "import matplotlib.pyplot as plt\n",
    "import seaborn as sns\n",
    "\n",
    "import warnings\n",
    "warnings.filterwarnings('ignore')"
   ]
  },
  {
   "cell_type": "code",
   "execution_count": 2,
   "metadata": {},
   "outputs": [
    {
     "data": {
      "text/plain": [
       "nan"
      ]
     },
     "execution_count": 2,
     "metadata": {},
     "output_type": "execute_result"
    }
   ],
   "source": [
    "np.nan\n"
   ]
  },
  {
   "cell_type": "code",
   "execution_count": 3,
   "metadata": {},
   "outputs": [],
   "source": [
    "name = [\"john\",\"jack\",\"jill\",\"kenny\",\"kevin\"]\n",
    "math = [89,78,67,np.nan,85]\n",
    "science = [78,75,np.nan,np.nan,76]"
   ]
  },
  {
   "cell_type": "code",
   "execution_count": 4,
   "metadata": {},
   "outputs": [],
   "source": [
    "dic = {\"name\":name,\"math\":math,\"science\":science}"
   ]
  },
  {
   "cell_type": "code",
   "execution_count": 5,
   "metadata": {},
   "outputs": [],
   "source": [
    "df = pd.DataFrame(dic)"
   ]
  },
  {
   "cell_type": "code",
   "execution_count": 6,
   "metadata": {},
   "outputs": [
    {
     "data": {
      "text/html": [
       "<div>\n",
       "<style scoped>\n",
       "    .dataframe tbody tr th:only-of-type {\n",
       "        vertical-align: middle;\n",
       "    }\n",
       "\n",
       "    .dataframe tbody tr th {\n",
       "        vertical-align: top;\n",
       "    }\n",
       "\n",
       "    .dataframe thead th {\n",
       "        text-align: right;\n",
       "    }\n",
       "</style>\n",
       "<table border=\"1\" class=\"dataframe\">\n",
       "  <thead>\n",
       "    <tr style=\"text-align: right;\">\n",
       "      <th></th>\n",
       "      <th>name</th>\n",
       "      <th>math</th>\n",
       "      <th>science</th>\n",
       "    </tr>\n",
       "  </thead>\n",
       "  <tbody>\n",
       "    <tr>\n",
       "      <td>0</td>\n",
       "      <td>john</td>\n",
       "      <td>89.0</td>\n",
       "      <td>78.0</td>\n",
       "    </tr>\n",
       "    <tr>\n",
       "      <td>1</td>\n",
       "      <td>jack</td>\n",
       "      <td>78.0</td>\n",
       "      <td>75.0</td>\n",
       "    </tr>\n",
       "    <tr>\n",
       "      <td>2</td>\n",
       "      <td>jill</td>\n",
       "      <td>67.0</td>\n",
       "      <td>NaN</td>\n",
       "    </tr>\n",
       "    <tr>\n",
       "      <td>3</td>\n",
       "      <td>kenny</td>\n",
       "      <td>NaN</td>\n",
       "      <td>NaN</td>\n",
       "    </tr>\n",
       "    <tr>\n",
       "      <td>4</td>\n",
       "      <td>kevin</td>\n",
       "      <td>85.0</td>\n",
       "      <td>76.0</td>\n",
       "    </tr>\n",
       "  </tbody>\n",
       "</table>\n",
       "</div>"
      ],
      "text/plain": [
       "    name  math  science\n",
       "0   john  89.0     78.0\n",
       "1   jack  78.0     75.0\n",
       "2   jill  67.0      NaN\n",
       "3  kenny   NaN      NaN\n",
       "4  kevin  85.0     76.0"
      ]
     },
     "execution_count": 6,
     "metadata": {},
     "output_type": "execute_result"
    }
   ],
   "source": [
    "df"
   ]
  },
  {
   "cell_type": "code",
   "execution_count": 7,
   "metadata": {},
   "outputs": [
    {
     "data": {
      "text/html": [
       "<div>\n",
       "<style scoped>\n",
       "    .dataframe tbody tr th:only-of-type {\n",
       "        vertical-align: middle;\n",
       "    }\n",
       "\n",
       "    .dataframe tbody tr th {\n",
       "        vertical-align: top;\n",
       "    }\n",
       "\n",
       "    .dataframe thead th {\n",
       "        text-align: right;\n",
       "    }\n",
       "</style>\n",
       "<table border=\"1\" class=\"dataframe\">\n",
       "  <thead>\n",
       "    <tr style=\"text-align: right;\">\n",
       "      <th></th>\n",
       "      <th>name</th>\n",
       "      <th>math</th>\n",
       "      <th>science</th>\n",
       "    </tr>\n",
       "  </thead>\n",
       "  <tbody>\n",
       "    <tr>\n",
       "      <td>0</td>\n",
       "      <td>john</td>\n",
       "      <td>89.0</td>\n",
       "      <td>78.0</td>\n",
       "    </tr>\n",
       "    <tr>\n",
       "      <td>1</td>\n",
       "      <td>jack</td>\n",
       "      <td>78.0</td>\n",
       "      <td>75.0</td>\n",
       "    </tr>\n",
       "    <tr>\n",
       "      <td>4</td>\n",
       "      <td>kevin</td>\n",
       "      <td>85.0</td>\n",
       "      <td>76.0</td>\n",
       "    </tr>\n",
       "  </tbody>\n",
       "</table>\n",
       "</div>"
      ],
      "text/plain": [
       "    name  math  science\n",
       "0   john  89.0     78.0\n",
       "1   jack  78.0     75.0\n",
       "4  kevin  85.0     76.0"
      ]
     },
     "execution_count": 7,
     "metadata": {},
     "output_type": "execute_result"
    }
   ],
   "source": [
    "df.dropna()"
   ]
  },
  {
   "cell_type": "code",
   "execution_count": 8,
   "metadata": {},
   "outputs": [
    {
     "data": {
      "text/html": [
       "<div>\n",
       "<style scoped>\n",
       "    .dataframe tbody tr th:only-of-type {\n",
       "        vertical-align: middle;\n",
       "    }\n",
       "\n",
       "    .dataframe tbody tr th {\n",
       "        vertical-align: top;\n",
       "    }\n",
       "\n",
       "    .dataframe thead th {\n",
       "        text-align: right;\n",
       "    }\n",
       "</style>\n",
       "<table border=\"1\" class=\"dataframe\">\n",
       "  <thead>\n",
       "    <tr style=\"text-align: right;\">\n",
       "      <th></th>\n",
       "      <th>name</th>\n",
       "    </tr>\n",
       "  </thead>\n",
       "  <tbody>\n",
       "    <tr>\n",
       "      <td>0</td>\n",
       "      <td>john</td>\n",
       "    </tr>\n",
       "    <tr>\n",
       "      <td>1</td>\n",
       "      <td>jack</td>\n",
       "    </tr>\n",
       "    <tr>\n",
       "      <td>2</td>\n",
       "      <td>jill</td>\n",
       "    </tr>\n",
       "    <tr>\n",
       "      <td>3</td>\n",
       "      <td>kenny</td>\n",
       "    </tr>\n",
       "    <tr>\n",
       "      <td>4</td>\n",
       "      <td>kevin</td>\n",
       "    </tr>\n",
       "  </tbody>\n",
       "</table>\n",
       "</div>"
      ],
      "text/plain": [
       "    name\n",
       "0   john\n",
       "1   jack\n",
       "2   jill\n",
       "3  kenny\n",
       "4  kevin"
      ]
     },
     "execution_count": 8,
     "metadata": {},
     "output_type": "execute_result"
    }
   ],
   "source": [
    "df.dropna(axis = 1)"
   ]
  },
  {
   "cell_type": "code",
   "execution_count": 9,
   "metadata": {},
   "outputs": [
    {
     "data": {
      "text/plain": [
       "name       0\n",
       "math       1\n",
       "science    2\n",
       "dtype: int64"
      ]
     },
     "execution_count": 9,
     "metadata": {},
     "output_type": "execute_result"
    }
   ],
   "source": [
    "df.isnull().sum()"
   ]
  },
  {
   "cell_type": "code",
   "execution_count": 10,
   "metadata": {},
   "outputs": [
    {
     "data": {
      "text/html": [
       "<div>\n",
       "<style scoped>\n",
       "    .dataframe tbody tr th:only-of-type {\n",
       "        vertical-align: middle;\n",
       "    }\n",
       "\n",
       "    .dataframe tbody tr th {\n",
       "        vertical-align: top;\n",
       "    }\n",
       "\n",
       "    .dataframe thead th {\n",
       "        text-align: right;\n",
       "    }\n",
       "</style>\n",
       "<table border=\"1\" class=\"dataframe\">\n",
       "  <thead>\n",
       "    <tr style=\"text-align: right;\">\n",
       "      <th></th>\n",
       "      <th>name</th>\n",
       "      <th>math</th>\n",
       "      <th>science</th>\n",
       "    </tr>\n",
       "  </thead>\n",
       "  <tbody>\n",
       "    <tr>\n",
       "      <td>0</td>\n",
       "      <td>john</td>\n",
       "      <td>89.0</td>\n",
       "      <td>78.0</td>\n",
       "    </tr>\n",
       "    <tr>\n",
       "      <td>1</td>\n",
       "      <td>jack</td>\n",
       "      <td>78.0</td>\n",
       "      <td>75.0</td>\n",
       "    </tr>\n",
       "    <tr>\n",
       "      <td>2</td>\n",
       "      <td>jill</td>\n",
       "      <td>67.0</td>\n",
       "      <td>NaN</td>\n",
       "    </tr>\n",
       "    <tr>\n",
       "      <td>4</td>\n",
       "      <td>kevin</td>\n",
       "      <td>85.0</td>\n",
       "      <td>76.0</td>\n",
       "    </tr>\n",
       "  </tbody>\n",
       "</table>\n",
       "</div>"
      ],
      "text/plain": [
       "    name  math  science\n",
       "0   john  89.0     78.0\n",
       "1   jack  78.0     75.0\n",
       "2   jill  67.0      NaN\n",
       "4  kevin  85.0     76.0"
      ]
     },
     "execution_count": 10,
     "metadata": {},
     "output_type": "execute_result"
    }
   ],
   "source": [
    "df.drop(3)"
   ]
  },
  {
   "cell_type": "code",
   "execution_count": 11,
   "metadata": {},
   "outputs": [
    {
     "data": {
      "text/html": [
       "<div>\n",
       "<style scoped>\n",
       "    .dataframe tbody tr th:only-of-type {\n",
       "        vertical-align: middle;\n",
       "    }\n",
       "\n",
       "    .dataframe tbody tr th {\n",
       "        vertical-align: top;\n",
       "    }\n",
       "\n",
       "    .dataframe thead th {\n",
       "        text-align: right;\n",
       "    }\n",
       "</style>\n",
       "<table border=\"1\" class=\"dataframe\">\n",
       "  <thead>\n",
       "    <tr style=\"text-align: right;\">\n",
       "      <th></th>\n",
       "      <th>name</th>\n",
       "      <th>math</th>\n",
       "      <th>science</th>\n",
       "    </tr>\n",
       "  </thead>\n",
       "  <tbody>\n",
       "    <tr>\n",
       "      <td>1</td>\n",
       "      <td>jack</td>\n",
       "      <td>78.0</td>\n",
       "      <td>75.0</td>\n",
       "    </tr>\n",
       "    <tr>\n",
       "      <td>3</td>\n",
       "      <td>kenny</td>\n",
       "      <td>NaN</td>\n",
       "      <td>NaN</td>\n",
       "    </tr>\n",
       "  </tbody>\n",
       "</table>\n",
       "</div>"
      ],
      "text/plain": [
       "    name  math  science\n",
       "1   jack  78.0     75.0\n",
       "3  kenny   NaN      NaN"
      ]
     },
     "execution_count": 11,
     "metadata": {},
     "output_type": "execute_result"
    }
   ],
   "source": [
    "df.drop([0,2,4])"
   ]
  },
  {
   "cell_type": "code",
   "execution_count": 12,
   "metadata": {},
   "outputs": [
    {
     "data": {
      "text/html": [
       "<div>\n",
       "<style scoped>\n",
       "    .dataframe tbody tr th:only-of-type {\n",
       "        vertical-align: middle;\n",
       "    }\n",
       "\n",
       "    .dataframe tbody tr th {\n",
       "        vertical-align: top;\n",
       "    }\n",
       "\n",
       "    .dataframe thead th {\n",
       "        text-align: right;\n",
       "    }\n",
       "</style>\n",
       "<table border=\"1\" class=\"dataframe\">\n",
       "  <thead>\n",
       "    <tr style=\"text-align: right;\">\n",
       "      <th></th>\n",
       "      <th>math</th>\n",
       "      <th>science</th>\n",
       "    </tr>\n",
       "  </thead>\n",
       "  <tbody>\n",
       "    <tr>\n",
       "      <td>0</td>\n",
       "      <td>89.0</td>\n",
       "      <td>78.0</td>\n",
       "    </tr>\n",
       "    <tr>\n",
       "      <td>1</td>\n",
       "      <td>78.0</td>\n",
       "      <td>75.0</td>\n",
       "    </tr>\n",
       "    <tr>\n",
       "      <td>2</td>\n",
       "      <td>67.0</td>\n",
       "      <td>NaN</td>\n",
       "    </tr>\n",
       "    <tr>\n",
       "      <td>3</td>\n",
       "      <td>NaN</td>\n",
       "      <td>NaN</td>\n",
       "    </tr>\n",
       "    <tr>\n",
       "      <td>4</td>\n",
       "      <td>85.0</td>\n",
       "      <td>76.0</td>\n",
       "    </tr>\n",
       "  </tbody>\n",
       "</table>\n",
       "</div>"
      ],
      "text/plain": [
       "   math  science\n",
       "0  89.0     78.0\n",
       "1  78.0     75.0\n",
       "2  67.0      NaN\n",
       "3   NaN      NaN\n",
       "4  85.0     76.0"
      ]
     },
     "execution_count": 12,
     "metadata": {},
     "output_type": "execute_result"
    }
   ],
   "source": [
    "df.drop('name',axis =1)"
   ]
  },
  {
   "cell_type": "code",
   "execution_count": 13,
   "metadata": {},
   "outputs": [
    {
     "data": {
      "text/html": [
       "<div>\n",
       "<style scoped>\n",
       "    .dataframe tbody tr th:only-of-type {\n",
       "        vertical-align: middle;\n",
       "    }\n",
       "\n",
       "    .dataframe tbody tr th {\n",
       "        vertical-align: top;\n",
       "    }\n",
       "\n",
       "    .dataframe thead th {\n",
       "        text-align: right;\n",
       "    }\n",
       "</style>\n",
       "<table border=\"1\" class=\"dataframe\">\n",
       "  <thead>\n",
       "    <tr style=\"text-align: right;\">\n",
       "      <th></th>\n",
       "      <th>name</th>\n",
       "      <th>math</th>\n",
       "      <th>science</th>\n",
       "    </tr>\n",
       "  </thead>\n",
       "  <tbody>\n",
       "    <tr>\n",
       "      <td>0</td>\n",
       "      <td>john</td>\n",
       "      <td>89.0</td>\n",
       "      <td>78.0</td>\n",
       "    </tr>\n",
       "    <tr>\n",
       "      <td>1</td>\n",
       "      <td>jack</td>\n",
       "      <td>78.0</td>\n",
       "      <td>75.0</td>\n",
       "    </tr>\n",
       "    <tr>\n",
       "      <td>2</td>\n",
       "      <td>jill</td>\n",
       "      <td>67.0</td>\n",
       "      <td>0.0</td>\n",
       "    </tr>\n",
       "    <tr>\n",
       "      <td>3</td>\n",
       "      <td>kenny</td>\n",
       "      <td>0.0</td>\n",
       "      <td>0.0</td>\n",
       "    </tr>\n",
       "    <tr>\n",
       "      <td>4</td>\n",
       "      <td>kevin</td>\n",
       "      <td>85.0</td>\n",
       "      <td>76.0</td>\n",
       "    </tr>\n",
       "  </tbody>\n",
       "</table>\n",
       "</div>"
      ],
      "text/plain": [
       "    name  math  science\n",
       "0   john  89.0     78.0\n",
       "1   jack  78.0     75.0\n",
       "2   jill  67.0      0.0\n",
       "3  kenny   0.0      0.0\n",
       "4  kevin  85.0     76.0"
      ]
     },
     "execution_count": 13,
     "metadata": {},
     "output_type": "execute_result"
    }
   ],
   "source": [
    "df.fillna(0)"
   ]
  },
  {
   "cell_type": "code",
   "execution_count": 14,
   "metadata": {},
   "outputs": [
    {
     "data": {
      "text/html": [
       "<div>\n",
       "<style scoped>\n",
       "    .dataframe tbody tr th:only-of-type {\n",
       "        vertical-align: middle;\n",
       "    }\n",
       "\n",
       "    .dataframe tbody tr th {\n",
       "        vertical-align: top;\n",
       "    }\n",
       "\n",
       "    .dataframe thead th {\n",
       "        text-align: right;\n",
       "    }\n",
       "</style>\n",
       "<table border=\"1\" class=\"dataframe\">\n",
       "  <thead>\n",
       "    <tr style=\"text-align: right;\">\n",
       "      <th></th>\n",
       "      <th>name</th>\n",
       "      <th>math</th>\n",
       "      <th>science</th>\n",
       "    </tr>\n",
       "  </thead>\n",
       "  <tbody>\n",
       "    <tr>\n",
       "      <td>0</td>\n",
       "      <td>john</td>\n",
       "      <td>89.0</td>\n",
       "      <td>78.0</td>\n",
       "    </tr>\n",
       "    <tr>\n",
       "      <td>1</td>\n",
       "      <td>jack</td>\n",
       "      <td>78.0</td>\n",
       "      <td>75.0</td>\n",
       "    </tr>\n",
       "    <tr>\n",
       "      <td>2</td>\n",
       "      <td>jill</td>\n",
       "      <td>67.0</td>\n",
       "      <td>75.0</td>\n",
       "    </tr>\n",
       "    <tr>\n",
       "      <td>3</td>\n",
       "      <td>kenny</td>\n",
       "      <td>67.0</td>\n",
       "      <td>75.0</td>\n",
       "    </tr>\n",
       "    <tr>\n",
       "      <td>4</td>\n",
       "      <td>kevin</td>\n",
       "      <td>85.0</td>\n",
       "      <td>76.0</td>\n",
       "    </tr>\n",
       "  </tbody>\n",
       "</table>\n",
       "</div>"
      ],
      "text/plain": [
       "    name  math  science\n",
       "0   john  89.0     78.0\n",
       "1   jack  78.0     75.0\n",
       "2   jill  67.0     75.0\n",
       "3  kenny  67.0     75.0\n",
       "4  kevin  85.0     76.0"
      ]
     },
     "execution_count": 14,
     "metadata": {},
     "output_type": "execute_result"
    }
   ],
   "source": [
    "df.fillna(method ='ffill') #forwad fill"
   ]
  },
  {
   "cell_type": "code",
   "execution_count": 15,
   "metadata": {},
   "outputs": [
    {
     "data": {
      "text/html": [
       "<div>\n",
       "<style scoped>\n",
       "    .dataframe tbody tr th:only-of-type {\n",
       "        vertical-align: middle;\n",
       "    }\n",
       "\n",
       "    .dataframe tbody tr th {\n",
       "        vertical-align: top;\n",
       "    }\n",
       "\n",
       "    .dataframe thead th {\n",
       "        text-align: right;\n",
       "    }\n",
       "</style>\n",
       "<table border=\"1\" class=\"dataframe\">\n",
       "  <thead>\n",
       "    <tr style=\"text-align: right;\">\n",
       "      <th></th>\n",
       "      <th>name</th>\n",
       "      <th>math</th>\n",
       "      <th>science</th>\n",
       "    </tr>\n",
       "  </thead>\n",
       "  <tbody>\n",
       "    <tr>\n",
       "      <td>0</td>\n",
       "      <td>john</td>\n",
       "      <td>89.0</td>\n",
       "      <td>78.0</td>\n",
       "    </tr>\n",
       "    <tr>\n",
       "      <td>1</td>\n",
       "      <td>jack</td>\n",
       "      <td>78.0</td>\n",
       "      <td>75.0</td>\n",
       "    </tr>\n",
       "    <tr>\n",
       "      <td>2</td>\n",
       "      <td>jill</td>\n",
       "      <td>67.0</td>\n",
       "      <td>76.0</td>\n",
       "    </tr>\n",
       "    <tr>\n",
       "      <td>3</td>\n",
       "      <td>kenny</td>\n",
       "      <td>85.0</td>\n",
       "      <td>76.0</td>\n",
       "    </tr>\n",
       "    <tr>\n",
       "      <td>4</td>\n",
       "      <td>kevin</td>\n",
       "      <td>85.0</td>\n",
       "      <td>76.0</td>\n",
       "    </tr>\n",
       "  </tbody>\n",
       "</table>\n",
       "</div>"
      ],
      "text/plain": [
       "    name  math  science\n",
       "0   john  89.0     78.0\n",
       "1   jack  78.0     75.0\n",
       "2   jill  67.0     76.0\n",
       "3  kenny  85.0     76.0\n",
       "4  kevin  85.0     76.0"
      ]
     },
     "execution_count": 15,
     "metadata": {},
     "output_type": "execute_result"
    }
   ],
   "source": [
    "df.fillna(method ='bfill') #backward fill"
   ]
  },
  {
   "cell_type": "code",
   "execution_count": 16,
   "metadata": {},
   "outputs": [
    {
     "data": {
      "text/plain": [
       "79.75"
      ]
     },
     "execution_count": 16,
     "metadata": {},
     "output_type": "execute_result"
    }
   ],
   "source": [
    "a= df['math'].mean()\n",
    "a"
   ]
  },
  {
   "cell_type": "code",
   "execution_count": 17,
   "metadata": {},
   "outputs": [
    {
     "data": {
      "text/plain": [
       "76.33333333333333"
      ]
     },
     "execution_count": 17,
     "metadata": {},
     "output_type": "execute_result"
    }
   ],
   "source": [
    "b = df['science'].mean()\n",
    "b"
   ]
  },
  {
   "cell_type": "code",
   "execution_count": 18,
   "metadata": {},
   "outputs": [],
   "source": [
    "df['math'].fillna(a,inplace = True)\n"
   ]
  },
  {
   "cell_type": "code",
   "execution_count": 19,
   "metadata": {},
   "outputs": [],
   "source": [
    "df['science'].fillna(b,inplace =True)\n"
   ]
  },
  {
   "cell_type": "code",
   "execution_count": 20,
   "metadata": {},
   "outputs": [
    {
     "data": {
      "text/html": [
       "<div>\n",
       "<style scoped>\n",
       "    .dataframe tbody tr th:only-of-type {\n",
       "        vertical-align: middle;\n",
       "    }\n",
       "\n",
       "    .dataframe tbody tr th {\n",
       "        vertical-align: top;\n",
       "    }\n",
       "\n",
       "    .dataframe thead th {\n",
       "        text-align: right;\n",
       "    }\n",
       "</style>\n",
       "<table border=\"1\" class=\"dataframe\">\n",
       "  <thead>\n",
       "    <tr style=\"text-align: right;\">\n",
       "      <th></th>\n",
       "      <th>name</th>\n",
       "      <th>math</th>\n",
       "      <th>science</th>\n",
       "    </tr>\n",
       "  </thead>\n",
       "  <tbody>\n",
       "    <tr>\n",
       "      <td>0</td>\n",
       "      <td>john</td>\n",
       "      <td>89.00</td>\n",
       "      <td>78.000000</td>\n",
       "    </tr>\n",
       "    <tr>\n",
       "      <td>1</td>\n",
       "      <td>jack</td>\n",
       "      <td>78.00</td>\n",
       "      <td>75.000000</td>\n",
       "    </tr>\n",
       "    <tr>\n",
       "      <td>2</td>\n",
       "      <td>jill</td>\n",
       "      <td>67.00</td>\n",
       "      <td>76.333333</td>\n",
       "    </tr>\n",
       "    <tr>\n",
       "      <td>3</td>\n",
       "      <td>kenny</td>\n",
       "      <td>79.75</td>\n",
       "      <td>76.333333</td>\n",
       "    </tr>\n",
       "    <tr>\n",
       "      <td>4</td>\n",
       "      <td>kevin</td>\n",
       "      <td>85.00</td>\n",
       "      <td>76.000000</td>\n",
       "    </tr>\n",
       "  </tbody>\n",
       "</table>\n",
       "</div>"
      ],
      "text/plain": [
       "    name   math    science\n",
       "0   john  89.00  78.000000\n",
       "1   jack  78.00  75.000000\n",
       "2   jill  67.00  76.333333\n",
       "3  kenny  79.75  76.333333\n",
       "4  kevin  85.00  76.000000"
      ]
     },
     "execution_count": 20,
     "metadata": {},
     "output_type": "execute_result"
    }
   ],
   "source": [
    "df"
   ]
  },
  {
   "cell_type": "code",
   "execution_count": 21,
   "metadata": {},
   "outputs": [],
   "source": [
    "df = pd.read_csv(\"cars.csv\")"
   ]
  },
  {
   "cell_type": "code",
   "execution_count": 22,
   "metadata": {},
   "outputs": [
    {
     "data": {
      "text/plain": [
       "symboling            0\n",
       "normalized-losses    0\n",
       "make                 0\n",
       "fuel-type            0\n",
       "body-style           0\n",
       "drive-wheels         0\n",
       "engine-location      0\n",
       "width                0\n",
       "height               0\n",
       "engine-type          0\n",
       "engine-size          0\n",
       "horsepower           0\n",
       "city-mpg             0\n",
       "highway-mpg          0\n",
       "price                0\n",
       "dtype: int64"
      ]
     },
     "execution_count": 22,
     "metadata": {},
     "output_type": "execute_result"
    }
   ],
   "source": [
    "df.isnull().sum()"
   ]
  },
  {
   "cell_type": "code",
   "execution_count": 23,
   "metadata": {},
   "outputs": [
    {
     "name": "stdout",
     "output_type": "stream",
     "text": [
      "<class 'pandas.core.frame.DataFrame'>\n",
      "RangeIndex: 205 entries, 0 to 204\n",
      "Data columns (total 15 columns):\n",
      "symboling            205 non-null int64\n",
      "normalized-losses    205 non-null object\n",
      "make                 205 non-null object\n",
      "fuel-type            205 non-null object\n",
      "body-style           205 non-null object\n",
      "drive-wheels         205 non-null object\n",
      "engine-location      205 non-null object\n",
      "width                205 non-null float64\n",
      "height               205 non-null float64\n",
      "engine-type          205 non-null object\n",
      "engine-size          205 non-null int64\n",
      "horsepower           205 non-null object\n",
      "city-mpg             205 non-null int64\n",
      "highway-mpg          205 non-null int64\n",
      "price                205 non-null int64\n",
      "dtypes: float64(2), int64(5), object(8)\n",
      "memory usage: 24.1+ KB\n"
     ]
    }
   ],
   "source": [
    "df.info()"
   ]
  },
  {
   "cell_type": "code",
   "execution_count": 24,
   "metadata": {},
   "outputs": [
    {
     "data": {
      "text/plain": [
       "(205, 15)"
      ]
     },
     "execution_count": 24,
     "metadata": {},
     "output_type": "execute_result"
    }
   ],
   "source": [
    "df.shape"
   ]
  },
  {
   "cell_type": "code",
   "execution_count": 25,
   "metadata": {},
   "outputs": [
    {
     "data": {
      "text/plain": [
       "array(['?', '164', '158', '192', '188', '121', '98', '81', '118', '148',\n",
       "       '110', '145', '137', '101', '78', '106', '85', '107', '104', '113',\n",
       "       '150', '129', '115', '93', '142', '161', '153', '125', '128',\n",
       "       '122', '103', '168', '108', '194', '231', '119', '154', '74',\n",
       "       '186', '83', '102', '89', '87', '77', '91', '134', '65', '197',\n",
       "       '90', '94', '256', '95'], dtype=object)"
      ]
     },
     "execution_count": 25,
     "metadata": {},
     "output_type": "execute_result"
    }
   ],
   "source": [
    "df['normalized-losses'].unique()"
   ]
  },
  {
   "cell_type": "code",
   "execution_count": 26,
   "metadata": {},
   "outputs": [
    {
     "data": {
      "text/plain": [
       "array(['111', '154', '102', '115', '110', '140', '160', '101', '121',\n",
       "       '182', '48', '70', '68', '88', '145', '58', '76', '60', '86',\n",
       "       '100', '78', '90', '176', '262', '135', '84', '64', '120', '72',\n",
       "       '123', '155', '184', '175', '116', '69', '55', '97', '152', '200',\n",
       "       '95', '142', '143', '207', '288', '?', '73', '82', '94', '62',\n",
       "       '56', '112', '92', '161', '156', '52', '85', '114', '162', '134',\n",
       "       '106'], dtype=object)"
      ]
     },
     "execution_count": 26,
     "metadata": {},
     "output_type": "execute_result"
    }
   ],
   "source": [
    "df['horsepower'].unique()"
   ]
  },
  {
   "cell_type": "code",
   "execution_count": 27,
   "metadata": {},
   "outputs": [],
   "source": [
    "df['normalized-losses'].replace(\"?\",np.nan,inplace=True)\n",
    "df['normalized-losses'] = df['normalized-losses'].astype(float)"
   ]
  },
  {
   "cell_type": "code",
   "execution_count": 28,
   "metadata": {},
   "outputs": [],
   "source": [
    "df['normalized-losses'].fillna(df['normalized-losses'].mean(),inplace=True)"
   ]
  },
  {
   "cell_type": "code",
   "execution_count": 29,
   "metadata": {},
   "outputs": [
    {
     "data": {
      "text/html": [
       "<div>\n",
       "<style scoped>\n",
       "    .dataframe tbody tr th:only-of-type {\n",
       "        vertical-align: middle;\n",
       "    }\n",
       "\n",
       "    .dataframe tbody tr th {\n",
       "        vertical-align: top;\n",
       "    }\n",
       "\n",
       "    .dataframe thead th {\n",
       "        text-align: right;\n",
       "    }\n",
       "</style>\n",
       "<table border=\"1\" class=\"dataframe\">\n",
       "  <thead>\n",
       "    <tr style=\"text-align: right;\">\n",
       "      <th></th>\n",
       "      <th>symboling</th>\n",
       "      <th>normalized-losses</th>\n",
       "      <th>make</th>\n",
       "      <th>fuel-type</th>\n",
       "      <th>body-style</th>\n",
       "      <th>drive-wheels</th>\n",
       "      <th>engine-location</th>\n",
       "      <th>width</th>\n",
       "      <th>height</th>\n",
       "      <th>engine-type</th>\n",
       "      <th>engine-size</th>\n",
       "      <th>horsepower</th>\n",
       "      <th>city-mpg</th>\n",
       "      <th>highway-mpg</th>\n",
       "      <th>price</th>\n",
       "    </tr>\n",
       "  </thead>\n",
       "  <tbody>\n",
       "    <tr>\n",
       "      <td>0</td>\n",
       "      <td>3</td>\n",
       "      <td>122.0</td>\n",
       "      <td>alfa-romero</td>\n",
       "      <td>gas</td>\n",
       "      <td>convertible</td>\n",
       "      <td>rwd</td>\n",
       "      <td>front</td>\n",
       "      <td>64.1</td>\n",
       "      <td>48.8</td>\n",
       "      <td>dohc</td>\n",
       "      <td>130</td>\n",
       "      <td>111</td>\n",
       "      <td>21</td>\n",
       "      <td>27</td>\n",
       "      <td>13495</td>\n",
       "    </tr>\n",
       "    <tr>\n",
       "      <td>1</td>\n",
       "      <td>3</td>\n",
       "      <td>122.0</td>\n",
       "      <td>alfa-romero</td>\n",
       "      <td>gas</td>\n",
       "      <td>convertible</td>\n",
       "      <td>rwd</td>\n",
       "      <td>front</td>\n",
       "      <td>64.1</td>\n",
       "      <td>48.8</td>\n",
       "      <td>dohc</td>\n",
       "      <td>130</td>\n",
       "      <td>111</td>\n",
       "      <td>21</td>\n",
       "      <td>27</td>\n",
       "      <td>16500</td>\n",
       "    </tr>\n",
       "    <tr>\n",
       "      <td>2</td>\n",
       "      <td>1</td>\n",
       "      <td>122.0</td>\n",
       "      <td>alfa-romero</td>\n",
       "      <td>gas</td>\n",
       "      <td>hatchback</td>\n",
       "      <td>rwd</td>\n",
       "      <td>front</td>\n",
       "      <td>65.5</td>\n",
       "      <td>52.4</td>\n",
       "      <td>ohcv</td>\n",
       "      <td>152</td>\n",
       "      <td>154</td>\n",
       "      <td>19</td>\n",
       "      <td>26</td>\n",
       "      <td>16500</td>\n",
       "    </tr>\n",
       "    <tr>\n",
       "      <td>3</td>\n",
       "      <td>2</td>\n",
       "      <td>164.0</td>\n",
       "      <td>audi</td>\n",
       "      <td>gas</td>\n",
       "      <td>sedan</td>\n",
       "      <td>fwd</td>\n",
       "      <td>front</td>\n",
       "      <td>66.2</td>\n",
       "      <td>54.3</td>\n",
       "      <td>ohc</td>\n",
       "      <td>109</td>\n",
       "      <td>102</td>\n",
       "      <td>24</td>\n",
       "      <td>30</td>\n",
       "      <td>13950</td>\n",
       "    </tr>\n",
       "    <tr>\n",
       "      <td>4</td>\n",
       "      <td>2</td>\n",
       "      <td>164.0</td>\n",
       "      <td>audi</td>\n",
       "      <td>gas</td>\n",
       "      <td>sedan</td>\n",
       "      <td>4wd</td>\n",
       "      <td>front</td>\n",
       "      <td>66.4</td>\n",
       "      <td>54.3</td>\n",
       "      <td>ohc</td>\n",
       "      <td>136</td>\n",
       "      <td>115</td>\n",
       "      <td>18</td>\n",
       "      <td>22</td>\n",
       "      <td>17450</td>\n",
       "    </tr>\n",
       "    <tr>\n",
       "      <td>...</td>\n",
       "      <td>...</td>\n",
       "      <td>...</td>\n",
       "      <td>...</td>\n",
       "      <td>...</td>\n",
       "      <td>...</td>\n",
       "      <td>...</td>\n",
       "      <td>...</td>\n",
       "      <td>...</td>\n",
       "      <td>...</td>\n",
       "      <td>...</td>\n",
       "      <td>...</td>\n",
       "      <td>...</td>\n",
       "      <td>...</td>\n",
       "      <td>...</td>\n",
       "      <td>...</td>\n",
       "    </tr>\n",
       "    <tr>\n",
       "      <td>200</td>\n",
       "      <td>-1</td>\n",
       "      <td>95.0</td>\n",
       "      <td>volvo</td>\n",
       "      <td>gas</td>\n",
       "      <td>sedan</td>\n",
       "      <td>rwd</td>\n",
       "      <td>front</td>\n",
       "      <td>68.9</td>\n",
       "      <td>55.5</td>\n",
       "      <td>ohc</td>\n",
       "      <td>141</td>\n",
       "      <td>114</td>\n",
       "      <td>23</td>\n",
       "      <td>28</td>\n",
       "      <td>16845</td>\n",
       "    </tr>\n",
       "    <tr>\n",
       "      <td>201</td>\n",
       "      <td>-1</td>\n",
       "      <td>95.0</td>\n",
       "      <td>volvo</td>\n",
       "      <td>gas</td>\n",
       "      <td>sedan</td>\n",
       "      <td>rwd</td>\n",
       "      <td>front</td>\n",
       "      <td>68.8</td>\n",
       "      <td>55.5</td>\n",
       "      <td>ohc</td>\n",
       "      <td>141</td>\n",
       "      <td>160</td>\n",
       "      <td>19</td>\n",
       "      <td>25</td>\n",
       "      <td>19045</td>\n",
       "    </tr>\n",
       "    <tr>\n",
       "      <td>202</td>\n",
       "      <td>-1</td>\n",
       "      <td>95.0</td>\n",
       "      <td>volvo</td>\n",
       "      <td>gas</td>\n",
       "      <td>sedan</td>\n",
       "      <td>rwd</td>\n",
       "      <td>front</td>\n",
       "      <td>68.9</td>\n",
       "      <td>55.5</td>\n",
       "      <td>ohcv</td>\n",
       "      <td>173</td>\n",
       "      <td>134</td>\n",
       "      <td>18</td>\n",
       "      <td>23</td>\n",
       "      <td>21485</td>\n",
       "    </tr>\n",
       "    <tr>\n",
       "      <td>203</td>\n",
       "      <td>-1</td>\n",
       "      <td>95.0</td>\n",
       "      <td>volvo</td>\n",
       "      <td>diesel</td>\n",
       "      <td>sedan</td>\n",
       "      <td>rwd</td>\n",
       "      <td>front</td>\n",
       "      <td>68.9</td>\n",
       "      <td>55.5</td>\n",
       "      <td>ohc</td>\n",
       "      <td>145</td>\n",
       "      <td>106</td>\n",
       "      <td>26</td>\n",
       "      <td>27</td>\n",
       "      <td>22470</td>\n",
       "    </tr>\n",
       "    <tr>\n",
       "      <td>204</td>\n",
       "      <td>-1</td>\n",
       "      <td>95.0</td>\n",
       "      <td>volvo</td>\n",
       "      <td>gas</td>\n",
       "      <td>sedan</td>\n",
       "      <td>rwd</td>\n",
       "      <td>front</td>\n",
       "      <td>68.9</td>\n",
       "      <td>55.5</td>\n",
       "      <td>ohc</td>\n",
       "      <td>141</td>\n",
       "      <td>114</td>\n",
       "      <td>19</td>\n",
       "      <td>25</td>\n",
       "      <td>22625</td>\n",
       "    </tr>\n",
       "  </tbody>\n",
       "</table>\n",
       "<p>205 rows × 15 columns</p>\n",
       "</div>"
      ],
      "text/plain": [
       "     symboling  normalized-losses         make fuel-type   body-style  \\\n",
       "0            3              122.0  alfa-romero       gas  convertible   \n",
       "1            3              122.0  alfa-romero       gas  convertible   \n",
       "2            1              122.0  alfa-romero       gas    hatchback   \n",
       "3            2              164.0         audi       gas        sedan   \n",
       "4            2              164.0         audi       gas        sedan   \n",
       "..         ...                ...          ...       ...          ...   \n",
       "200         -1               95.0        volvo       gas        sedan   \n",
       "201         -1               95.0        volvo       gas        sedan   \n",
       "202         -1               95.0        volvo       gas        sedan   \n",
       "203         -1               95.0        volvo    diesel        sedan   \n",
       "204         -1               95.0        volvo       gas        sedan   \n",
       "\n",
       "    drive-wheels engine-location  width  height engine-type  engine-size  \\\n",
       "0            rwd           front   64.1    48.8        dohc          130   \n",
       "1            rwd           front   64.1    48.8        dohc          130   \n",
       "2            rwd           front   65.5    52.4        ohcv          152   \n",
       "3            fwd           front   66.2    54.3         ohc          109   \n",
       "4            4wd           front   66.4    54.3         ohc          136   \n",
       "..           ...             ...    ...     ...         ...          ...   \n",
       "200          rwd           front   68.9    55.5         ohc          141   \n",
       "201          rwd           front   68.8    55.5         ohc          141   \n",
       "202          rwd           front   68.9    55.5        ohcv          173   \n",
       "203          rwd           front   68.9    55.5         ohc          145   \n",
       "204          rwd           front   68.9    55.5         ohc          141   \n",
       "\n",
       "    horsepower  city-mpg  highway-mpg  price  \n",
       "0          111        21           27  13495  \n",
       "1          111        21           27  16500  \n",
       "2          154        19           26  16500  \n",
       "3          102        24           30  13950  \n",
       "4          115        18           22  17450  \n",
       "..         ...       ...          ...    ...  \n",
       "200        114        23           28  16845  \n",
       "201        160        19           25  19045  \n",
       "202        134        18           23  21485  \n",
       "203        106        26           27  22470  \n",
       "204        114        19           25  22625  \n",
       "\n",
       "[205 rows x 15 columns]"
      ]
     },
     "execution_count": 29,
     "metadata": {},
     "output_type": "execute_result"
    }
   ],
   "source": [
    "df"
   ]
  },
  {
   "cell_type": "code",
   "execution_count": null,
   "metadata": {},
   "outputs": [],
   "source": []
  },
  {
   "cell_type": "code",
   "execution_count": 30,
   "metadata": {},
   "outputs": [],
   "source": [
    "df['horsepower'].replace('?',np.nan,inplace=True)\n",
    "df['horsepower'] = df['horsepower'].astype(float)"
   ]
  },
  {
   "cell_type": "code",
   "execution_count": 31,
   "metadata": {},
   "outputs": [],
   "source": [
    "df['horsepower'].fillna(df['horsepower'].mean(),inplace=True)"
   ]
  },
  {
   "cell_type": "code",
   "execution_count": 32,
   "metadata": {},
   "outputs": [
    {
     "data": {
      "text/plain": [
       "array([111.        , 154.        , 102.        , 115.        ,\n",
       "       110.        , 140.        , 160.        , 101.        ,\n",
       "       121.        , 182.        ,  48.        ,  70.        ,\n",
       "        68.        ,  88.        , 145.        ,  58.        ,\n",
       "        76.        ,  60.        ,  86.        , 100.        ,\n",
       "        78.        ,  90.        , 176.        , 262.        ,\n",
       "       135.        ,  84.        ,  64.        , 120.        ,\n",
       "        72.        , 123.        , 155.        , 184.        ,\n",
       "       175.        , 116.        ,  69.        ,  55.        ,\n",
       "        97.        , 152.        , 200.        ,  95.        ,\n",
       "       142.        , 143.        , 207.        , 288.        ,\n",
       "       104.25615764,  73.        ,  82.        ,  94.        ,\n",
       "        62.        ,  56.        , 112.        ,  92.        ,\n",
       "       161.        , 156.        ,  52.        ,  85.        ,\n",
       "       114.        , 162.        , 134.        , 106.        ])"
      ]
     },
     "execution_count": 32,
     "metadata": {},
     "output_type": "execute_result"
    }
   ],
   "source": [
    "df['horsepower'].unique()"
   ]
  },
  {
   "cell_type": "markdown",
   "metadata": {},
   "source": [
    "##### removing outlier"
   ]
  },
  {
   "cell_type": "code",
   "execution_count": 33,
   "metadata": {},
   "outputs": [
    {
     "data": {
      "image/png": "[encoded data removed]",
      "text/plain": [
       "<Figure size 432x288 with 1 Axes>"
      ]
     },
     "metadata": {
      "needs_background": "light"
     },
     "output_type": "display_data"
    }
   ],
   "source": [
    "sns.boxplot(data =df,y='make',x='price')\n",
    "plt.show()"
   ]
  },
  {
   "cell_type": "code",
   "execution_count": 34,
   "metadata": {},
   "outputs": [
    {
     "data": {
      "text/html": [
       "<div>\n",
       "<style scoped>\n",
       "    .dataframe tbody tr th:only-of-type {\n",
       "        vertical-align: middle;\n",
       "    }\n",
       "\n",
       "    .dataframe tbody tr th {\n",
       "        vertical-align: top;\n",
       "    }\n",
       "\n",
       "    .dataframe thead th {\n",
       "        text-align: right;\n",
       "    }\n",
       "</style>\n",
       "<table border=\"1\" class=\"dataframe\">\n",
       "  <thead>\n",
       "    <tr style=\"text-align: right;\">\n",
       "      <th></th>\n",
       "      <th>symboling</th>\n",
       "      <th>normalized-losses</th>\n",
       "      <th>make</th>\n",
       "      <th>fuel-type</th>\n",
       "      <th>body-style</th>\n",
       "      <th>drive-wheels</th>\n",
       "      <th>engine-location</th>\n",
       "      <th>width</th>\n",
       "      <th>height</th>\n",
       "      <th>engine-type</th>\n",
       "      <th>engine-size</th>\n",
       "      <th>horsepower</th>\n",
       "      <th>city-mpg</th>\n",
       "      <th>highway-mpg</th>\n",
       "      <th>price</th>\n",
       "    </tr>\n",
       "  </thead>\n",
       "  <tbody>\n",
       "    <tr>\n",
       "      <td>45</td>\n",
       "      <td>0</td>\n",
       "      <td>122.0</td>\n",
       "      <td>isuzu</td>\n",
       "      <td>gas</td>\n",
       "      <td>sedan</td>\n",
       "      <td>fwd</td>\n",
       "      <td>front</td>\n",
       "      <td>63.6</td>\n",
       "      <td>52.0</td>\n",
       "      <td>ohc</td>\n",
       "      <td>90</td>\n",
       "      <td>70.0</td>\n",
       "      <td>38</td>\n",
       "      <td>43</td>\n",
       "      <td>23000</td>\n",
       "    </tr>\n",
       "  </tbody>\n",
       "</table>\n",
       "</div>"
      ],
      "text/plain": [
       "    symboling  normalized-losses   make fuel-type body-style drive-wheels  \\\n",
       "45          0              122.0  isuzu       gas      sedan          fwd   \n",
       "\n",
       "   engine-location  width  height engine-type  engine-size  horsepower  \\\n",
       "45           front   63.6    52.0         ohc           90        70.0   \n",
       "\n",
       "    city-mpg  highway-mpg  price  \n",
       "45        38           43  23000  "
      ]
     },
     "execution_count": 34,
     "metadata": {},
     "output_type": "execute_result"
    }
   ],
   "source": [
    "df[(df['make'] == 'isuzu') & (df['price'] > 22000)]"
   ]
  },
  {
   "cell_type": "code",
   "execution_count": 35,
   "metadata": {},
   "outputs": [],
   "source": [
    "df.drop(45,inplace=True)"
   ]
  },
  {
   "cell_type": "code",
   "execution_count": 36,
   "metadata": {},
   "outputs": [
    {
     "data": {
      "text/html": [
       "<div>\n",
       "<style scoped>\n",
       "    .dataframe tbody tr th:only-of-type {\n",
       "        vertical-align: middle;\n",
       "    }\n",
       "\n",
       "    .dataframe tbody tr th {\n",
       "        vertical-align: top;\n",
       "    }\n",
       "\n",
       "    .dataframe thead th {\n",
       "        text-align: right;\n",
       "    }\n",
       "</style>\n",
       "<table border=\"1\" class=\"dataframe\">\n",
       "  <thead>\n",
       "    <tr style=\"text-align: right;\">\n",
       "      <th></th>\n",
       "      <th>symboling</th>\n",
       "      <th>normalized-losses</th>\n",
       "      <th>make</th>\n",
       "      <th>fuel-type</th>\n",
       "      <th>body-style</th>\n",
       "      <th>drive-wheels</th>\n",
       "      <th>engine-location</th>\n",
       "      <th>width</th>\n",
       "      <th>height</th>\n",
       "      <th>engine-type</th>\n",
       "      <th>engine-size</th>\n",
       "      <th>horsepower</th>\n",
       "      <th>city-mpg</th>\n",
       "      <th>highway-mpg</th>\n",
       "      <th>price</th>\n",
       "    </tr>\n",
       "  </thead>\n",
       "  <tbody>\n",
       "    <tr>\n",
       "      <td>124</td>\n",
       "      <td>3</td>\n",
       "      <td>122.0</td>\n",
       "      <td>plymouth</td>\n",
       "      <td>gas</td>\n",
       "      <td>hatchback</td>\n",
       "      <td>rwd</td>\n",
       "      <td>front</td>\n",
       "      <td>66.3</td>\n",
       "      <td>50.2</td>\n",
       "      <td>ohc</td>\n",
       "      <td>156</td>\n",
       "      <td>145.0</td>\n",
       "      <td>19</td>\n",
       "      <td>24</td>\n",
       "      <td>12764</td>\n",
       "    </tr>\n",
       "  </tbody>\n",
       "</table>\n",
       "</div>"
      ],
      "text/plain": [
       "     symboling  normalized-losses      make fuel-type body-style drive-wheels  \\\n",
       "124          3              122.0  plymouth       gas  hatchback          rwd   \n",
       "\n",
       "    engine-location  width  height engine-type  engine-size  horsepower  \\\n",
       "124           front   66.3    50.2         ohc          156       145.0   \n",
       "\n",
       "     city-mpg  highway-mpg  price  \n",
       "124        19           24  12764  "
      ]
     },
     "execution_count": 36,
     "metadata": {},
     "output_type": "execute_result"
    }
   ],
   "source": [
    "df[(df['make'] == 'plymouth') & (df['price'] > 10000)]"
   ]
  },
  {
   "cell_type": "code",
   "execution_count": 37,
   "metadata": {},
   "outputs": [],
   "source": [
    "df.drop(124,inplace=True)"
   ]
  },
  {
   "cell_type": "code",
   "execution_count": 38,
   "metadata": {},
   "outputs": [
    {
     "data": {
      "text/html": [
       "<div>\n",
       "<style scoped>\n",
       "    .dataframe tbody tr th:only-of-type {\n",
       "        vertical-align: middle;\n",
       "    }\n",
       "\n",
       "    .dataframe tbody tr th {\n",
       "        vertical-align: top;\n",
       "    }\n",
       "\n",
       "    .dataframe thead th {\n",
       "        text-align: right;\n",
       "    }\n",
       "</style>\n",
       "<table border=\"1\" class=\"dataframe\">\n",
       "  <thead>\n",
       "    <tr style=\"text-align: right;\">\n",
       "      <th></th>\n",
       "      <th>symboling</th>\n",
       "      <th>normalized-losses</th>\n",
       "      <th>make</th>\n",
       "      <th>fuel-type</th>\n",
       "      <th>body-style</th>\n",
       "      <th>drive-wheels</th>\n",
       "      <th>engine-location</th>\n",
       "      <th>width</th>\n",
       "      <th>height</th>\n",
       "      <th>engine-type</th>\n",
       "      <th>engine-size</th>\n",
       "      <th>horsepower</th>\n",
       "      <th>city-mpg</th>\n",
       "      <th>highway-mpg</th>\n",
       "      <th>price</th>\n",
       "    </tr>\n",
       "  </thead>\n",
       "  <tbody>\n",
       "    <tr>\n",
       "      <td>172</td>\n",
       "      <td>2</td>\n",
       "      <td>134.0</td>\n",
       "      <td>toyota</td>\n",
       "      <td>gas</td>\n",
       "      <td>convertible</td>\n",
       "      <td>rwd</td>\n",
       "      <td>front</td>\n",
       "      <td>65.6</td>\n",
       "      <td>53.0</td>\n",
       "      <td>ohc</td>\n",
       "      <td>146</td>\n",
       "      <td>116.0</td>\n",
       "      <td>24</td>\n",
       "      <td>30</td>\n",
       "      <td>17669</td>\n",
       "    </tr>\n",
       "    <tr>\n",
       "      <td>178</td>\n",
       "      <td>3</td>\n",
       "      <td>197.0</td>\n",
       "      <td>toyota</td>\n",
       "      <td>gas</td>\n",
       "      <td>hatchback</td>\n",
       "      <td>rwd</td>\n",
       "      <td>front</td>\n",
       "      <td>67.7</td>\n",
       "      <td>52.0</td>\n",
       "      <td>dohc</td>\n",
       "      <td>171</td>\n",
       "      <td>161.0</td>\n",
       "      <td>20</td>\n",
       "      <td>24</td>\n",
       "      <td>16558</td>\n",
       "    </tr>\n",
       "    <tr>\n",
       "      <td>179</td>\n",
       "      <td>3</td>\n",
       "      <td>197.0</td>\n",
       "      <td>toyota</td>\n",
       "      <td>gas</td>\n",
       "      <td>hatchback</td>\n",
       "      <td>rwd</td>\n",
       "      <td>front</td>\n",
       "      <td>67.7</td>\n",
       "      <td>52.0</td>\n",
       "      <td>dohc</td>\n",
       "      <td>171</td>\n",
       "      <td>161.0</td>\n",
       "      <td>19</td>\n",
       "      <td>24</td>\n",
       "      <td>15998</td>\n",
       "    </tr>\n",
       "    <tr>\n",
       "      <td>180</td>\n",
       "      <td>-1</td>\n",
       "      <td>90.0</td>\n",
       "      <td>toyota</td>\n",
       "      <td>gas</td>\n",
       "      <td>sedan</td>\n",
       "      <td>rwd</td>\n",
       "      <td>front</td>\n",
       "      <td>66.5</td>\n",
       "      <td>54.1</td>\n",
       "      <td>dohc</td>\n",
       "      <td>171</td>\n",
       "      <td>156.0</td>\n",
       "      <td>20</td>\n",
       "      <td>24</td>\n",
       "      <td>15690</td>\n",
       "    </tr>\n",
       "    <tr>\n",
       "      <td>181</td>\n",
       "      <td>-1</td>\n",
       "      <td>122.0</td>\n",
       "      <td>toyota</td>\n",
       "      <td>gas</td>\n",
       "      <td>wagon</td>\n",
       "      <td>rwd</td>\n",
       "      <td>front</td>\n",
       "      <td>66.5</td>\n",
       "      <td>54.1</td>\n",
       "      <td>dohc</td>\n",
       "      <td>161</td>\n",
       "      <td>156.0</td>\n",
       "      <td>19</td>\n",
       "      <td>24</td>\n",
       "      <td>15750</td>\n",
       "    </tr>\n",
       "  </tbody>\n",
       "</table>\n",
       "</div>"
      ],
      "text/plain": [
       "     symboling  normalized-losses    make fuel-type   body-style drive-wheels  \\\n",
       "172          2              134.0  toyota       gas  convertible          rwd   \n",
       "178          3              197.0  toyota       gas    hatchback          rwd   \n",
       "179          3              197.0  toyota       gas    hatchback          rwd   \n",
       "180         -1               90.0  toyota       gas        sedan          rwd   \n",
       "181         -1              122.0  toyota       gas        wagon          rwd   \n",
       "\n",
       "    engine-location  width  height engine-type  engine-size  horsepower  \\\n",
       "172           front   65.6    53.0         ohc          146       116.0   \n",
       "178           front   67.7    52.0        dohc          171       161.0   \n",
       "179           front   67.7    52.0        dohc          171       161.0   \n",
       "180           front   66.5    54.1        dohc          171       156.0   \n",
       "181           front   66.5    54.1        dohc          161       156.0   \n",
       "\n",
       "     city-mpg  highway-mpg  price  \n",
       "172        24           30  17669  \n",
       "178        20           24  16558  \n",
       "179        19           24  15998  \n",
       "180        20           24  15690  \n",
       "181        19           24  15750  "
      ]
     },
     "execution_count": 38,
     "metadata": {},
     "output_type": "execute_result"
    }
   ],
   "source": [
    "df[(df['make'] == 'toyota') & (df['price'] > 15000)]"
   ]
  },
  {
   "cell_type": "code",
   "execution_count": 39,
   "metadata": {},
   "outputs": [],
   "source": [
    "df.drop([172,178,179,180,181],inplace =True)"
   ]
  },
  {
   "cell_type": "code",
   "execution_count": 40,
   "metadata": {},
   "outputs": [
    {
     "data": {
      "image/png": "[encoded data removed]",
      "text/plain": [
       "<Figure size 432x288 with 1 Axes>"
      ]
     },
     "metadata": {
      "needs_background": "light"
     },
     "output_type": "display_data"
    }
   ],
   "source": [
    "sns.boxplot(data=df,y='make',x='price')\n",
    "plt.show()"
   ]
  },
  {
   "cell_type": "code",
   "execution_count": null,
   "metadata": {},
   "outputs": [],
   "source": []
  },
  {
   "cell_type": "code",
   "execution_count": null,
   "metadata": {},
   "outputs": [],
   "source": []
  },
  {
   "cell_type": "markdown",
   "metadata": {},
   "source": [
    "#### Handling the categorical data"
   ]
  },
  {
   "cell_type": "code",
   "execution_count": 41,
   "metadata": {},
   "outputs": [],
   "source": [
    "df_num = df.select_dtypes(['float64','int64'])\n",
    "df_cat = df.select_dtypes('object')"
   ]
  },
  {
   "cell_type": "code",
   "execution_count": 42,
   "metadata": {},
   "outputs": [
    {
     "data": {
      "text/html": [
       "<div>\n",
       "<style scoped>\n",
       "    .dataframe tbody tr th:only-of-type {\n",
       "        vertical-align: middle;\n",
       "    }\n",
       "\n",
       "    .dataframe tbody tr th {\n",
       "        vertical-align: top;\n",
       "    }\n",
       "\n",
       "    .dataframe thead th {\n",
       "        text-align: right;\n",
       "    }\n",
       "</style>\n",
       "<table border=\"1\" class=\"dataframe\">\n",
       "  <thead>\n",
       "    <tr style=\"text-align: right;\">\n",
       "      <th></th>\n",
       "      <th>symboling</th>\n",
       "      <th>normalized-losses</th>\n",
       "      <th>width</th>\n",
       "      <th>height</th>\n",
       "      <th>engine-size</th>\n",
       "      <th>horsepower</th>\n",
       "      <th>city-mpg</th>\n",
       "      <th>highway-mpg</th>\n",
       "      <th>price</th>\n",
       "    </tr>\n",
       "  </thead>\n",
       "  <tbody>\n",
       "    <tr>\n",
       "      <td>0</td>\n",
       "      <td>3</td>\n",
       "      <td>122.0</td>\n",
       "      <td>64.1</td>\n",
       "      <td>48.8</td>\n",
       "      <td>130</td>\n",
       "      <td>111.0</td>\n",
       "      <td>21</td>\n",
       "      <td>27</td>\n",
       "      <td>13495</td>\n",
       "    </tr>\n",
       "    <tr>\n",
       "      <td>1</td>\n",
       "      <td>3</td>\n",
       "      <td>122.0</td>\n",
       "      <td>64.1</td>\n",
       "      <td>48.8</td>\n",
       "      <td>130</td>\n",
       "      <td>111.0</td>\n",
       "      <td>21</td>\n",
       "      <td>27</td>\n",
       "      <td>16500</td>\n",
       "    </tr>\n",
       "    <tr>\n",
       "      <td>2</td>\n",
       "      <td>1</td>\n",
       "      <td>122.0</td>\n",
       "      <td>65.5</td>\n",
       "      <td>52.4</td>\n",
       "      <td>152</td>\n",
       "      <td>154.0</td>\n",
       "      <td>19</td>\n",
       "      <td>26</td>\n",
       "      <td>16500</td>\n",
       "    </tr>\n",
       "    <tr>\n",
       "      <td>3</td>\n",
       "      <td>2</td>\n",
       "      <td>164.0</td>\n",
       "      <td>66.2</td>\n",
       "      <td>54.3</td>\n",
       "      <td>109</td>\n",
       "      <td>102.0</td>\n",
       "      <td>24</td>\n",
       "      <td>30</td>\n",
       "      <td>13950</td>\n",
       "    </tr>\n",
       "    <tr>\n",
       "      <td>4</td>\n",
       "      <td>2</td>\n",
       "      <td>164.0</td>\n",
       "      <td>66.4</td>\n",
       "      <td>54.3</td>\n",
       "      <td>136</td>\n",
       "      <td>115.0</td>\n",
       "      <td>18</td>\n",
       "      <td>22</td>\n",
       "      <td>17450</td>\n",
       "    </tr>\n",
       "  </tbody>\n",
       "</table>\n",
       "</div>"
      ],
      "text/plain": [
       "   symboling  normalized-losses  width  height  engine-size  horsepower  \\\n",
       "0          3              122.0   64.1    48.8          130       111.0   \n",
       "1          3              122.0   64.1    48.8          130       111.0   \n",
       "2          1              122.0   65.5    52.4          152       154.0   \n",
       "3          2              164.0   66.2    54.3          109       102.0   \n",
       "4          2              164.0   66.4    54.3          136       115.0   \n",
       "\n",
       "   city-mpg  highway-mpg  price  \n",
       "0        21           27  13495  \n",
       "1        21           27  16500  \n",
       "2        19           26  16500  \n",
       "3        24           30  13950  \n",
       "4        18           22  17450  "
      ]
     },
     "execution_count": 42,
     "metadata": {},
     "output_type": "execute_result"
    }
   ],
   "source": [
    "df_num.head()"
   ]
  },
  {
   "cell_type": "code",
   "execution_count": 43,
   "metadata": {},
   "outputs": [
    {
     "data": {
      "text/html": [
       "<div>\n",
       "<style scoped>\n",
       "    .dataframe tbody tr th:only-of-type {\n",
       "        vertical-align: middle;\n",
       "    }\n",
       "\n",
       "    .dataframe tbody tr th {\n",
       "        vertical-align: top;\n",
       "    }\n",
       "\n",
       "    .dataframe thead th {\n",
       "        text-align: right;\n",
       "    }\n",
       "</style>\n",
       "<table border=\"1\" class=\"dataframe\">\n",
       "  <thead>\n",
       "    <tr style=\"text-align: right;\">\n",
       "      <th></th>\n",
       "      <th>make</th>\n",
       "      <th>fuel-type</th>\n",
       "      <th>body-style</th>\n",
       "      <th>drive-wheels</th>\n",
       "      <th>engine-location</th>\n",
       "      <th>engine-type</th>\n",
       "    </tr>\n",
       "  </thead>\n",
       "  <tbody>\n",
       "    <tr>\n",
       "      <td>0</td>\n",
       "      <td>alfa-romero</td>\n",
       "      <td>gas</td>\n",
       "      <td>convertible</td>\n",
       "      <td>rwd</td>\n",
       "      <td>front</td>\n",
       "      <td>dohc</td>\n",
       "    </tr>\n",
       "    <tr>\n",
       "      <td>1</td>\n",
       "      <td>alfa-romero</td>\n",
       "      <td>gas</td>\n",
       "      <td>convertible</td>\n",
       "      <td>rwd</td>\n",
       "      <td>front</td>\n",
       "      <td>dohc</td>\n",
       "    </tr>\n",
       "    <tr>\n",
       "      <td>2</td>\n",
       "      <td>alfa-romero</td>\n",
       "      <td>gas</td>\n",
       "      <td>hatchback</td>\n",
       "      <td>rwd</td>\n",
       "      <td>front</td>\n",
       "      <td>ohcv</td>\n",
       "    </tr>\n",
       "    <tr>\n",
       "      <td>3</td>\n",
       "      <td>audi</td>\n",
       "      <td>gas</td>\n",
       "      <td>sedan</td>\n",
       "      <td>fwd</td>\n",
       "      <td>front</td>\n",
       "      <td>ohc</td>\n",
       "    </tr>\n",
       "    <tr>\n",
       "      <td>4</td>\n",
       "      <td>audi</td>\n",
       "      <td>gas</td>\n",
       "      <td>sedan</td>\n",
       "      <td>4wd</td>\n",
       "      <td>front</td>\n",
       "      <td>ohc</td>\n",
       "    </tr>\n",
       "  </tbody>\n",
       "</table>\n",
       "</div>"
      ],
      "text/plain": [
       "          make fuel-type   body-style drive-wheels engine-location engine-type\n",
       "0  alfa-romero       gas  convertible          rwd           front        dohc\n",
       "1  alfa-romero       gas  convertible          rwd           front        dohc\n",
       "2  alfa-romero       gas    hatchback          rwd           front        ohcv\n",
       "3         audi       gas        sedan          fwd           front         ohc\n",
       "4         audi       gas        sedan          4wd           front         ohc"
      ]
     },
     "execution_count": 43,
     "metadata": {},
     "output_type": "execute_result"
    }
   ],
   "source": [
    "df_cat.head()"
   ]
  },
  {
   "cell_type": "code",
   "execution_count": 44,
   "metadata": {},
   "outputs": [],
   "source": [
    "fuel_data=pd.get_dummies(df_cat['fuel-type'])\n",
    "\n",
    "# one hot label encoding"
   ]
  },
  {
   "cell_type": "code",
   "execution_count": 45,
   "metadata": {},
   "outputs": [],
   "source": [
    "#pd.concat([df_cat,fuel_data],axis=1)\n",
    "#then drop the fuel-type column"
   ]
  },
  {
   "cell_type": "code",
   "execution_count": 46,
   "metadata": {},
   "outputs": [],
   "source": [
    "from sklearn.preprocessing import LabelEncoder"
   ]
  },
  {
   "cell_type": "code",
   "execution_count": 47,
   "metadata": {},
   "outputs": [],
   "source": [
    "le =LabelEncoder()"
   ]
  },
  {
   "cell_type": "code",
   "execution_count": 48,
   "metadata": {},
   "outputs": [
    {
     "data": {
      "text/plain": [
       "array([0, 0, 2, 3, 3, 3, 3, 4, 3, 2, 3, 3, 3, 3, 3, 3, 3, 3, 2, 2, 3, 2,\n",
       "       2, 2, 2, 3, 3, 3, 4, 2, 2, 2, 2, 2, 2, 3, 4, 2, 2, 3, 3, 3, 3, 3,\n",
       "       3, 2, 3, 3, 3, 2, 2, 2, 3, 3, 2, 2, 2, 2, 2, 3, 2, 3, 3, 2, 3, 3,\n",
       "       3, 4, 1, 3, 3, 0, 3, 1, 2, 2, 2, 2, 2, 2, 2, 2, 2, 2, 3, 3, 3, 3,\n",
       "       3, 3, 3, 3, 4, 3, 2, 3, 4, 1, 2, 3, 3, 4, 3, 2, 2, 2, 3, 3, 4, 4,\n",
       "       3, 3, 4, 4, 3, 3, 3, 2, 2, 2, 3, 3, 4, 2, 1, 1, 0, 2, 4, 2, 2, 3,\n",
       "       2, 3, 2, 3, 2, 2, 2, 3, 3, 3, 3, 3, 4, 4, 4, 4, 2, 2, 2, 4, 4, 4,\n",
       "       3, 2, 3, 2, 3, 2, 3, 3, 2, 3, 2, 1, 1, 2, 1, 2, 3, 3, 2, 3, 2, 3,\n",
       "       3, 3, 3, 3, 3, 3, 0, 2, 3, 3, 4, 3, 4, 3, 4, 3, 4, 3, 3, 3, 3, 3])"
      ]
     },
     "execution_count": 48,
     "metadata": {},
     "output_type": "execute_result"
    }
   ],
   "source": [
    "le.fit_transform(df_cat['body-style'])"
   ]
  },
  {
   "cell_type": "code",
   "execution_count": 49,
   "metadata": {},
   "outputs": [
    {
     "name": "stdout",
     "output_type": "stream",
     "text": [
      "make\n",
      "fuel-type\n",
      "body-style\n",
      "drive-wheels\n",
      "engine-location\n",
      "engine-type\n"
     ]
    }
   ],
   "source": [
    "for col in df_cat:\n",
    "    print(col)"
   ]
  },
  {
   "cell_type": "code",
   "execution_count": 50,
   "metadata": {},
   "outputs": [],
   "source": [
    "for col in df_cat:\n",
    "    le=LabelEncoder()\n",
    "    df_cat[col]=le.fit_transform(df_cat[col])"
   ]
  },
  {
   "cell_type": "code",
   "execution_count": 51,
   "metadata": {},
   "outputs": [
    {
     "data": {
      "text/html": [
       "<div>\n",
       "<style scoped>\n",
       "    .dataframe tbody tr th:only-of-type {\n",
       "        vertical-align: middle;\n",
       "    }\n",
       "\n",
       "    .dataframe tbody tr th {\n",
       "        vertical-align: top;\n",
       "    }\n",
       "\n",
       "    .dataframe thead th {\n",
       "        text-align: right;\n",
       "    }\n",
       "</style>\n",
       "<table border=\"1\" class=\"dataframe\">\n",
       "  <thead>\n",
       "    <tr style=\"text-align: right;\">\n",
       "      <th></th>\n",
       "      <th>make</th>\n",
       "      <th>fuel-type</th>\n",
       "      <th>body-style</th>\n",
       "      <th>drive-wheels</th>\n",
       "      <th>engine-location</th>\n",
       "      <th>engine-type</th>\n",
       "    </tr>\n",
       "  </thead>\n",
       "  <tbody>\n",
       "    <tr>\n",
       "      <td>0</td>\n",
       "      <td>0</td>\n",
       "      <td>1</td>\n",
       "      <td>0</td>\n",
       "      <td>2</td>\n",
       "      <td>0</td>\n",
       "      <td>0</td>\n",
       "    </tr>\n",
       "    <tr>\n",
       "      <td>1</td>\n",
       "      <td>0</td>\n",
       "      <td>1</td>\n",
       "      <td>0</td>\n",
       "      <td>2</td>\n",
       "      <td>0</td>\n",
       "      <td>0</td>\n",
       "    </tr>\n",
       "    <tr>\n",
       "      <td>2</td>\n",
       "      <td>0</td>\n",
       "      <td>1</td>\n",
       "      <td>2</td>\n",
       "      <td>2</td>\n",
       "      <td>0</td>\n",
       "      <td>5</td>\n",
       "    </tr>\n",
       "    <tr>\n",
       "      <td>3</td>\n",
       "      <td>1</td>\n",
       "      <td>1</td>\n",
       "      <td>3</td>\n",
       "      <td>1</td>\n",
       "      <td>0</td>\n",
       "      <td>3</td>\n",
       "    </tr>\n",
       "    <tr>\n",
       "      <td>4</td>\n",
       "      <td>1</td>\n",
       "      <td>1</td>\n",
       "      <td>3</td>\n",
       "      <td>0</td>\n",
       "      <td>0</td>\n",
       "      <td>3</td>\n",
       "    </tr>\n",
       "  </tbody>\n",
       "</table>\n",
       "</div>"
      ],
      "text/plain": [
       "   make  fuel-type  body-style  drive-wheels  engine-location  engine-type\n",
       "0     0          1           0             2                0            0\n",
       "1     0          1           0             2                0            0\n",
       "2     0          1           2             2                0            5\n",
       "3     1          1           3             1                0            3\n",
       "4     1          1           3             0                0            3"
      ]
     },
     "execution_count": 51,
     "metadata": {},
     "output_type": "execute_result"
    }
   ],
   "source": [
    "df_cat.head()"
   ]
  },
  {
   "cell_type": "markdown",
   "metadata": {},
   "source": [
    "#### skewness of numerical data"
   ]
  },
  {
   "cell_type": "code",
   "execution_count": 52,
   "metadata": {},
   "outputs": [
    {
     "data": {
      "image/png": "[encoded data removed]",
      "text/plain": [
       "<Figure size 432x288 with 2 Axes>"
      ]
     },
     "metadata": {
      "needs_background": "light"
     },
     "output_type": "display_data"
    }
   ],
   "source": [
    "sns.heatmap(df_num.corr(),annot =True)\n",
    "plt.show()"
   ]
  },
  {
   "cell_type": "code",
   "execution_count": 53,
   "metadata": {},
   "outputs": [],
   "source": [
    "from scipy.stats import skew"
   ]
  },
  {
   "cell_type": "code",
   "execution_count": 54,
   "metadata": {},
   "outputs": [
    {
     "data": {
      "text/plain": [
       "0.030081939430128466"
      ]
     },
     "execution_count": 54,
     "metadata": {},
     "output_type": "execute_result"
    }
   ],
   "source": [
    "skew(df_num['height'])"
   ]
  },
  {
   "cell_type": "code",
   "execution_count": 55,
   "metadata": {},
   "outputs": [
    {
     "data": {
      "text/plain": [
       "0.8441395764870351"
      ]
     },
     "execution_count": 55,
     "metadata": {},
     "output_type": "execute_result"
    }
   ],
   "source": [
    "skew(df_num['normalized-losses'])"
   ]
  },
  {
   "cell_type": "code",
   "execution_count": 56,
   "metadata": {},
   "outputs": [
    {
     "data": {
      "text/plain": [
       "<matplotlib.axes._subplots.AxesSubplot at 0x7d13e591c8>"
      ]
     },
     "execution_count": 56,
     "metadata": {},
     "output_type": "execute_result"
    },
    {
     "data": {
      "image/png": "[encoded data removed]",
      "text/plain": [
       "<Figure size 432x288 with 1 Axes>"
      ]
     },
     "metadata": {
      "needs_background": "light"
     },
     "output_type": "display_data"
    }
   ],
   "source": [
    "sns.distplot(df_num['height'])"
   ]
  },
  {
   "cell_type": "code",
   "execution_count": 57,
   "metadata": {},
   "outputs": [
    {
     "data": {
      "text/plain": [
       "<matplotlib.axes._subplots.AxesSubplot at 0x7d13f7a408>"
      ]
     },
     "execution_count": 57,
     "metadata": {},
     "output_type": "execute_result"
    },
    {
     "data": {
      "image/png": "[encoded data removed]",
      "text/plain": [
       "<Figure size 432x288 with 1 Axes>"
      ]
     },
     "metadata": {
      "needs_background": "light"
     },
     "output_type": "display_data"
    }
   ],
   "source": [
    "sns.distplot(df_num['normalized-losses'])"
   ]
  },
  {
   "cell_type": "code",
   "execution_count": 58,
   "metadata": {},
   "outputs": [],
   "source": [
    "df_num['normalized-losses']=np.sqrt(df_num['normalized-losses'])"
   ]
  },
  {
   "cell_type": "code",
   "execution_count": 59,
   "metadata": {},
   "outputs": [
    {
     "data": {
      "text/plain": [
       "<matplotlib.axes._subplots.AxesSubplot at 0x7d13de5e48>"
      ]
     },
     "execution_count": 59,
     "metadata": {},
     "output_type": "execute_result"
    },
    {
     "data": {
      "image/png": "[encoded data removed]",
      "text/plain": [
       "<Figure size 432x288 with 1 Axes>"
      ]
     },
     "metadata": {
      "needs_background": "light"
     },
     "output_type": "display_data"
    }
   ],
   "source": [
    "sns.distplot(df_num['normalized-losses'])"
   ]
  },
  {
   "cell_type": "code",
   "execution_count": 60,
   "metadata": {},
   "outputs": [
    {
     "data": {
      "text/plain": [
       "0.40810117621619624"
      ]
     },
     "execution_count": 60,
     "metadata": {},
     "output_type": "execute_result"
    }
   ],
   "source": [
    "skew(df_num['normalized-losses'])"
   ]
  },
  {
   "cell_type": "markdown",
   "metadata": {},
   "source": [
    "#### scaling"
   ]
  },
  {
   "cell_type": "code",
   "execution_count": 61,
   "metadata": {},
   "outputs": [
    {
     "data": {
      "text/html": [
       "<div>\n",
       "<style scoped>\n",
       "    .dataframe tbody tr th:only-of-type {\n",
       "        vertical-align: middle;\n",
       "    }\n",
       "\n",
       "    .dataframe tbody tr th {\n",
       "        vertical-align: top;\n",
       "    }\n",
       "\n",
       "    .dataframe thead th {\n",
       "        text-align: right;\n",
       "    }\n",
       "</style>\n",
       "<table border=\"1\" class=\"dataframe\">\n",
       "  <thead>\n",
       "    <tr style=\"text-align: right;\">\n",
       "      <th></th>\n",
       "      <th>symboling</th>\n",
       "      <th>normalized-losses</th>\n",
       "      <th>width</th>\n",
       "      <th>height</th>\n",
       "      <th>engine-size</th>\n",
       "      <th>horsepower</th>\n",
       "      <th>city-mpg</th>\n",
       "      <th>highway-mpg</th>\n",
       "      <th>price</th>\n",
       "    </tr>\n",
       "  </thead>\n",
       "  <tbody>\n",
       "    <tr>\n",
       "      <td>0</td>\n",
       "      <td>3</td>\n",
       "      <td>11.045361</td>\n",
       "      <td>64.1</td>\n",
       "      <td>48.8</td>\n",
       "      <td>130</td>\n",
       "      <td>111.0</td>\n",
       "      <td>21</td>\n",
       "      <td>27</td>\n",
       "      <td>13495</td>\n",
       "    </tr>\n",
       "    <tr>\n",
       "      <td>1</td>\n",
       "      <td>3</td>\n",
       "      <td>11.045361</td>\n",
       "      <td>64.1</td>\n",
       "      <td>48.8</td>\n",
       "      <td>130</td>\n",
       "      <td>111.0</td>\n",
       "      <td>21</td>\n",
       "      <td>27</td>\n",
       "      <td>16500</td>\n",
       "    </tr>\n",
       "    <tr>\n",
       "      <td>2</td>\n",
       "      <td>1</td>\n",
       "      <td>11.045361</td>\n",
       "      <td>65.5</td>\n",
       "      <td>52.4</td>\n",
       "      <td>152</td>\n",
       "      <td>154.0</td>\n",
       "      <td>19</td>\n",
       "      <td>26</td>\n",
       "      <td>16500</td>\n",
       "    </tr>\n",
       "    <tr>\n",
       "      <td>3</td>\n",
       "      <td>2</td>\n",
       "      <td>12.806248</td>\n",
       "      <td>66.2</td>\n",
       "      <td>54.3</td>\n",
       "      <td>109</td>\n",
       "      <td>102.0</td>\n",
       "      <td>24</td>\n",
       "      <td>30</td>\n",
       "      <td>13950</td>\n",
       "    </tr>\n",
       "    <tr>\n",
       "      <td>4</td>\n",
       "      <td>2</td>\n",
       "      <td>12.806248</td>\n",
       "      <td>66.4</td>\n",
       "      <td>54.3</td>\n",
       "      <td>136</td>\n",
       "      <td>115.0</td>\n",
       "      <td>18</td>\n",
       "      <td>22</td>\n",
       "      <td>17450</td>\n",
       "    </tr>\n",
       "  </tbody>\n",
       "</table>\n",
       "</div>"
      ],
      "text/plain": [
       "   symboling  normalized-losses  width  height  engine-size  horsepower  \\\n",
       "0          3          11.045361   64.1    48.8          130       111.0   \n",
       "1          3          11.045361   64.1    48.8          130       111.0   \n",
       "2          1          11.045361   65.5    52.4          152       154.0   \n",
       "3          2          12.806248   66.2    54.3          109       102.0   \n",
       "4          2          12.806248   66.4    54.3          136       115.0   \n",
       "\n",
       "   city-mpg  highway-mpg  price  \n",
       "0        21           27  13495  \n",
       "1        21           27  16500  \n",
       "2        19           26  16500  \n",
       "3        24           30  13950  \n",
       "4        18           22  17450  "
      ]
     },
     "execution_count": 61,
     "metadata": {},
     "output_type": "execute_result"
    }
   ],
   "source": [
    "df_num.head()"
   ]
  },
  {
   "cell_type": "code",
   "execution_count": 63,
   "metadata": {},
   "outputs": [],
   "source": [
    "from sklearn.preprocessing import StandardScaler\n",
    "from sklearn.preprocessing import MinMaxScaler"
   ]
  },
  {
   "cell_type": "code",
   "execution_count": 64,
   "metadata": {},
   "outputs": [],
   "source": [
    "ss=StandardScaler()"
   ]
  },
  {
   "cell_type": "code",
   "execution_count": 66,
   "metadata": {},
   "outputs": [
    {
     "data": {
      "text/plain": [
       "array([[ 0.09571832],\n",
       "       [ 0.09571832],\n",
       "       [ 0.6235019 ],\n",
       "       [-0.40807509],\n",
       "       [ 0.2396593 ],\n",
       "       [ 0.2396593 ],\n",
       "       [ 0.2396593 ],\n",
       "       [ 0.2396593 ],\n",
       "       [ 0.11970849],\n",
       "       [ 0.11970849],\n",
       "       [-0.43206525],\n",
       "       [-0.43206525],\n",
       "       [ 0.91138385],\n",
       "       [ 0.91138385],\n",
       "       [ 0.91138385],\n",
       "       [ 1.99094115],\n",
       "       [ 1.99094115],\n",
       "       [ 1.99094115],\n",
       "       [-1.55960288],\n",
       "       [-0.86388817],\n",
       "       [-0.86388817],\n",
       "       [-0.86388817],\n",
       "       [-0.86388817],\n",
       "       [-0.67196687],\n",
       "       [-0.86388817],\n",
       "       [-0.86388817],\n",
       "       [-0.86388817],\n",
       "       [-0.67196687],\n",
       "       [-0.09620297],\n",
       "       [ 0.71946255],\n",
       "       [-0.81590785],\n",
       "       [-0.81590785],\n",
       "       [-1.12777996],\n",
       "       [-0.81590785],\n",
       "       [-0.81590785],\n",
       "       [-0.81590785],\n",
       "       [-0.81590785],\n",
       "       [-0.38408492],\n",
       "       [-0.38408492],\n",
       "       [-0.38408492],\n",
       "       [-0.38408492],\n",
       "       [-0.38408492],\n",
       "       [-0.38408492],\n",
       "       [-0.36009476],\n",
       "       [-0.86388817],\n",
       "       [-0.16817346],\n",
       "       [ 3.16645911],\n",
       "       [ 3.16645911],\n",
       "       [ 4.79779015],\n",
       "       [-0.83989801],\n",
       "       [-0.83989801],\n",
       "       [-0.83989801],\n",
       "       [-0.83989801],\n",
       "       [-0.83989801],\n",
       "       [-1.34369142],\n",
       "       [-1.34369142],\n",
       "       [-1.34369142],\n",
       "       [-1.10378979],\n",
       "       [-0.09620297],\n",
       "       [-0.09620297],\n",
       "       [-0.09620297],\n",
       "       [-0.09620297],\n",
       "       [-0.09620297],\n",
       "       [-0.09620297],\n",
       "       [ 0.33561995],\n",
       "       [ 0.19167897],\n",
       "       [ 1.36719693],\n",
       "       [ 1.36719693],\n",
       "       [ 1.36719693],\n",
       "       [ 1.36719693],\n",
       "       [ 2.59069521],\n",
       "       [ 2.59069521],\n",
       "       [ 4.36596723],\n",
       "       [ 4.27000658],\n",
       "       [ 0.33561995],\n",
       "       [-0.81590785],\n",
       "       [-0.81590785],\n",
       "       [-0.81590785],\n",
       "       [-0.67196687],\n",
       "       [-0.38408492],\n",
       "       [-0.09620297],\n",
       "       [ 0.71946255],\n",
       "       [ 0.71946255],\n",
       "       [ 0.71946255],\n",
       "       [-0.09620297],\n",
       "       [-0.09620297],\n",
       "       [-0.38408492],\n",
       "       [-0.38408492],\n",
       "       [-0.69595703],\n",
       "       [-0.55201606],\n",
       "       [-0.69595703],\n",
       "       [-0.69595703],\n",
       "       [-0.69595703],\n",
       "       [-0.69595703],\n",
       "       [-0.69595703],\n",
       "       [-0.69595703],\n",
       "       [-0.69595703],\n",
       "       [-0.69595703],\n",
       "       [-0.1441833 ],\n",
       "       [-0.1441833 ],\n",
       "       [ 1.31921661],\n",
       "       [ 1.31921661],\n",
       "       [ 1.31921661],\n",
       "       [ 1.31921661],\n",
       "       [ 1.31921661],\n",
       "       [ 1.31921661],\n",
       "       [-0.1441833 ],\n",
       "       [ 0.6235019 ],\n",
       "       [-0.1441833 ],\n",
       "       [ 0.6235019 ],\n",
       "       [-0.1441833 ],\n",
       "       [ 0.6235019 ],\n",
       "       [-0.1441833 ],\n",
       "       [ 0.6235019 ],\n",
       "       [-0.1441833 ],\n",
       "       [ 0.6235019 ],\n",
       "       [ 0.19167897],\n",
       "       [-0.86388817],\n",
       "       [-0.67196687],\n",
       "       [-0.86388817],\n",
       "       [-0.86388817],\n",
       "       [-0.67196687],\n",
       "       [-0.09620297],\n",
       "       [ 0.59951173],\n",
       "       [ 1.63108872],\n",
       "       [ 1.63108872],\n",
       "       [ 1.63108872],\n",
       "       [ 1.84700018],\n",
       "       [ 0.14369865],\n",
       "       [ 0.14369865],\n",
       "       [-0.12019314],\n",
       "       [-0.12019314],\n",
       "       [-0.12019314],\n",
       "       [-0.12019314],\n",
       "       [-0.12019314],\n",
       "       [-0.12019314],\n",
       "       [-0.69595703],\n",
       "       [-0.43206525],\n",
       "       [-0.43206525],\n",
       "       [-0.43206525],\n",
       "       [-0.43206525],\n",
       "       [-0.43206525],\n",
       "       [-0.43206525],\n",
       "       [-0.43206525],\n",
       "       [-0.43206525],\n",
       "       [-0.43206525],\n",
       "       [-0.43206525],\n",
       "       [-0.43206525],\n",
       "       [-0.81590785],\n",
       "       [-0.81590785],\n",
       "       [-0.81590785],\n",
       "       [-0.81590785],\n",
       "       [-0.81590785],\n",
       "       [-0.81590785],\n",
       "       [-0.67196687],\n",
       "       [-0.67196687],\n",
       "       [-0.38408492],\n",
       "       [-0.38408492],\n",
       "       [-0.67196687],\n",
       "       [-0.67196687],\n",
       "       [-0.67196687],\n",
       "       [-0.67196687],\n",
       "       [-0.67196687],\n",
       "       [-0.67196687],\n",
       "       [-0.67196687],\n",
       "       [ 0.47956092],\n",
       "       [ 0.47956092],\n",
       "       [ 0.47956092],\n",
       "       [ 0.47956092],\n",
       "       [ 0.47956092],\n",
       "       [-0.09620297],\n",
       "       [-0.38408492],\n",
       "       [-0.09620297],\n",
       "       [-0.09620297],\n",
       "       [-0.09620297],\n",
       "       [-0.69595703],\n",
       "       [-0.40807509],\n",
       "       [-0.69595703],\n",
       "       [-0.40807509],\n",
       "       [-0.40807509],\n",
       "       [-0.69595703],\n",
       "       [-0.40807509],\n",
       "       [-0.40807509],\n",
       "       [-0.40807509],\n",
       "       [ 0.2396593 ],\n",
       "       [-0.69595703],\n",
       "       [-0.40807509],\n",
       "       [ 0.35961011],\n",
       "       [ 0.35961011],\n",
       "       [ 0.35961011],\n",
       "       [ 0.35961011],\n",
       "       [ 0.09571832],\n",
       "       [ 0.09571832],\n",
       "       [ 0.35961011],\n",
       "       [ 0.35961011],\n",
       "       [ 1.12729531],\n",
       "       [ 0.45557076],\n",
       "       [ 0.35961011]])"
      ]
     },
     "execution_count": 66,
     "metadata": {},
     "output_type": "execute_result"
    }
   ],
   "source": [
    "ss.fit_transform(df[['engine-size']])\n",
    "#permanent change than store it in df['engine-size']"
   ]
  },
  {
   "cell_type": "code",
   "execution_count": 67,
   "metadata": {},
   "outputs": [],
   "source": [
    "mm = MinMaxScaler()"
   ]
  },
  {
   "cell_type": "code",
   "execution_count": 69,
   "metadata": {},
   "outputs": [
    {
     "data": {
      "text/plain": [
       "array([[0.26037736],\n",
       "       [0.26037736],\n",
       "       [0.34339623],\n",
       "       [0.18113208],\n",
       "       [0.28301887],\n",
       "       [0.28301887],\n",
       "       [0.28301887],\n",
       "       [0.28301887],\n",
       "       [0.26415094],\n",
       "       [0.26415094],\n",
       "       [0.17735849],\n",
       "       [0.17735849],\n",
       "       [0.38867925],\n",
       "       [0.38867925],\n",
       "       [0.38867925],\n",
       "       [0.55849057],\n",
       "       [0.55849057],\n",
       "       [0.55849057],\n",
       "       [0.        ],\n",
       "       [0.10943396],\n",
       "       [0.10943396],\n",
       "       [0.10943396],\n",
       "       [0.10943396],\n",
       "       [0.13962264],\n",
       "       [0.10943396],\n",
       "       [0.10943396],\n",
       "       [0.10943396],\n",
       "       [0.13962264],\n",
       "       [0.23018868],\n",
       "       [0.35849057],\n",
       "       [0.11698113],\n",
       "       [0.11698113],\n",
       "       [0.06792453],\n",
       "       [0.11698113],\n",
       "       [0.11698113],\n",
       "       [0.11698113],\n",
       "       [0.11698113],\n",
       "       [0.18490566],\n",
       "       [0.18490566],\n",
       "       [0.18490566],\n",
       "       [0.18490566],\n",
       "       [0.18490566],\n",
       "       [0.18490566],\n",
       "       [0.18867925],\n",
       "       [0.10943396],\n",
       "       [0.21886792],\n",
       "       [0.74339623],\n",
       "       [0.74339623],\n",
       "       [1.        ],\n",
       "       [0.11320755],\n",
       "       [0.11320755],\n",
       "       [0.11320755],\n",
       "       [0.11320755],\n",
       "       [0.11320755],\n",
       "       [0.03396226],\n",
       "       [0.03396226],\n",
       "       [0.03396226],\n",
       "       [0.07169811],\n",
       "       [0.23018868],\n",
       "       [0.23018868],\n",
       "       [0.23018868],\n",
       "       [0.23018868],\n",
       "       [0.23018868],\n",
       "       [0.23018868],\n",
       "       [0.29811321],\n",
       "       [0.2754717 ],\n",
       "       [0.46037736],\n",
       "       [0.46037736],\n",
       "       [0.46037736],\n",
       "       [0.46037736],\n",
       "       [0.65283019],\n",
       "       [0.65283019],\n",
       "       [0.93207547],\n",
       "       [0.91698113],\n",
       "       [0.29811321],\n",
       "       [0.11698113],\n",
       "       [0.11698113],\n",
       "       [0.11698113],\n",
       "       [0.13962264],\n",
       "       [0.18490566],\n",
       "       [0.23018868],\n",
       "       [0.35849057],\n",
       "       [0.35849057],\n",
       "       [0.35849057],\n",
       "       [0.23018868],\n",
       "       [0.23018868],\n",
       "       [0.18490566],\n",
       "       [0.18490566],\n",
       "       [0.13584906],\n",
       "       [0.15849057],\n",
       "       [0.13584906],\n",
       "       [0.13584906],\n",
       "       [0.13584906],\n",
       "       [0.13584906],\n",
       "       [0.13584906],\n",
       "       [0.13584906],\n",
       "       [0.13584906],\n",
       "       [0.13584906],\n",
       "       [0.22264151],\n",
       "       [0.22264151],\n",
       "       [0.45283019],\n",
       "       [0.45283019],\n",
       "       [0.45283019],\n",
       "       [0.45283019],\n",
       "       [0.45283019],\n",
       "       [0.45283019],\n",
       "       [0.22264151],\n",
       "       [0.34339623],\n",
       "       [0.22264151],\n",
       "       [0.34339623],\n",
       "       [0.22264151],\n",
       "       [0.34339623],\n",
       "       [0.22264151],\n",
       "       [0.34339623],\n",
       "       [0.22264151],\n",
       "       [0.34339623],\n",
       "       [0.2754717 ],\n",
       "       [0.10943396],\n",
       "       [0.13962264],\n",
       "       [0.10943396],\n",
       "       [0.10943396],\n",
       "       [0.13962264],\n",
       "       [0.23018868],\n",
       "       [0.33962264],\n",
       "       [0.50188679],\n",
       "       [0.50188679],\n",
       "       [0.50188679],\n",
       "       [0.53584906],\n",
       "       [0.26792453],\n",
       "       [0.26792453],\n",
       "       [0.22641509],\n",
       "       [0.22641509],\n",
       "       [0.22641509],\n",
       "       [0.22641509],\n",
       "       [0.22641509],\n",
       "       [0.22641509],\n",
       "       [0.13584906],\n",
       "       [0.17735849],\n",
       "       [0.17735849],\n",
       "       [0.17735849],\n",
       "       [0.17735849],\n",
       "       [0.17735849],\n",
       "       [0.17735849],\n",
       "       [0.17735849],\n",
       "       [0.17735849],\n",
       "       [0.17735849],\n",
       "       [0.17735849],\n",
       "       [0.17735849],\n",
       "       [0.11698113],\n",
       "       [0.11698113],\n",
       "       [0.11698113],\n",
       "       [0.11698113],\n",
       "       [0.11698113],\n",
       "       [0.11698113],\n",
       "       [0.13962264],\n",
       "       [0.13962264],\n",
       "       [0.18490566],\n",
       "       [0.18490566],\n",
       "       [0.13962264],\n",
       "       [0.13962264],\n",
       "       [0.13962264],\n",
       "       [0.13962264],\n",
       "       [0.13962264],\n",
       "       [0.13962264],\n",
       "       [0.13962264],\n",
       "       [0.32075472],\n",
       "       [0.32075472],\n",
       "       [0.32075472],\n",
       "       [0.32075472],\n",
       "       [0.32075472],\n",
       "       [0.23018868],\n",
       "       [0.18490566],\n",
       "       [0.23018868],\n",
       "       [0.23018868],\n",
       "       [0.23018868],\n",
       "       [0.13584906],\n",
       "       [0.18113208],\n",
       "       [0.13584906],\n",
       "       [0.18113208],\n",
       "       [0.18113208],\n",
       "       [0.13584906],\n",
       "       [0.18113208],\n",
       "       [0.18113208],\n",
       "       [0.18113208],\n",
       "       [0.28301887],\n",
       "       [0.13584906],\n",
       "       [0.18113208],\n",
       "       [0.30188679],\n",
       "       [0.30188679],\n",
       "       [0.30188679],\n",
       "       [0.30188679],\n",
       "       [0.26037736],\n",
       "       [0.26037736],\n",
       "       [0.30188679],\n",
       "       [0.30188679],\n",
       "       [0.42264151],\n",
       "       [0.31698113],\n",
       "       [0.30188679]])"
      ]
     },
     "execution_count": 69,
     "metadata": {},
     "output_type": "execute_result"
    }
   ],
   "source": [
    "mm.fit_transform(df[['engine-size']])"
   ]
  },
  {
   "cell_type": "code",
   "execution_count": 70,
   "metadata": {},
   "outputs": [],
   "source": [
    "df_new=pd.concat([df_cat,df_num],axis=1)"
   ]
  },
  {
   "cell_type": "code",
   "execution_count": 71,
   "metadata": {},
   "outputs": [
    {
     "data": {
      "text/html": [
       "<div>\n",
       "<style scoped>\n",
       "    .dataframe tbody tr th:only-of-type {\n",
       "        vertical-align: middle;\n",
       "    }\n",
       "\n",
       "    .dataframe tbody tr th {\n",
       "        vertical-align: top;\n",
       "    }\n",
       "\n",
       "    .dataframe thead th {\n",
       "        text-align: right;\n",
       "    }\n",
       "</style>\n",
       "<table border=\"1\" class=\"dataframe\">\n",
       "  <thead>\n",
       "    <tr style=\"text-align: right;\">\n",
       "      <th></th>\n",
       "      <th>make</th>\n",
       "      <th>fuel-type</th>\n",
       "      <th>body-style</th>\n",
       "      <th>drive-wheels</th>\n",
       "      <th>engine-location</th>\n",
       "      <th>engine-type</th>\n",
       "      <th>symboling</th>\n",
       "      <th>normalized-losses</th>\n",
       "      <th>width</th>\n",
       "      <th>height</th>\n",
       "      <th>engine-size</th>\n",
       "      <th>horsepower</th>\n",
       "      <th>city-mpg</th>\n",
       "      <th>highway-mpg</th>\n",
       "      <th>price</th>\n",
       "    </tr>\n",
       "  </thead>\n",
       "  <tbody>\n",
       "    <tr>\n",
       "      <td>0</td>\n",
       "      <td>0</td>\n",
       "      <td>1</td>\n",
       "      <td>0</td>\n",
       "      <td>2</td>\n",
       "      <td>0</td>\n",
       "      <td>0</td>\n",
       "      <td>3</td>\n",
       "      <td>11.045361</td>\n",
       "      <td>64.1</td>\n",
       "      <td>48.8</td>\n",
       "      <td>130</td>\n",
       "      <td>111.0</td>\n",
       "      <td>21</td>\n",
       "      <td>27</td>\n",
       "      <td>13495</td>\n",
       "    </tr>\n",
       "    <tr>\n",
       "      <td>1</td>\n",
       "      <td>0</td>\n",
       "      <td>1</td>\n",
       "      <td>0</td>\n",
       "      <td>2</td>\n",
       "      <td>0</td>\n",
       "      <td>0</td>\n",
       "      <td>3</td>\n",
       "      <td>11.045361</td>\n",
       "      <td>64.1</td>\n",
       "      <td>48.8</td>\n",
       "      <td>130</td>\n",
       "      <td>111.0</td>\n",
       "      <td>21</td>\n",
       "      <td>27</td>\n",
       "      <td>16500</td>\n",
       "    </tr>\n",
       "    <tr>\n",
       "      <td>2</td>\n",
       "      <td>0</td>\n",
       "      <td>1</td>\n",
       "      <td>2</td>\n",
       "      <td>2</td>\n",
       "      <td>0</td>\n",
       "      <td>5</td>\n",
       "      <td>1</td>\n",
       "      <td>11.045361</td>\n",
       "      <td>65.5</td>\n",
       "      <td>52.4</td>\n",
       "      <td>152</td>\n",
       "      <td>154.0</td>\n",
       "      <td>19</td>\n",
       "      <td>26</td>\n",
       "      <td>16500</td>\n",
       "    </tr>\n",
       "    <tr>\n",
       "      <td>3</td>\n",
       "      <td>1</td>\n",
       "      <td>1</td>\n",
       "      <td>3</td>\n",
       "      <td>1</td>\n",
       "      <td>0</td>\n",
       "      <td>3</td>\n",
       "      <td>2</td>\n",
       "      <td>12.806248</td>\n",
       "      <td>66.2</td>\n",
       "      <td>54.3</td>\n",
       "      <td>109</td>\n",
       "      <td>102.0</td>\n",
       "      <td>24</td>\n",
       "      <td>30</td>\n",
       "      <td>13950</td>\n",
       "    </tr>\n",
       "    <tr>\n",
       "      <td>4</td>\n",
       "      <td>1</td>\n",
       "      <td>1</td>\n",
       "      <td>3</td>\n",
       "      <td>0</td>\n",
       "      <td>0</td>\n",
       "      <td>3</td>\n",
       "      <td>2</td>\n",
       "      <td>12.806248</td>\n",
       "      <td>66.4</td>\n",
       "      <td>54.3</td>\n",
       "      <td>136</td>\n",
       "      <td>115.0</td>\n",
       "      <td>18</td>\n",
       "      <td>22</td>\n",
       "      <td>17450</td>\n",
       "    </tr>\n",
       "  </tbody>\n",
       "</table>\n",
       "</div>"
      ],
      "text/plain": [
       "   make  fuel-type  body-style  drive-wheels  engine-location  engine-type  \\\n",
       "0     0          1           0             2                0            0   \n",
       "1     0          1           0             2                0            0   \n",
       "2     0          1           2             2                0            5   \n",
       "3     1          1           3             1                0            3   \n",
       "4     1          1           3             0                0            3   \n",
       "\n",
       "   symboling  normalized-losses  width  height  engine-size  horsepower  \\\n",
       "0          3          11.045361   64.1    48.8          130       111.0   \n",
       "1          3          11.045361   64.1    48.8          130       111.0   \n",
       "2          1          11.045361   65.5    52.4          152       154.0   \n",
       "3          2          12.806248   66.2    54.3          109       102.0   \n",
       "4          2          12.806248   66.4    54.3          136       115.0   \n",
       "\n",
       "   city-mpg  highway-mpg  price  \n",
       "0        21           27  13495  \n",
       "1        21           27  16500  \n",
       "2        19           26  16500  \n",
       "3        24           30  13950  \n",
       "4        18           22  17450  "
      ]
     },
     "execution_count": 71,
     "metadata": {},
     "output_type": "execute_result"
    }
   ],
   "source": [
    "df_new.head()"
   ]
  },
  {
   "cell_type": "code",
   "execution_count": null,
   "metadata": {},
   "outputs": [],
   "source": []
  }
 ],
 "metadata": {
  "kernelspec": {
   "display_name": "Python 3",
   "language": "python",
   "name": "python3"
  },
  "language_info": {
   "codemirror_mode": {
    "name": "ipython",
    "version": 3
   },
   "file_extension": ".py",
   "mimetype": "text/x-python",
   "name": "python",
   "nbconvert_exporter": "python",
   "pygments_lexer": "ipython3",
   "version": "3.7.4"
  }
 },
 "nbformat": 4,
 "nbformat_minor": 2
}
