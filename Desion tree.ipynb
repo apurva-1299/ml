{
 "cells": [
  {
   "cell_type": "code",
   "execution_count": 1,
   "metadata": {},
   "outputs": [],
   "source": [
    "import numpy as np\n",
    "import pandas as pd\n",
    "import matplotlib.pyplot as plt\n",
    "import seaborn as sns\n",
    "\n",
    "import warnings\n",
    "warnings.filterwarnings('ignore')\n",
    "\n",
    "from sklearn.linear_model import LogisticRegression\n",
    "from sklearn.model_selection import train_test_split\n",
    "from sklearn.metrics import classification_report"
   ]
  },
  {
   "cell_type": "code",
   "execution_count": 2,
   "metadata": {},
   "outputs": [],
   "source": [
    "df = pd.read_csv(\"bank.csv\")"
   ]
  },
  {
   "cell_type": "code",
   "execution_count": 3,
   "metadata": {},
   "outputs": [
    {
     "data": {
      "text/html": [
       "<div>\n",
       "<style scoped>\n",
       "    .dataframe tbody tr th:only-of-type {\n",
       "        vertical-align: middle;\n",
       "    }\n",
       "\n",
       "    .dataframe tbody tr th {\n",
       "        vertical-align: top;\n",
       "    }\n",
       "\n",
       "    .dataframe thead th {\n",
       "        text-align: right;\n",
       "    }\n",
       "</style>\n",
       "<table border=\"1\" class=\"dataframe\">\n",
       "  <thead>\n",
       "    <tr style=\"text-align: right;\">\n",
       "      <th></th>\n",
       "      <th>age</th>\n",
       "      <th>job</th>\n",
       "      <th>marital</th>\n",
       "      <th>education</th>\n",
       "      <th>default</th>\n",
       "      <th>balance</th>\n",
       "      <th>housing</th>\n",
       "      <th>loan</th>\n",
       "      <th>contact</th>\n",
       "      <th>day</th>\n",
       "      <th>month</th>\n",
       "      <th>duration</th>\n",
       "      <th>campaign</th>\n",
       "      <th>pdays</th>\n",
       "      <th>previous</th>\n",
       "      <th>poutcome</th>\n",
       "      <th>deposit</th>\n",
       "    </tr>\n",
       "  </thead>\n",
       "  <tbody>\n",
       "    <tr>\n",
       "      <td>0</td>\n",
       "      <td>59</td>\n",
       "      <td>0</td>\n",
       "      <td>1</td>\n",
       "      <td>1</td>\n",
       "      <td>0</td>\n",
       "      <td>2343</td>\n",
       "      <td>1</td>\n",
       "      <td>0</td>\n",
       "      <td>2</td>\n",
       "      <td>5</td>\n",
       "      <td>8</td>\n",
       "      <td>1042</td>\n",
       "      <td>1</td>\n",
       "      <td>-1</td>\n",
       "      <td>0</td>\n",
       "      <td>3</td>\n",
       "      <td>1</td>\n",
       "    </tr>\n",
       "    <tr>\n",
       "      <td>1</td>\n",
       "      <td>56</td>\n",
       "      <td>0</td>\n",
       "      <td>1</td>\n",
       "      <td>1</td>\n",
       "      <td>0</td>\n",
       "      <td>45</td>\n",
       "      <td>0</td>\n",
       "      <td>0</td>\n",
       "      <td>2</td>\n",
       "      <td>5</td>\n",
       "      <td>8</td>\n",
       "      <td>1467</td>\n",
       "      <td>1</td>\n",
       "      <td>-1</td>\n",
       "      <td>0</td>\n",
       "      <td>3</td>\n",
       "      <td>1</td>\n",
       "    </tr>\n",
       "    <tr>\n",
       "      <td>2</td>\n",
       "      <td>41</td>\n",
       "      <td>9</td>\n",
       "      <td>1</td>\n",
       "      <td>1</td>\n",
       "      <td>0</td>\n",
       "      <td>1270</td>\n",
       "      <td>1</td>\n",
       "      <td>0</td>\n",
       "      <td>2</td>\n",
       "      <td>5</td>\n",
       "      <td>8</td>\n",
       "      <td>1389</td>\n",
       "      <td>1</td>\n",
       "      <td>-1</td>\n",
       "      <td>0</td>\n",
       "      <td>3</td>\n",
       "      <td>1</td>\n",
       "    </tr>\n",
       "    <tr>\n",
       "      <td>3</td>\n",
       "      <td>55</td>\n",
       "      <td>7</td>\n",
       "      <td>1</td>\n",
       "      <td>1</td>\n",
       "      <td>0</td>\n",
       "      <td>2476</td>\n",
       "      <td>1</td>\n",
       "      <td>0</td>\n",
       "      <td>2</td>\n",
       "      <td>5</td>\n",
       "      <td>8</td>\n",
       "      <td>579</td>\n",
       "      <td>1</td>\n",
       "      <td>-1</td>\n",
       "      <td>0</td>\n",
       "      <td>3</td>\n",
       "      <td>1</td>\n",
       "    </tr>\n",
       "    <tr>\n",
       "      <td>4</td>\n",
       "      <td>54</td>\n",
       "      <td>0</td>\n",
       "      <td>1</td>\n",
       "      <td>2</td>\n",
       "      <td>0</td>\n",
       "      <td>184</td>\n",
       "      <td>0</td>\n",
       "      <td>0</td>\n",
       "      <td>2</td>\n",
       "      <td>5</td>\n",
       "      <td>8</td>\n",
       "      <td>673</td>\n",
       "      <td>2</td>\n",
       "      <td>-1</td>\n",
       "      <td>0</td>\n",
       "      <td>3</td>\n",
       "      <td>1</td>\n",
       "    </tr>\n",
       "  </tbody>\n",
       "</table>\n",
       "</div>"
      ],
      "text/plain": [
       "   age  job  marital  education  default  balance  housing  loan  contact  \\\n",
       "0   59    0        1          1        0     2343        1     0        2   \n",
       "1   56    0        1          1        0       45        0     0        2   \n",
       "2   41    9        1          1        0     1270        1     0        2   \n",
       "3   55    7        1          1        0     2476        1     0        2   \n",
       "4   54    0        1          2        0      184        0     0        2   \n",
       "\n",
       "   day  month  duration  campaign  pdays  previous  poutcome  deposit  \n",
       "0    5      8      1042         1     -1         0         3        1  \n",
       "1    5      8      1467         1     -1         0         3        1  \n",
       "2    5      8      1389         1     -1         0         3        1  \n",
       "3    5      8       579         1     -1         0         3        1  \n",
       "4    5      8       673         2     -1         0         3        1  "
      ]
     },
     "execution_count": 3,
     "metadata": {},
     "output_type": "execute_result"
    }
   ],
   "source": [
    "df.head()"
   ]
  },
  {
   "cell_type": "code",
   "execution_count": 4,
   "metadata": {},
   "outputs": [
    {
     "data": {
      "text/plain": [
       "age          0\n",
       "job          0\n",
       "marital      0\n",
       "education    0\n",
       "default      0\n",
       "balance      0\n",
       "housing      0\n",
       "loan         0\n",
       "contact      0\n",
       "day          0\n",
       "month        0\n",
       "duration     0\n",
       "campaign     0\n",
       "pdays        0\n",
       "previous     0\n",
       "poutcome     0\n",
       "deposit      0\n",
       "dtype: int64"
      ]
     },
     "execution_count": 4,
     "metadata": {},
     "output_type": "execute_result"
    }
   ],
   "source": [
    "df.isnull().sum()"
   ]
  },
  {
   "cell_type": "code",
   "execution_count": 5,
   "metadata": {},
   "outputs": [
    {
     "name": "stdout",
     "output_type": "stream",
     "text": [
      "<class 'pandas.core.frame.DataFrame'>\n",
      "RangeIndex: 11162 entries, 0 to 11161\n",
      "Data columns (total 17 columns):\n",
      "age          11162 non-null int64\n",
      "job          11162 non-null int64\n",
      "marital      11162 non-null int64\n",
      "education    11162 non-null int64\n",
      "default      11162 non-null int64\n",
      "balance      11162 non-null int64\n",
      "housing      11162 non-null int64\n",
      "loan         11162 non-null int64\n",
      "contact      11162 non-null int64\n",
      "day          11162 non-null int64\n",
      "month        11162 non-null int64\n",
      "duration     11162 non-null int64\n",
      "campaign     11162 non-null int64\n",
      "pdays        11162 non-null int64\n",
      "previous     11162 non-null int64\n",
      "poutcome     11162 non-null int64\n",
      "deposit      11162 non-null int64\n",
      "dtypes: int64(17)\n",
      "memory usage: 1.4 MB\n"
     ]
    }
   ],
   "source": [
    "df.info()"
   ]
  },
  {
   "cell_type": "code",
   "execution_count": 6,
   "metadata": {},
   "outputs": [],
   "source": [
    "def classify(model):\n",
    "    model.fit(X_train,y_train)\n",
    "    y_pred = model.predict(X_test)\n",
    "    print (classification_report(y_test,y_pred))\n",
    "    return model"
   ]
  },
  {
   "cell_type": "code",
   "execution_count": 7,
   "metadata": {},
   "outputs": [],
   "source": [
    "X = df.iloc[:,:-1]\n",
    "y = df.iloc[:,-1]"
   ]
  },
  {
   "cell_type": "code",
   "execution_count": 8,
   "metadata": {},
   "outputs": [],
   "source": [
    "X_train,X_test,y_train,y_test = train_test_split(X,y,test_size = 0.3,random_state=1)"
   ]
  },
  {
   "cell_type": "code",
   "execution_count": 9,
   "metadata": {},
   "outputs": [],
   "source": [
    "lr= LogisticRegression(random_state = 1)"
   ]
  },
  {
   "cell_type": "code",
   "execution_count": 10,
   "metadata": {},
   "outputs": [
    {
     "name": "stdout",
     "output_type": "stream",
     "text": [
      "              precision    recall  f1-score   support\n",
      "\n",
      "           0       0.80      0.82      0.81      1760\n",
      "           1       0.79      0.78      0.78      1589\n",
      "\n",
      "    accuracy                           0.80      3349\n",
      "   macro avg       0.80      0.80      0.80      3349\n",
      "weighted avg       0.80      0.80      0.80      3349\n",
      "\n"
     ]
    },
    {
     "data": {
      "text/plain": [
       "LogisticRegression(C=1.0, class_weight=None, dual=False, fit_intercept=True,\n",
       "                   intercept_scaling=1, l1_ratio=None, max_iter=100,\n",
       "                   multi_class='warn', n_jobs=None, penalty='l2',\n",
       "                   random_state=1, solver='warn', tol=0.0001, verbose=0,\n",
       "                   warm_start=False)"
      ]
     },
     "execution_count": 10,
     "metadata": {},
     "output_type": "execute_result"
    }
   ],
   "source": [
    "classify(lr)"
   ]
  },
  {
   "cell_type": "code",
   "execution_count": 11,
   "metadata": {},
   "outputs": [],
   "source": [
    "from sklearn.tree import DecisionTreeClassifier"
   ]
  },
  {
   "cell_type": "code",
   "execution_count": 12,
   "metadata": {},
   "outputs": [],
   "source": [
    "dt = DecisionTreeClassifier()"
   ]
  },
  {
   "cell_type": "code",
   "execution_count": 13,
   "metadata": {},
   "outputs": [
    {
     "name": "stdout",
     "output_type": "stream",
     "text": [
      "              precision    recall  f1-score   support\n",
      "\n",
      "           0       0.79      0.80      0.80      1760\n",
      "           1       0.78      0.77      0.77      1589\n",
      "\n",
      "    accuracy                           0.79      3349\n",
      "   macro avg       0.78      0.78      0.78      3349\n",
      "weighted avg       0.79      0.79      0.79      3349\n",
      "\n"
     ]
    },
    {
     "data": {
      "text/plain": [
       "DecisionTreeClassifier(class_weight=None, criterion='gini', max_depth=None,\n",
       "                       max_features=None, max_leaf_nodes=None,\n",
       "                       min_impurity_decrease=0.0, min_impurity_split=None,\n",
       "                       min_samples_leaf=1, min_samples_split=2,\n",
       "                       min_weight_fraction_leaf=0.0, presort=False,\n",
       "                       random_state=None, splitter='best')"
      ]
     },
     "execution_count": 13,
     "metadata": {},
     "output_type": "execute_result"
    }
   ],
   "source": [
    "classify(dt)"
   ]
  },
  {
   "cell_type": "code",
   "execution_count": 14,
   "metadata": {},
   "outputs": [],
   "source": [
    "dt2  = DecisionTreeClassifier(max_depth=10)\n"
   ]
  },
  {
   "cell_type": "code",
   "execution_count": 15,
   "metadata": {},
   "outputs": [
    {
     "name": "stdout",
     "output_type": "stream",
     "text": [
      "              precision    recall  f1-score   support\n",
      "\n",
      "           0       0.82      0.82      0.82      1760\n",
      "           1       0.81      0.81      0.81      1589\n",
      "\n",
      "    accuracy                           0.82      3349\n",
      "   macro avg       0.82      0.82      0.82      3349\n",
      "weighted avg       0.82      0.82      0.82      3349\n",
      "\n"
     ]
    },
    {
     "data": {
      "text/plain": [
       "DecisionTreeClassifier(class_weight=None, criterion='gini', max_depth=10,\n",
       "                       max_features=None, max_leaf_nodes=None,\n",
       "                       min_impurity_decrease=0.0, min_impurity_split=None,\n",
       "                       min_samples_leaf=1, min_samples_split=2,\n",
       "                       min_weight_fraction_leaf=0.0, presort=False,\n",
       "                       random_state=None, splitter='best')"
      ]
     },
     "execution_count": 15,
     "metadata": {},
     "output_type": "execute_result"
    }
   ],
   "source": [
    "classify(dt2)"
   ]
  },
  {
   "cell_type": "code",
   "execution_count": 16,
   "metadata": {},
   "outputs": [],
   "source": [
    "dt3  = DecisionTreeClassifier(min_samples_leaf=10)\n"
   ]
  },
  {
   "cell_type": "code",
   "execution_count": 17,
   "metadata": {},
   "outputs": [
    {
     "name": "stdout",
     "output_type": "stream",
     "text": [
      "              precision    recall  f1-score   support\n",
      "\n",
      "           0       0.82      0.83      0.82      1760\n",
      "           1       0.81      0.79      0.80      1589\n",
      "\n",
      "    accuracy                           0.81      3349\n",
      "   macro avg       0.81      0.81      0.81      3349\n",
      "weighted avg       0.81      0.81      0.81      3349\n",
      "\n"
     ]
    }
   ],
   "source": [
    "dt3= classify(dt3)"
   ]
  },
  {
   "cell_type": "code",
   "execution_count": 18,
   "metadata": {},
   "outputs": [],
   "source": [
    "from sklearn import tree"
   ]
  },
  {
   "cell_type": "code",
   "execution_count": 19,
   "metadata": {},
   "outputs": [
    {
     "data": {
      "text/plain": [
       "[Text(154.83316996304157, 211.4, 'X[11] <= 206.5\\ngini = 0.499\\nsamples = 7813\\nvalue = [4113, 3700]'),\n",
       " Text(72.42509422570258, 199.32, 'X[13] <= 27.5\\ngini = 0.325\\nsamples = 3136\\nvalue = [2495, 641]'),\n",
       " Text(54.73057486826698, 187.24, 'X[0] <= 60.5\\ngini = 0.247\\nsamples = 2456\\nvalue = [2101, 355]'),\n",
       " Text(40.46255488875878, 175.16, 'X[10] <= 9.5\\ngini = 0.221\\nsamples = 2375\\nvalue = [2075, 300]'),\n",
       " Text(17.415039519906323, 163.07999999999998, 'X[10] <= 0.5\\ngini = 0.197\\nsamples = 2308\\nvalue = [2052, 256]'),\n",
       " Text(5.88056206088993, 151.0, 'X[6] <= 0.5\\ngini = 0.5\\nsamples = 115\\nvalue = [58, 57]'),\n",
       " Text(3.920374707259953, 138.92000000000002, 'X[9] <= 21.5\\ngini = 0.346\\nsamples = 63\\nvalue = [14, 49]'),\n",
       " Text(3.1362997658079625, 126.84, 'X[2] <= 1.5\\ngini = 0.219\\nsamples = 48\\nvalue = [6, 42]'),\n",
       " Text(1.5681498829039813, 114.75999999999999, 'X[9] <= 15.5\\ngini = 0.363\\nsamples = 21\\nvalue = [5, 16]'),\n",
       " Text(0.7840749414519906, 102.67999999999999, 'gini = 0.42\\nsamples = 10\\nvalue = [3, 7]'),\n",
       " Text(2.352224824355972, 102.67999999999999, 'gini = 0.298\\nsamples = 11\\nvalue = [2, 9]'),\n",
       " Text(4.704449648711944, 114.75999999999999, 'X[5] <= 164.5\\ngini = 0.071\\nsamples = 27\\nvalue = [1, 26]'),\n",
       " Text(3.920374707259953, 102.67999999999999, 'gini = 0.18\\nsamples = 10\\nvalue = [1, 9]'),\n",
       " Text(5.488524590163935, 102.67999999999999, 'gini = 0.0\\nsamples = 17\\nvalue = [0, 17]'),\n",
       " Text(4.704449648711944, 126.84, 'gini = 0.498\\nsamples = 15\\nvalue = [8, 7]'),\n",
       " Text(7.840749414519906, 138.92000000000002, 'X[5] <= 1839.0\\ngini = 0.26\\nsamples = 52\\nvalue = [44, 8]'),\n",
       " Text(7.056674473067916, 126.84, 'X[9] <= 18.5\\ngini = 0.176\\nsamples = 41\\nvalue = [37, 4]'),\n",
       " Text(6.272599531615925, 114.75999999999999, 'gini = 0.0\\nsamples = 17\\nvalue = [17, 0]'),\n",
       " Text(7.840749414519906, 114.75999999999999, 'X[11] <= 74.0\\ngini = 0.278\\nsamples = 24\\nvalue = [20, 4]'),\n",
       " Text(7.056674473067916, 102.67999999999999, 'gini = 0.0\\nsamples = 10\\nvalue = [10, 0]'),\n",
       " Text(8.624824355971898, 102.67999999999999, 'gini = 0.408\\nsamples = 14\\nvalue = [10, 4]'),\n",
       " Text(8.624824355971898, 126.84, 'gini = 0.463\\nsamples = 11\\nvalue = [7, 4]'),\n",
       " Text(28.949516978922716, 151.0, 'X[0] <= 25.5\\ngini = 0.165\\nsamples = 2193\\nvalue = [1994, 199]'),\n",
       " Text(11.76112412177986, 138.92000000000002, 'X[6] <= 0.5\\ngini = 0.477\\nsamples = 74\\nvalue = [45, 29]'),\n",
       " Text(10.192974238875879, 126.84, 'X[9] <= 8.0\\ngini = 0.494\\nsamples = 47\\nvalue = [21, 26]'),\n",
       " Text(9.408899297423888, 114.75999999999999, 'gini = 0.444\\nsamples = 15\\nvalue = [10, 5]'),\n",
       " Text(10.97704918032787, 114.75999999999999, 'X[11] <= 135.5\\ngini = 0.451\\nsamples = 32\\nvalue = [11, 21]'),\n",
       " Text(10.192974238875879, 102.67999999999999, 'gini = 0.305\\nsamples = 16\\nvalue = [3, 13]'),\n",
       " Text(11.76112412177986, 102.67999999999999, 'gini = 0.5\\nsamples = 16\\nvalue = [8, 8]'),\n",
       " Text(13.32927400468384, 126.84, 'X[8] <= 0.5\\ngini = 0.198\\nsamples = 27\\nvalue = [24, 3]'),\n",
       " Text(12.54519906323185, 114.75999999999999, 'gini = 0.355\\nsamples = 13\\nvalue = [10, 3]'),\n",
       " Text(14.113348946135831, 114.75999999999999, 'gini = 0.0\\nsamples = 14\\nvalue = [14, 0]'),\n",
       " Text(46.137909836065575, 138.92000000000002, 'X[8] <= 0.5\\ngini = 0.148\\nsamples = 2119\\nvalue = [1949, 170]'),\n",
       " Text(31.902049180327868, 126.84, 'X[11] <= 114.5\\ngini = 0.213\\nsamples = 1249\\nvalue = [1098, 151]'),\n",
       " Text(19.013817330210774, 114.75999999999999, 'X[9] <= 16.5\\ngini = 0.095\\nsamples = 601\\nvalue = [571, 30]'),\n",
       " Text(13.32927400468384, 102.67999999999999, 'X[11] <= 68.5\\ngini = 0.181\\nsamples = 239\\nvalue = [215, 24]'),\n",
       " Text(10.585011709601874, 90.6, 'X[11] <= 62.5\\ngini = 0.02\\nsamples = 98\\nvalue = [97, 1]'),\n",
       " Text(9.800936768149883, 78.52000000000001, 'gini = 0.0\\nsamples = 84\\nvalue = [84, 0]'),\n",
       " Text(11.369086651053864, 78.52000000000001, 'gini = 0.133\\nsamples = 14\\nvalue = [13, 1]'),\n",
       " Text(16.07353629976581, 90.6, 'X[10] <= 5.5\\ngini = 0.273\\nsamples = 141\\nvalue = [118, 23]'),\n",
       " Text(12.937236533957845, 78.52000000000001, 'X[5] <= 983.5\\ngini = 0.146\\nsamples = 88\\nvalue = [81, 7]'),\n",
       " Text(11.369086651053864, 66.44, 'X[11] <= 76.5\\ngini = 0.031\\nsamples = 63\\nvalue = [62, 1]'),\n",
       " Text(10.585011709601874, 54.359999999999985, 'gini = 0.153\\nsamples = 12\\nvalue = [11, 1]'),\n",
       " Text(12.153161592505855, 54.359999999999985, 'gini = 0.0\\nsamples = 51\\nvalue = [51, 0]'),\n",
       " Text(14.505386416861827, 66.44, 'X[5] <= 2685.5\\ngini = 0.365\\nsamples = 25\\nvalue = [19, 6]'),\n",
       " Text(13.721311475409836, 54.359999999999985, 'gini = 0.497\\nsamples = 13\\nvalue = [7, 6]'),\n",
       " Text(15.289461358313817, 54.359999999999985, 'gini = 0.0\\nsamples = 12\\nvalue = [12, 0]'),\n",
       " Text(19.20983606557377, 78.52000000000001, 'X[10] <= 7.5\\ngini = 0.422\\nsamples = 53\\nvalue = [37, 16]'),\n",
       " Text(17.64168618266979, 66.44, 'X[2] <= 1.5\\ngini = 0.463\\nsamples = 22\\nvalue = [8, 14]'),\n",
       " Text(16.8576112412178, 54.359999999999985, 'gini = 0.496\\nsamples = 11\\nvalue = [6, 5]'),\n",
       " Text(18.42576112412178, 54.359999999999985, 'gini = 0.298\\nsamples = 11\\nvalue = [2, 9]'),\n",
       " Text(20.777985948477752, 66.44, 'X[5] <= 630.0\\ngini = 0.121\\nsamples = 31\\nvalue = [29, 2]'),\n",
       " Text(19.993911007025762, 54.359999999999985, 'gini = 0.0\\nsamples = 21\\nvalue = [21, 0]'),\n",
       " Text(21.562060889929743, 54.359999999999985, 'gini = 0.32\\nsamples = 10\\nvalue = [8, 2]'),\n",
       " Text(24.698360655737705, 102.67999999999999, 'X[10] <= 3.5\\ngini = 0.033\\nsamples = 362\\nvalue = [356, 6]'),\n",
       " Text(23.914285714285715, 90.6, 'X[12] <= 3.5\\ngini = 0.09\\nsamples = 127\\nvalue = [121, 6]'),\n",
       " Text(23.130210772833724, 78.52000000000001, 'X[0] <= 34.5\\ngini = 0.25\\nsamples = 41\\nvalue = [35, 6]'),\n",
       " Text(22.346135831381734, 66.44, 'gini = 0.48\\nsamples = 10\\nvalue = [6, 4]'),\n",
       " Text(23.914285714285715, 66.44, 'X[0] <= 42.5\\ngini = 0.121\\nsamples = 31\\nvalue = [29, 2]'),\n",
       " Text(23.130210772833724, 54.359999999999985, 'gini = 0.0\\nsamples = 16\\nvalue = [16, 0]'),\n",
       " Text(24.698360655737705, 54.359999999999985, 'gini = 0.231\\nsamples = 15\\nvalue = [13, 2]'),\n",
       " Text(24.698360655737705, 78.52000000000001, 'gini = 0.0\\nsamples = 86\\nvalue = [86, 0]'),\n",
       " Text(25.482435597189696, 90.6, 'gini = 0.0\\nsamples = 235\\nvalue = [235, 0]'),\n",
       " Text(44.790281030444966, 114.75999999999999, 'X[10] <= 5.5\\ngini = 0.304\\nsamples = 648\\nvalue = [527, 121]'),\n",
       " Text(39.007728337236536, 102.67999999999999, 'X[10] <= 4.5\\ngini = 0.208\\nsamples = 433\\nvalue = [382, 51]'),\n",
       " Text(34.891334894613586, 90.6, 'X[10] <= 1.5\\ngini = 0.282\\nsamples = 283\\nvalue = [235, 48]'),\n",
       " Text(29.010772833723653, 78.52000000000001, 'X[5] <= 371.0\\ngini = 0.107\\nsamples = 177\\nvalue = [167, 10]'),\n",
       " Text(27.050585480093677, 66.44, 'X[1] <= 0.5\\ngini = 0.024\\nsamples = 82\\nvalue = [81, 1]'),\n",
       " Text(26.266510538641686, 54.359999999999985, 'gini = 0.18\\nsamples = 10\\nvalue = [9, 1]'),\n",
       " Text(27.834660421545667, 54.359999999999985, 'gini = 0.0\\nsamples = 72\\nvalue = [72, 0]'),\n",
       " Text(30.97096018735363, 66.44, 'X[9] <= 12.5\\ngini = 0.172\\nsamples = 95\\nvalue = [86, 9]'),\n",
       " Text(29.40281030444965, 54.359999999999985, 'X[5] <= 658.5\\ngini = 0.048\\nsamples = 41\\nvalue = [40, 1]'),\n",
       " Text(28.618735362997658, 42.28, 'gini = 0.18\\nsamples = 10\\nvalue = [9, 1]'),\n",
       " Text(30.18688524590164, 42.28, 'gini = 0.0\\nsamples = 31\\nvalue = [31, 0]'),\n",
       " Text(32.539110070257614, 54.359999999999985, 'X[9] <= 16.0\\ngini = 0.252\\nsamples = 54\\nvalue = [46, 8]'),\n",
       " Text(31.75503512880562, 42.28, 'gini = 0.48\\nsamples = 15\\nvalue = [9, 6]'),\n",
       " Text(33.323185011709604, 42.28, 'X[11] <= 178.5\\ngini = 0.097\\nsamples = 39\\nvalue = [37, 2]'),\n",
       " Text(32.539110070257614, 30.19999999999999, 'gini = 0.0\\nsamples = 29\\nvalue = [29, 0]'),\n",
       " Text(34.107259953161595, 30.19999999999999, 'gini = 0.32\\nsamples = 10\\nvalue = [8, 2]'),\n",
       " Text(40.771896955503514, 78.52000000000001, 'X[5] <= 1361.0\\ngini = 0.46\\nsamples = 106\\nvalue = [68, 38]'),\n",
       " Text(38.81170960187354, 66.44, 'X[9] <= 27.5\\ngini = 0.372\\nsamples = 77\\nvalue = [58, 19]'),\n",
       " Text(37.24355971896956, 54.359999999999985, 'X[9] <= 9.5\\ngini = 0.449\\nsamples = 53\\nvalue = [35, 18]'),\n",
       " Text(36.45948477751757, 42.28, 'X[11] <= 135.5\\ngini = 0.26\\nsamples = 39\\nvalue = [33, 6]'),\n",
       " Text(35.675409836065576, 30.19999999999999, 'gini = 0.0\\nsamples = 12\\nvalue = [12, 0]'),\n",
       " Text(37.24355971896956, 30.19999999999999, 'X[5] <= 80.0\\ngini = 0.346\\nsamples = 27\\nvalue = [21, 6]'),\n",
       " Text(36.45948477751757, 18.120000000000005, 'gini = 0.0\\nsamples = 10\\nvalue = [10, 0]'),\n",
       " Text(38.02763466042155, 18.120000000000005, 'gini = 0.457\\nsamples = 17\\nvalue = [11, 6]'),\n",
       " Text(38.02763466042155, 42.28, 'gini = 0.245\\nsamples = 14\\nvalue = [2, 12]'),\n",
       " Text(40.37985948477752, 54.359999999999985, 'X[5] <= 161.5\\ngini = 0.08\\nsamples = 24\\nvalue = [23, 1]'),\n",
       " Text(39.59578454332553, 42.28, 'gini = 0.18\\nsamples = 10\\nvalue = [9, 1]'),\n",
       " Text(41.16393442622951, 42.28, 'gini = 0.0\\nsamples = 14\\nvalue = [14, 0]'),\n",
       " Text(42.73208430913349, 66.44, 'X[9] <= 10.0\\ngini = 0.452\\nsamples = 29\\nvalue = [10, 19]'),\n",
       " Text(41.9480093676815, 54.359999999999985, 'gini = 0.48\\nsamples = 10\\nvalue = [6, 4]'),\n",
       " Text(43.51615925058548, 54.359999999999985, 'gini = 0.332\\nsamples = 19\\nvalue = [4, 15]'),\n",
       " Text(43.124121779859486, 90.6, 'X[9] <= 7.5\\ngini = 0.039\\nsamples = 150\\nvalue = [147, 3]'),\n",
       " Text(42.340046838407495, 78.52000000000001, 'gini = 0.375\\nsamples = 12\\nvalue = [9, 3]'),\n",
       " Text(43.90819672131148, 78.52000000000001, 'gini = 0.0\\nsamples = 138\\nvalue = [138, 0]'),\n",
       " Text(50.572833723653396, 102.67999999999999, 'X[10] <= 7.5\\ngini = 0.439\\nsamples = 215\\nvalue = [145, 70]'),\n",
       " Text(46.65245901639344, 90.6, 'X[0] <= 30.5\\ngini = 0.32\\nsamples = 65\\nvalue = [13, 52]'),\n",
       " Text(45.86838407494145, 78.52000000000001, 'gini = 0.49\\nsamples = 14\\nvalue = [6, 8]'),\n",
       " Text(47.436533957845434, 78.52000000000001, 'X[9] <= 6.5\\ngini = 0.237\\nsamples = 51\\nvalue = [7, 44]'),\n",
       " Text(45.86838407494145, 66.44, 'X[5] <= 1267.0\\ngini = 0.408\\nsamples = 21\\nvalue = [6, 15]'),\n",
       " Text(45.08430913348946, 54.359999999999985, 'gini = 0.5\\nsamples = 10\\nvalue = [5, 5]'),\n",
       " Text(46.65245901639344, 54.359999999999985, 'gini = 0.165\\nsamples = 11\\nvalue = [1, 10]'),\n",
       " Text(49.004683840749415, 66.44, 'X[1] <= 5.0\\ngini = 0.064\\nsamples = 30\\nvalue = [1, 29]'),\n",
       " Text(48.220608899297424, 54.359999999999985, 'gini = 0.0\\nsamples = 20\\nvalue = [0, 20]'),\n",
       " Text(49.788758782201405, 54.359999999999985, 'gini = 0.18\\nsamples = 10\\nvalue = [1, 9]'),\n",
       " Text(54.49320843091335, 90.6, 'X[9] <= 21.5\\ngini = 0.211\\nsamples = 150\\nvalue = [132, 18]'),\n",
       " Text(53.70913348946136, 78.52000000000001, 'X[9] <= 10.5\\ngini = 0.126\\nsamples = 133\\nvalue = [124, 9]'),\n",
       " Text(52.14098360655738, 66.44, 'X[5] <= 210.0\\ngini = 0.328\\nsamples = 29\\nvalue = [23, 6]'),\n",
       " Text(51.35690866510539, 54.359999999999985, 'gini = 0.0\\nsamples = 12\\nvalue = [12, 0]'),\n",
       " Text(52.92505854800937, 54.359999999999985, 'gini = 0.457\\nsamples = 17\\nvalue = [11, 6]'),\n",
       " Text(55.27728337236534, 66.44, 'X[9] <= 16.0\\ngini = 0.056\\nsamples = 104\\nvalue = [101, 3]'),\n",
       " Text(54.49320843091335, 54.359999999999985, 'X[5] <= 616.5\\ngini = 0.165\\nsamples = 33\\nvalue = [30, 3]'),\n",
       " Text(53.70913348946136, 42.28, 'X[1] <= 5.5\\ngini = 0.091\\nsamples = 21\\nvalue = [20, 1]'),\n",
       " Text(52.92505854800937, 30.19999999999999, 'gini = 0.0\\nsamples = 11\\nvalue = [11, 0]'),\n",
       " Text(54.49320843091335, 30.19999999999999, 'gini = 0.18\\nsamples = 10\\nvalue = [9, 1]'),\n",
       " Text(55.27728337236534, 42.28, 'gini = 0.278\\nsamples = 12\\nvalue = [10, 2]'),\n",
       " Text(56.06135831381733, 54.359999999999985, 'gini = 0.0\\nsamples = 71\\nvalue = [71, 0]'),\n",
       " Text(55.27728337236534, 78.52000000000001, 'gini = 0.498\\nsamples = 17\\nvalue = [8, 9]'),\n",
       " Text(60.37377049180328, 126.84, 'X[10] <= 8.5\\ngini = 0.043\\nsamples = 870\\nvalue = [851, 19]'),\n",
       " Text(58.4135831381733, 114.75999999999999, 'X[10] <= 3.5\\ngini = 0.028\\nsamples = 837\\nvalue = [825, 12]'),\n",
       " Text(56.84543325526932, 102.67999999999999, 'X[5] <= 592.0\\ngini = 0.311\\nsamples = 26\\nvalue = [21, 5]'),\n",
       " Text(56.06135831381733, 90.6, 'gini = 0.0\\nsamples = 13\\nvalue = [13, 0]'),\n",
       " Text(57.62950819672131, 90.6, 'gini = 0.473\\nsamples = 13\\nvalue = [8, 5]'),\n",
       " Text(59.98173302107728, 102.67999999999999, 'X[9] <= 10.5\\ngini = 0.017\\nsamples = 811\\nvalue = [804, 7]'),\n",
       " Text(59.19765807962529, 90.6, 'X[10] <= 5.5\\ngini = 0.058\\nsamples = 236\\nvalue = [229, 7]'),\n",
       " Text(57.62950819672131, 78.52000000000001, 'X[5] <= 329.0\\ngini = 0.287\\nsamples = 23\\nvalue = [19, 4]'),\n",
       " Text(56.84543325526932, 66.44, 'gini = 0.153\\nsamples = 12\\nvalue = [11, 1]'),\n",
       " Text(58.4135831381733, 66.44, 'gini = 0.397\\nsamples = 11\\nvalue = [8, 3]'),\n",
       " Text(60.76580796252927, 78.52000000000001, 'X[8] <= 1.5\\ngini = 0.028\\nsamples = 213\\nvalue = [210, 3]'),\n",
       " Text(59.98173302107728, 66.44, 'gini = 0.26\\nsamples = 13\\nvalue = [11, 2]'),\n",
       " Text(61.54988290398126, 66.44, 'X[1] <= 0.5\\ngini = 0.01\\nsamples = 200\\nvalue = [199, 1]'),\n",
       " Text(60.76580796252927, 54.359999999999985, 'X[0] <= 41.5\\ngini = 0.087\\nsamples = 22\\nvalue = [21, 1]'),\n",
       " Text(59.98173302107728, 42.28, 'gini = 0.0\\nsamples = 12\\nvalue = [12, 0]'),\n",
       " Text(61.54988290398126, 42.28, 'gini = 0.18\\nsamples = 10\\nvalue = [9, 1]'),\n",
       " Text(62.333957845433254, 54.359999999999985, 'gini = 0.0\\nsamples = 178\\nvalue = [178, 0]'),\n",
       " Text(60.76580796252927, 90.6, 'gini = 0.0\\nsamples = 575\\nvalue = [575, 0]'),\n",
       " Text(62.333957845433254, 114.75999999999999, 'X[11] <= 83.0\\ngini = 0.334\\nsamples = 33\\nvalue = [26, 7]'),\n",
       " Text(61.54988290398126, 102.67999999999999, 'gini = 0.0\\nsamples = 18\\nvalue = [18, 0]'),\n",
       " Text(63.118032786885244, 102.67999999999999, 'gini = 0.498\\nsamples = 15\\nvalue = [8, 7]'),\n",
       " Text(63.51007025761124, 163.07999999999998, 'X[11] <= 77.5\\ngini = 0.451\\nsamples = 67\\nvalue = [23, 44]'),\n",
       " Text(62.72599531615925, 151.0, 'gini = 0.0\\nsamples = 10\\nvalue = [10, 0]'),\n",
       " Text(64.29414519906324, 151.0, 'X[9] <= 20.0\\ngini = 0.352\\nsamples = 57\\nvalue = [13, 44]'),\n",
       " Text(62.72599531615925, 138.92000000000002, 'X[11] <= 127.5\\ngini = 0.477\\nsamples = 28\\nvalue = [11, 17]'),\n",
       " Text(61.94192037470726, 126.84, 'gini = 0.486\\nsamples = 12\\nvalue = [7, 5]'),\n",
       " Text(63.51007025761124, 126.84, 'gini = 0.375\\nsamples = 16\\nvalue = [4, 12]'),\n",
       " Text(65.86229508196722, 138.92000000000002, 'X[11] <= 155.0\\ngini = 0.128\\nsamples = 29\\nvalue = [2, 27]'),\n",
       " Text(65.07822014051523, 126.84, 'gini = 0.0\\nsamples = 19\\nvalue = [0, 19]'),\n",
       " Text(66.64637002341921, 126.84, 'gini = 0.32\\nsamples = 10\\nvalue = [2, 8]'),\n",
       " Text(68.99859484777518, 175.16, 'X[9] <= 8.5\\ngini = 0.436\\nsamples = 81\\nvalue = [26, 55]'),\n",
       " Text(68.21451990632319, 163.07999999999998, 'gini = 0.391\\nsamples = 15\\nvalue = [11, 4]'),\n",
       " Text(69.78266978922717, 163.07999999999998, 'X[0] <= 73.5\\ngini = 0.351\\nsamples = 66\\nvalue = [15, 51]'),\n",
       " Text(68.21451990632319, 151.0, 'X[11] <= 125.0\\ngini = 0.18\\nsamples = 40\\nvalue = [4, 36]'),\n",
       " Text(67.4304449648712, 138.92000000000002, 'gini = 0.42\\nsamples = 10\\nvalue = [3, 7]'),\n",
       " Text(68.99859484777518, 138.92000000000002, 'X[5] <= 2479.5\\ngini = 0.064\\nsamples = 30\\nvalue = [1, 29]'),\n",
       " Text(68.21451990632319, 126.84, 'gini = 0.0\\nsamples = 20\\nvalue = [0, 20]'),\n",
       " Text(69.78266978922717, 126.84, 'gini = 0.18\\nsamples = 10\\nvalue = [1, 9]'),\n",
       " Text(71.35081967213115, 151.0, 'X[8] <= 0.5\\ngini = 0.488\\nsamples = 26\\nvalue = [11, 15]'),\n",
       " Text(70.56674473067916, 138.92000000000002, 'gini = 0.298\\nsamples = 11\\nvalue = [2, 9]'),\n",
       " Text(72.13489461358314, 138.92000000000002, 'gini = 0.48\\nsamples = 15\\nvalue = [9, 6]'),\n",
       " Text(90.11961358313818, 187.24, 'X[15] <= 1.5\\ngini = 0.487\\nsamples = 680\\nvalue = [394, 286]'),\n",
       " Text(83.20995316159251, 175.16, 'X[6] <= 0.5\\ngini = 0.376\\nsamples = 475\\nvalue = [356, 119]'),\n",
       " Text(76.64332552693209, 163.07999999999998, 'X[11] <= 125.5\\ngini = 0.498\\nsamples = 163\\nvalue = [86, 77]'),\n",
       " Text(74.48711943793911, 151.0, 'X[5] <= 982.5\\ngini = 0.305\\nsamples = 64\\nvalue = [52, 12]'),\n",
       " Text(73.70304449648712, 138.92000000000002, 'X[3] <= 1.5\\ngini = 0.162\\nsamples = 45\\nvalue = [41, 4]'),\n",
       " Text(72.91896955503513, 126.84, 'X[11] <= 86.5\\ngini = 0.278\\nsamples = 24\\nvalue = [20, 4]'),\n",
       " Text(72.13489461358314, 114.75999999999999, 'gini = 0.0\\nsamples = 13\\nvalue = [13, 0]'),\n",
       " Text(73.70304449648712, 114.75999999999999, 'gini = 0.463\\nsamples = 11\\nvalue = [7, 4]'),\n",
       " Text(74.48711943793911, 126.84, 'gini = 0.0\\nsamples = 21\\nvalue = [21, 0]'),\n",
       " Text(75.2711943793911, 138.92000000000002, 'gini = 0.488\\nsamples = 19\\nvalue = [11, 8]'),\n",
       " Text(78.79953161592506, 151.0, 'X[5] <= 228.0\\ngini = 0.451\\nsamples = 99\\nvalue = [34, 65]'),\n",
       " Text(76.83934426229509, 138.92000000000002, 'X[11] <= 156.0\\ngini = 0.444\\nsamples = 21\\nvalue = [14, 7]'),\n",
       " Text(76.0552693208431, 126.84, 'gini = 0.165\\nsamples = 11\\nvalue = [10, 1]'),\n",
       " Text(77.62341920374708, 126.84, 'gini = 0.48\\nsamples = 10\\nvalue = [4, 6]'),\n",
       " Text(80.75971896955504, 138.92000000000002, 'X[13] <= 150.5\\ngini = 0.381\\nsamples = 78\\nvalue = [20, 58]'),\n",
       " Text(79.19156908665106, 126.84, 'X[1] <= 8.5\\ngini = 0.224\\nsamples = 39\\nvalue = [5, 34]'),\n",
       " Text(78.40749414519907, 114.75999999999999, 'X[13] <= 91.5\\ngini = 0.067\\nsamples = 29\\nvalue = [1, 28]'),\n",
       " Text(77.62341920374708, 102.67999999999999, 'gini = 0.18\\nsamples = 10\\nvalue = [1, 9]'),\n",
       " Text(79.19156908665106, 102.67999999999999, 'gini = 0.0\\nsamples = 19\\nvalue = [0, 19]'),\n",
       " Text(79.97564402810305, 114.75999999999999, 'gini = 0.48\\nsamples = 10\\nvalue = [4, 6]'),\n",
       " Text(82.32786885245902, 126.84, 'X[13] <= 190.0\\ngini = 0.473\\nsamples = 39\\nvalue = [15, 24]'),\n",
       " Text(81.54379391100703, 114.75999999999999, 'gini = 0.48\\nsamples = 15\\nvalue = [9, 6]'),\n",
       " Text(83.11194379391101, 114.75999999999999, 'X[13] <= 267.5\\ngini = 0.375\\nsamples = 24\\nvalue = [6, 18]'),\n",
       " Text(82.32786885245902, 102.67999999999999, 'gini = 0.0\\nsamples = 10\\nvalue = [0, 10]'),\n",
       " Text(83.896018735363, 102.67999999999999, 'gini = 0.49\\nsamples = 14\\nvalue = [6, 8]'),\n",
       " Text(89.77658079625293, 163.07999999999998, 'X[13] <= 95.5\\ngini = 0.233\\nsamples = 312\\nvalue = [270, 42]'),\n",
       " Text(88.20843091334895, 151.0, 'X[11] <= 128.5\\ngini = 0.496\\nsamples = 22\\nvalue = [10, 12]'),\n",
       " Text(87.42435597189696, 138.92000000000002, 'gini = 0.463\\nsamples = 11\\nvalue = [7, 4]'),\n",
       " Text(88.99250585480094, 138.92000000000002, 'gini = 0.397\\nsamples = 11\\nvalue = [3, 8]'),\n",
       " Text(91.34473067915691, 151.0, 'X[10] <= 9.5\\ngini = 0.185\\nsamples = 290\\nvalue = [260, 30]'),\n",
       " Text(90.56065573770492, 138.92000000000002, 'X[10] <= 7.5\\ngini = 0.163\\nsamples = 279\\nvalue = [254, 25]'),\n",
       " Text(87.81639344262295, 126.84, 'X[11] <= 126.5\\ngini = 0.299\\nsamples = 115\\nvalue = [94, 21]'),\n",
       " Text(86.24824355971897, 114.75999999999999, 'X[12] <= 1.5\\ngini = 0.111\\nsamples = 68\\nvalue = [64, 4]'),\n",
       " Text(85.46416861826698, 102.67999999999999, 'gini = 0.0\\nsamples = 34\\nvalue = [34, 0]'),\n",
       " Text(87.03231850117096, 102.67999999999999, 'X[0] <= 38.5\\ngini = 0.208\\nsamples = 34\\nvalue = [30, 4]'),\n",
       " Text(86.24824355971897, 90.6, 'gini = 0.332\\nsamples = 19\\nvalue = [15, 4]'),\n",
       " Text(87.81639344262295, 90.6, 'gini = 0.0\\nsamples = 15\\nvalue = [15, 0]'),\n",
       " Text(89.38454332552693, 114.75999999999999, 'X[5] <= 257.0\\ngini = 0.462\\nsamples = 47\\nvalue = [30, 17]'),\n",
       " Text(88.60046838407494, 102.67999999999999, 'gini = 0.117\\nsamples = 16\\nvalue = [15, 1]'),\n",
       " Text(90.16861826697892, 102.67999999999999, 'X[9] <= 16.5\\ngini = 0.499\\nsamples = 31\\nvalue = [15, 16]'),\n",
       " Text(89.38454332552693, 90.6, 'X[9] <= 7.0\\ngini = 0.444\\nsamples = 21\\nvalue = [7, 14]'),\n",
       " Text(88.60046838407494, 78.52000000000001, 'gini = 0.48\\nsamples = 10\\nvalue = [6, 4]'),\n",
       " Text(90.16861826697892, 78.52000000000001, 'gini = 0.165\\nsamples = 11\\nvalue = [1, 10]'),\n",
       " Text(90.95269320843092, 90.6, 'gini = 0.32\\nsamples = 10\\nvalue = [8, 2]'),\n",
       " Text(93.30491803278689, 126.84, 'X[8] <= 0.5\\ngini = 0.048\\nsamples = 164\\nvalue = [160, 4]'),\n",
       " Text(92.5208430913349, 114.75999999999999, 'X[11] <= 167.0\\ngini = 0.026\\nsamples = 152\\nvalue = [150, 2]'),\n",
       " Text(91.7367681498829, 102.67999999999999, 'gini = 0.0\\nsamples = 124\\nvalue = [124, 0]'),\n",
       " Text(93.30491803278689, 102.67999999999999, 'X[13] <= 343.0\\ngini = 0.133\\nsamples = 28\\nvalue = [26, 2]'),\n",
       " Text(92.5208430913349, 90.6, 'gini = 0.0\\nsamples = 18\\nvalue = [18, 0]'),\n",
       " Text(94.08899297423888, 90.6, 'gini = 0.32\\nsamples = 10\\nvalue = [8, 2]'),\n",
       " Text(94.08899297423888, 114.75999999999999, 'gini = 0.278\\nsamples = 12\\nvalue = [10, 2]'),\n",
       " Text(92.1288056206089, 138.92000000000002, 'gini = 0.496\\nsamples = 11\\nvalue = [6, 5]'),\n",
       " Text(97.02927400468384, 175.16, 'X[11] <= 102.5\\ngini = 0.302\\nsamples = 205\\nvalue = [38, 167]'),\n",
       " Text(93.69695550351288, 163.07999999999998, 'X[11] <= 78.0\\ngini = 0.499\\nsamples = 42\\nvalue = [20, 22]'),\n",
       " Text(92.91288056206089, 151.0, 'gini = 0.43\\nsamples = 16\\nvalue = [11, 5]'),\n",
       " Text(94.48103044496487, 151.0, 'X[11] <= 92.5\\ngini = 0.453\\nsamples = 26\\nvalue = [9, 17]'),\n",
       " Text(93.69695550351288, 138.92000000000002, 'gini = 0.0\\nsamples = 10\\nvalue = [0, 10]'),\n",
       " Text(95.26510538641686, 138.92000000000002, 'gini = 0.492\\nsamples = 16\\nvalue = [9, 7]'),\n",
       " Text(100.3615925058548, 163.07999999999998, 'X[11] <= 161.0\\ngini = 0.196\\nsamples = 163\\nvalue = [18, 145]'),\n",
       " Text(98.40140515222483, 151.0, 'X[10] <= 4.0\\ngini = 0.34\\nsamples = 69\\nvalue = [15, 54]'),\n",
       " Text(96.83325526932084, 138.92000000000002, 'X[3] <= 1.5\\ngini = 0.161\\nsamples = 34\\nvalue = [3, 31]'),\n",
       " Text(96.04918032786885, 126.84, 'gini = 0.375\\nsamples = 12\\nvalue = [3, 9]'),\n",
       " Text(97.61733021077283, 126.84, 'gini = 0.0\\nsamples = 22\\nvalue = [0, 22]'),\n",
       " Text(99.9695550351288, 138.92000000000002, 'X[0] <= 42.0\\ngini = 0.451\\nsamples = 35\\nvalue = [12, 23]'),\n",
       " Text(99.18548009367682, 126.84, 'X[3] <= 1.5\\ngini = 0.34\\nsamples = 23\\nvalue = [5, 18]'),\n",
       " Text(98.40140515222483, 114.75999999999999, 'gini = 0.444\\nsamples = 12\\nvalue = [4, 8]'),\n",
       " Text(99.9695550351288, 114.75999999999999, 'gini = 0.165\\nsamples = 11\\nvalue = [1, 10]'),\n",
       " Text(100.7536299765808, 126.84, 'gini = 0.486\\nsamples = 12\\nvalue = [7, 5]'),\n",
       " Text(102.32177985948478, 151.0, 'X[9] <= 18.5\\ngini = 0.062\\nsamples = 94\\nvalue = [3, 91]'),\n",
       " Text(101.53770491803279, 138.92000000000002, 'gini = 0.0\\nsamples = 58\\nvalue = [0, 58]'),\n",
       " Text(103.10585480093677, 138.92000000000002, 'X[11] <= 187.5\\ngini = 0.153\\nsamples = 36\\nvalue = [3, 33]'),\n",
       " Text(102.32177985948478, 126.84, 'gini = 0.0\\nsamples = 21\\nvalue = [0, 21]'),\n",
       " Text(103.88992974238876, 126.84, 'gini = 0.32\\nsamples = 15\\nvalue = [3, 12]'),\n",
       " Text(237.24124570038057, 199.32, 'X[11] <= 438.5\\ngini = 0.453\\nsamples = 4677\\nvalue = [1618, 3059]'),\n",
       " Text(193.64507098946135, 187.24, 'X[8] <= 1.5\\ngini = 0.5\\nsamples = 2448\\nvalue = [1188, 1260]'),\n",
       " Text(166.76906469555036, 175.16, 'X[6] <= 0.5\\ngini = 0.479\\nsamples = 2047\\nvalue = [813, 1234]'),\n",
       " Text(141.49489900468384, 163.07999999999998, 'X[13] <= 10.5\\ngini = 0.404\\nsamples = 1286\\nvalue = [361, 925]'),\n",
       " Text(130.8792593676815, 151.0, 'X[0] <= 60.5\\ngini = 0.475\\nsamples = 791\\nvalue = [307, 484]'),\n",
       " Text(121.01706674473068, 138.92000000000002, 'X[10] <= 5.5\\ngini = 0.492\\nsamples = 694\\nvalue = [302, 392]'),\n",
       " Text(108.54537470725995, 126.84, 'X[10] <= 0.5\\ngini = 0.496\\nsamples = 454\\nvalue = [246, 208]'),\n",
       " Text(101.53770491803279, 114.75999999999999, 'X[5] <= 514.5\\ngini = 0.25\\nsamples = 75\\nvalue = [11, 64]'),\n",
       " Text(99.9695550351288, 102.67999999999999, 'X[5] <= 128.5\\ngini = 0.056\\nsamples = 35\\nvalue = [1, 34]'),\n",
       " Text(99.18548009367682, 90.6, 'gini = 0.18\\nsamples = 10\\nvalue = [1, 9]'),\n",
       " Text(100.7536299765808, 90.6, 'gini = 0.0\\nsamples = 25\\nvalue = [0, 25]'),\n",
       " Text(103.10585480093677, 102.67999999999999, 'X[5] <= 1316.5\\ngini = 0.375\\nsamples = 40\\nvalue = [10, 30]'),\n",
       " Text(102.32177985948478, 90.6, 'gini = 0.463\\nsamples = 11\\nvalue = [7, 4]'),\n",
       " Text(103.88992974238876, 90.6, 'X[5] <= 3440.5\\ngini = 0.185\\nsamples = 29\\nvalue = [3, 26]'),\n",
       " Text(103.10585480093677, 78.52000000000001, 'gini = 0.0\\nsamples = 19\\nvalue = [0, 19]'),\n",
       " Text(104.67400468384075, 78.52000000000001, 'gini = 0.42\\nsamples = 10\\nvalue = [3, 7]'),\n",
       " Text(115.55304449648712, 114.75999999999999, 'X[5] <= 535.0\\ngini = 0.471\\nsamples = 379\\nvalue = [235, 144]'),\n",
       " Text(110.55456674473068, 102.67999999999999, 'X[9] <= 18.5\\ngini = 0.39\\nsamples = 211\\nvalue = [155, 56]'),\n",
       " Text(107.81030444964871, 90.6, 'X[1] <= 1.5\\ngini = 0.463\\nsamples = 121\\nvalue = [77, 44]'),\n",
       " Text(106.24215456674473, 78.52000000000001, 'X[5] <= 172.5\\ngini = 0.198\\nsamples = 36\\nvalue = [32, 4]'),\n",
       " Text(105.45807962529274, 66.44, 'X[0] <= 43.5\\ngini = 0.074\\nsamples = 26\\nvalue = [25, 1]'),\n",
       " Text(104.67400468384075, 54.359999999999985, 'gini = 0.0\\nsamples = 16\\nvalue = [16, 0]'),\n",
       " Text(106.24215456674473, 54.359999999999985, 'gini = 0.18\\nsamples = 10\\nvalue = [9, 1]'),\n",
       " Text(107.02622950819672, 66.44, 'gini = 0.42\\nsamples = 10\\nvalue = [7, 3]'),\n",
       " Text(109.37845433255269, 78.52000000000001, 'X[0] <= 29.5\\ngini = 0.498\\nsamples = 85\\nvalue = [45, 40]'),\n",
       " Text(108.5943793911007, 66.44, 'gini = 0.375\\nsamples = 16\\nvalue = [4, 12]'),\n",
       " Text(110.16252927400468, 66.44, 'X[11] <= 334.5\\ngini = 0.482\\nsamples = 69\\nvalue = [41, 28]'),\n",
       " Text(109.37845433255269, 54.359999999999985, 'X[9] <= 13.5\\ngini = 0.435\\nsamples = 50\\nvalue = [34, 16]'),\n",
       " Text(108.5943793911007, 42.28, 'X[2] <= 1.5\\ngini = 0.375\\nsamples = 40\\nvalue = [30, 10]'),\n",
       " Text(107.81030444964871, 30.19999999999999, 'X[0] <= 37.0\\ngini = 0.444\\nsamples = 30\\nvalue = [20, 10]'),\n",
       " Text(107.02622950819672, 18.120000000000005, 'gini = 0.5\\nsamples = 10\\nvalue = [5, 5]'),\n",
       " Text(108.5943793911007, 18.120000000000005, 'X[11] <= 293.0\\ngini = 0.375\\nsamples = 20\\nvalue = [15, 5]'),\n",
       " Text(107.81030444964871, 6.039999999999992, 'gini = 0.48\\nsamples = 10\\nvalue = [6, 4]'),\n",
       " Text(109.37845433255269, 6.039999999999992, 'gini = 0.18\\nsamples = 10\\nvalue = [9, 1]'),\n",
       " Text(109.37845433255269, 30.19999999999999, 'gini = 0.0\\nsamples = 10\\nvalue = [10, 0]'),\n",
       " Text(110.16252927400468, 42.28, 'gini = 0.48\\nsamples = 10\\nvalue = [4, 6]'),\n",
       " Text(110.94660421545667, 54.359999999999985, 'gini = 0.465\\nsamples = 19\\nvalue = [7, 12]'),\n",
       " Text(113.29882903981265, 90.6, 'X[2] <= 0.5\\ngini = 0.231\\nsamples = 90\\nvalue = [78, 12]'),\n",
       " Text(112.51475409836065, 78.52000000000001, 'gini = 0.48\\nsamples = 15\\nvalue = [9, 6]'),\n",
       " Text(114.08290398126464, 78.52000000000001, 'X[1] <= 4.5\\ngini = 0.147\\nsamples = 75\\nvalue = [69, 6]'),\n",
       " Text(113.29882903981265, 66.44, 'X[12] <= 1.5\\ngini = 0.266\\nsamples = 38\\nvalue = [32, 6]'),\n",
       " Text(112.51475409836065, 54.359999999999985, 'gini = 0.463\\nsamples = 11\\nvalue = [7, 4]'),\n",
       " Text(114.08290398126464, 54.359999999999985, 'X[0] <= 37.5\\ngini = 0.137\\nsamples = 27\\nvalue = [25, 2]'),\n",
       " Text(113.29882903981265, 42.28, 'gini = 0.32\\nsamples = 10\\nvalue = [8, 2]'),\n",
       " Text(114.86697892271663, 42.28, 'gini = 0.0\\nsamples = 17\\nvalue = [17, 0]'),\n",
       " Text(114.86697892271663, 66.44, 'gini = 0.0\\nsamples = 37\\nvalue = [37, 0]'),\n",
       " Text(120.55152224824356, 102.67999999999999, 'X[0] <= 32.5\\ngini = 0.499\\nsamples = 168\\nvalue = [80, 88]'),\n",
       " Text(118.00327868852459, 90.6, 'X[1] <= 7.5\\ngini = 0.381\\nsamples = 43\\nvalue = [11, 32]'),\n",
       " Text(117.2192037470726, 78.52000000000001, 'X[5] <= 1760.5\\ngini = 0.48\\nsamples = 25\\nvalue = [10, 15]'),\n",
       " Text(116.43512880562061, 66.44, 'gini = 0.486\\nsamples = 12\\nvalue = [7, 5]'),\n",
       " Text(118.00327868852459, 66.44, 'gini = 0.355\\nsamples = 13\\nvalue = [3, 10]'),\n",
       " Text(118.78735362997658, 78.52000000000001, 'gini = 0.105\\nsamples = 18\\nvalue = [1, 17]'),\n",
       " Text(123.09976580796253, 90.6, 'X[9] <= 28.5\\ngini = 0.495\\nsamples = 125\\nvalue = [69, 56]'),\n",
       " Text(122.31569086651054, 78.52000000000001, 'X[11] <= 332.0\\ngini = 0.5\\nsamples = 112\\nvalue = [57, 55]'),\n",
       " Text(119.57142857142857, 66.44, 'X[12] <= 1.5\\ngini = 0.481\\nsamples = 77\\nvalue = [46, 31]'),\n",
       " Text(118.00327868852459, 54.359999999999985, 'X[5] <= 1405.0\\ngini = 0.48\\nsamples = 25\\nvalue = [10, 15]'),\n",
       " Text(117.2192037470726, 42.28, 'gini = 0.42\\nsamples = 10\\nvalue = [7, 3]'),\n",
       " Text(118.78735362997658, 42.28, 'gini = 0.32\\nsamples = 15\\nvalue = [3, 12]'),\n",
       " Text(121.13957845433255, 54.359999999999985, 'X[9] <= 16.5\\ngini = 0.426\\nsamples = 52\\nvalue = [36, 16]'),\n",
       " Text(120.35550351288056, 42.28, 'X[5] <= 2331.0\\ngini = 0.339\\nsamples = 37\\nvalue = [29, 8]'),\n",
       " Text(119.57142857142857, 30.19999999999999, 'X[3] <= 1.5\\ngini = 0.435\\nsamples = 25\\nvalue = [17, 8]'),\n",
       " Text(118.78735362997658, 18.120000000000005, 'gini = 0.278\\nsamples = 12\\nvalue = [10, 2]'),\n",
       " Text(120.35550351288056, 18.120000000000005, 'gini = 0.497\\nsamples = 13\\nvalue = [7, 6]'),\n",
       " Text(121.13957845433255, 30.19999999999999, 'gini = 0.0\\nsamples = 12\\nvalue = [12, 0]'),\n",
       " Text(121.92365339578454, 42.28, 'gini = 0.498\\nsamples = 15\\nvalue = [7, 8]'),\n",
       " Text(125.0599531615925, 66.44, 'X[1] <= 5.5\\ngini = 0.431\\nsamples = 35\\nvalue = [11, 24]'),\n",
       " Text(124.27587822014051, 54.359999999999985, 'X[5] <= 1469.0\\ngini = 0.308\\nsamples = 21\\nvalue = [4, 17]'),\n",
       " Text(123.49180327868852, 42.28, 'gini = 0.42\\nsamples = 10\\nvalue = [3, 7]'),\n",
       " Text(125.0599531615925, 42.28, 'gini = 0.165\\nsamples = 11\\nvalue = [1, 10]'),\n",
       " Text(125.8440281030445, 54.359999999999985, 'gini = 0.5\\nsamples = 14\\nvalue = [7, 7]'),\n",
       " Text(123.88384074941452, 78.52000000000001, 'gini = 0.142\\nsamples = 13\\nvalue = [12, 1]'),\n",
       " Text(133.48875878220142, 126.84, 'X[10] <= 7.5\\ngini = 0.358\\nsamples = 240\\nvalue = [56, 184]'),\n",
       " Text(128.98032786885247, 114.75999999999999, 'X[0] <= 50.5\\ngini = 0.17\\nsamples = 96\\nvalue = [9, 87]'),\n",
       " Text(128.19625292740048, 102.67999999999999, 'X[5] <= 142.0\\ngini = 0.116\\nsamples = 81\\nvalue = [5, 76]'),\n",
       " Text(127.41217798594847, 90.6, 'gini = 0.32\\nsamples = 10\\nvalue = [2, 8]'),\n",
       " Text(128.98032786885247, 90.6, 'X[5] <= 2058.5\\ngini = 0.081\\nsamples = 71\\nvalue = [3, 68]'),\n",
       " Text(127.41217798594847, 78.52000000000001, 'X[11] <= 244.0\\ngini = 0.038\\nsamples = 51\\nvalue = [1, 50]'),\n",
       " Text(126.62810304449648, 66.44, 'gini = 0.18\\nsamples = 10\\nvalue = [1, 9]'),\n",
       " Text(128.19625292740048, 66.44, 'gini = 0.0\\nsamples = 41\\nvalue = [0, 41]'),\n",
       " Text(130.54847775175645, 78.52000000000001, 'X[11] <= 302.5\\ngini = 0.18\\nsamples = 20\\nvalue = [2, 18]'),\n",
       " Text(129.76440281030446, 66.44, 'gini = 0.0\\nsamples = 10\\nvalue = [0, 10]'),\n",
       " Text(131.33255269320844, 66.44, 'gini = 0.32\\nsamples = 10\\nvalue = [2, 8]'),\n",
       " Text(129.76440281030446, 102.67999999999999, 'gini = 0.391\\nsamples = 15\\nvalue = [4, 11]'),\n",
       " Text(137.99718969555036, 114.75999999999999, 'X[9] <= 21.5\\ngini = 0.44\\nsamples = 144\\nvalue = [47, 97]'),\n",
       " Text(136.03700234192038, 102.67999999999999, 'X[9] <= 17.5\\ngini = 0.483\\nsamples = 103\\nvalue = [42, 61]'),\n",
       " Text(134.4688524590164, 90.6, 'X[12] <= 2.5\\ngini = 0.368\\nsamples = 70\\nvalue = [17, 53]'),\n",
       " Text(133.6847775175644, 78.52000000000001, 'X[5] <= 196.5\\ngini = 0.293\\nsamples = 56\\nvalue = [10, 46]'),\n",
       " Text(132.90070257611242, 66.44, 'gini = 0.444\\nsamples = 12\\nvalue = [4, 8]'),\n",
       " Text(134.4688524590164, 66.44, 'X[11] <= 278.5\\ngini = 0.236\\nsamples = 44\\nvalue = [6, 38]'),\n",
       " Text(133.6847775175644, 54.359999999999985, 'gini = 0.0\\nsamples = 18\\nvalue = [0, 18]'),\n",
       " Text(135.2529274004684, 54.359999999999985, 'X[1] <= 6.5\\ngini = 0.355\\nsamples = 26\\nvalue = [6, 20]'),\n",
       " Text(134.4688524590164, 42.28, 'gini = 0.49\\nsamples = 14\\nvalue = [6, 8]'),\n",
       " Text(136.03700234192038, 42.28, 'gini = 0.0\\nsamples = 12\\nvalue = [0, 12]'),\n",
       " Text(135.2529274004684, 78.52000000000001, 'gini = 0.5\\nsamples = 14\\nvalue = [7, 7]'),\n",
       " Text(137.60515222482437, 90.6, 'X[0] <= 32.5\\ngini = 0.367\\nsamples = 33\\nvalue = [25, 8]'),\n",
       " Text(136.82107728337238, 78.52000000000001, 'gini = 0.0\\nsamples = 10\\nvalue = [10, 0]'),\n",
       " Text(138.38922716627636, 78.52000000000001, 'X[5] <= 1740.0\\ngini = 0.454\\nsamples = 23\\nvalue = [15, 8]'),\n",
       " Text(137.60515222482437, 66.44, 'gini = 0.355\\nsamples = 13\\nvalue = [10, 3]'),\n",
       " Text(139.17330210772835, 66.44, 'gini = 0.5\\nsamples = 10\\nvalue = [5, 5]'),\n",
       " Text(139.95737704918034, 102.67999999999999, 'X[9] <= 25.5\\ngini = 0.214\\nsamples = 41\\nvalue = [5, 36]'),\n",
       " Text(139.17330210772835, 90.6, 'gini = 0.0\\nsamples = 19\\nvalue = [0, 19]'),\n",
       " Text(140.74145199063233, 90.6, 'X[10] <= 9.0\\ngini = 0.351\\nsamples = 22\\nvalue = [5, 17]'),\n",
       " Text(139.95737704918034, 78.52000000000001, 'gini = 0.48\\nsamples = 10\\nvalue = [4, 6]'),\n",
       " Text(141.52552693208432, 78.52000000000001, 'gini = 0.153\\nsamples = 12\\nvalue = [1, 11]'),\n",
       " Text(140.74145199063233, 138.92000000000002, 'X[9] <= 3.5\\ngini = 0.098\\nsamples = 97\\nvalue = [5, 92]'),\n",
       " Text(139.95737704918034, 126.84, 'gini = 0.375\\nsamples = 12\\nvalue = [3, 9]'),\n",
       " Text(141.52552693208432, 126.84, 'X[9] <= 21.5\\ngini = 0.046\\nsamples = 85\\nvalue = [2, 83]'),\n",
       " Text(140.74145199063233, 114.75999999999999, 'gini = 0.0\\nsamples = 60\\nvalue = [0, 60]'),\n",
       " Text(142.3096018735363, 114.75999999999999, 'X[0] <= 69.5\\ngini = 0.147\\nsamples = 25\\nvalue = [2, 23]'),\n",
       " Text(141.52552693208432, 102.67999999999999, 'gini = 0.0\\nsamples = 11\\nvalue = [0, 11]'),\n",
       " Text(143.0936768149883, 102.67999999999999, 'gini = 0.245\\nsamples = 14\\nvalue = [2, 12]'),\n",
       " Text(152.1105386416862, 151.0, 'X[15] <= 1.5\\ngini = 0.194\\nsamples = 495\\nvalue = [54, 441]'),\n",
       " Text(146.62201405152226, 138.92000000000002, 'X[5] <= 88.0\\ngini = 0.329\\nsamples = 217\\nvalue = [45, 172]'),\n",
       " Text(144.66182669789228, 126.84, 'X[11] <= 260.0\\ngini = 0.498\\nsamples = 30\\nvalue = [14, 16]'),\n",
       " Text(143.8777517564403, 114.75999999999999, 'gini = 0.397\\nsamples = 11\\nvalue = [8, 3]'),\n",
       " Text(145.44590163934427, 114.75999999999999, 'gini = 0.432\\nsamples = 19\\nvalue = [6, 13]'),\n",
       " Text(148.58220140515223, 126.84, 'X[1] <= 1.5\\ngini = 0.277\\nsamples = 187\\nvalue = [31, 156]'),\n",
       " Text(147.01405152224825, 114.75999999999999, 'X[1] <= 0.5\\ngini = 0.438\\nsamples = 34\\nvalue = [11, 23]'),\n",
       " Text(146.22997658079626, 102.67999999999999, 'gini = 0.198\\nsamples = 18\\nvalue = [2, 16]'),\n",
       " Text(147.79812646370024, 102.67999999999999, 'gini = 0.492\\nsamples = 16\\nvalue = [9, 7]'),\n",
       " Text(150.1503512880562, 114.75999999999999, 'X[5] <= 5488.0\\ngini = 0.227\\nsamples = 153\\nvalue = [20, 133]'),\n",
       " Text(149.36627634660422, 102.67999999999999, 'X[5] <= 2586.5\\ngini = 0.199\\nsamples = 143\\nvalue = [16, 127]'),\n",
       " Text(148.58220140515223, 90.6, 'X[5] <= 2050.5\\ngini = 0.247\\nsamples = 111\\nvalue = [16, 95]'),\n",
       " Text(147.79812646370024, 78.52000000000001, 'X[0] <= 55.5\\ngini = 0.213\\nsamples = 99\\nvalue = [12, 87]'),\n",
       " Text(147.01405152224825, 66.44, 'X[0] <= 38.5\\ngini = 0.255\\nsamples = 80\\nvalue = [12, 68]'),\n",
       " Text(145.44590163934427, 54.359999999999985, 'X[10] <= 6.5\\ngini = 0.171\\nsamples = 53\\nvalue = [5, 48]'),\n",
       " Text(144.66182669789228, 42.28, 'X[11] <= 314.0\\ngini = 0.278\\nsamples = 30\\nvalue = [5, 25]'),\n",
       " Text(143.8777517564403, 30.19999999999999, 'gini = 0.111\\nsamples = 17\\nvalue = [1, 16]'),\n",
       " Text(145.44590163934427, 30.19999999999999, 'gini = 0.426\\nsamples = 13\\nvalue = [4, 9]'),\n",
       " Text(146.22997658079626, 42.28, 'gini = 0.0\\nsamples = 23\\nvalue = [0, 23]'),\n",
       " Text(148.58220140515223, 54.359999999999985, 'X[13] <= 358.0\\ngini = 0.384\\nsamples = 27\\nvalue = [7, 20]'),\n",
       " Text(147.79812646370024, 42.28, 'gini = 0.291\\nsamples = 17\\nvalue = [3, 14]'),\n",
       " Text(149.36627634660422, 42.28, 'gini = 0.48\\nsamples = 10\\nvalue = [4, 6]'),\n",
       " Text(148.58220140515223, 66.44, 'gini = 0.0\\nsamples = 19\\nvalue = [0, 19]'),\n",
       " Text(149.36627634660422, 78.52000000000001, 'gini = 0.444\\nsamples = 12\\nvalue = [4, 8]'),\n",
       " Text(150.1503512880562, 90.6, 'gini = 0.0\\nsamples = 32\\nvalue = [0, 32]'),\n",
       " Text(150.9344262295082, 102.67999999999999, 'gini = 0.48\\nsamples = 10\\nvalue = [4, 6]'),\n",
       " Text(157.59906323185012, 138.92000000000002, 'X[8] <= 0.5\\ngini = 0.063\\nsamples = 278\\nvalue = [9, 269]'),\n",
       " Text(154.85480093676816, 126.84, 'X[1] <= 0.5\\ngini = 0.032\\nsamples = 245\\nvalue = [4, 241]'),\n",
       " Text(153.28665105386418, 114.75999999999999, 'X[11] <= 257.5\\ngini = 0.128\\nsamples = 29\\nvalue = [2, 27]'),\n",
       " Text(152.50257611241219, 102.67999999999999, 'gini = 0.32\\nsamples = 10\\nvalue = [2, 8]'),\n",
       " Text(154.07072599531617, 102.67999999999999, 'gini = 0.0\\nsamples = 19\\nvalue = [0, 19]'),\n",
       " Text(156.42295081967214, 114.75999999999999, 'X[13] <= 79.5\\ngini = 0.018\\nsamples = 216\\nvalue = [2, 214]'),\n",
       " Text(155.63887587822015, 102.67999999999999, 'gini = 0.165\\nsamples = 11\\nvalue = [1, 10]'),\n",
       " Text(157.20702576112413, 102.67999999999999, 'X[5] <= 5732.0\\ngini = 0.01\\nsamples = 205\\nvalue = [1, 204]'),\n",
       " Text(156.42295081967214, 90.6, 'gini = 0.0\\nsamples = 187\\nvalue = [0, 187]'),\n",
       " Text(157.99110070257612, 90.6, 'gini = 0.105\\nsamples = 18\\nvalue = [1, 17]'),\n",
       " Text(160.3433255269321, 126.84, 'X[13] <= 184.5\\ngini = 0.257\\nsamples = 33\\nvalue = [5, 28]'),\n",
       " Text(159.5592505854801, 114.75999999999999, 'X[13] <= 97.0\\ngini = 0.091\\nsamples = 21\\nvalue = [1, 20]'),\n",
       " Text(158.7751756440281, 102.67999999999999, 'gini = 0.0\\nsamples = 11\\nvalue = [0, 11]'),\n",
       " Text(160.3433255269321, 102.67999999999999, 'gini = 0.18\\nsamples = 10\\nvalue = [1, 9]'),\n",
       " Text(161.12740046838408, 114.75999999999999, 'gini = 0.444\\nsamples = 12\\nvalue = [4, 8]'),\n",
       " Text(192.04323038641687, 163.07999999999998, 'X[14] <= 0.5\\ngini = 0.482\\nsamples = 761\\nvalue = [452, 309]'),\n",
       " Text(176.96816451990634, 151.0, 'X[11] <= 377.5\\ngini = 0.411\\nsamples = 443\\nvalue = [315, 128]'),\n",
       " Text(167.71853044496487, 138.92000000000002, 'X[10] <= 9.5\\ngini = 0.358\\nsamples = 360\\nvalue = [276, 84]'),\n",
       " Text(166.93445550351288, 126.84, 'X[9] <= 4.5\\ngini = 0.337\\nsamples = 350\\nvalue = [275, 75]'),\n",
       " Text(162.69555035128806, 114.75999999999999, 'X[10] <= 4.0\\ngini = 0.499\\nsamples = 25\\nvalue = [12, 13]'),\n",
       " Text(161.91147540983607, 102.67999999999999, 'gini = 0.391\\nsamples = 15\\nvalue = [11, 4]'),\n",
       " Text(163.47962529274005, 102.67999999999999, 'gini = 0.18\\nsamples = 10\\nvalue = [1, 9]'),\n",
       " Text(171.1733606557377, 114.75999999999999, 'X[10] <= 3.5\\ngini = 0.309\\nsamples = 325\\nvalue = [263, 62]'),\n",
       " Text(165.04777517564403, 102.67999999999999, 'X[9] <= 20.5\\ngini = 0.411\\nsamples = 104\\nvalue = [74, 30]'),\n",
       " Text(163.47962529274005, 90.6, 'X[10] <= 2.5\\ngini = 0.326\\nsamples = 83\\nvalue = [66, 17]'),\n",
       " Text(162.69555035128806, 78.52000000000001, 'X[11] <= 273.0\\ngini = 0.239\\nsamples = 72\\nvalue = [62, 10]'),\n",
       " Text(161.12740046838408, 66.44, 'X[3] <= 1.5\\ngini = 0.089\\nsamples = 43\\nvalue = [41, 2]'),\n",
       " Text(160.3433255269321, 54.359999999999985, 'gini = 0.0\\nsamples = 32\\nvalue = [32, 0]'),\n",
       " Text(161.91147540983607, 54.359999999999985, 'gini = 0.298\\nsamples = 11\\nvalue = [9, 2]'),\n",
       " Text(164.26370023419204, 66.44, 'X[9] <= 15.5\\ngini = 0.4\\nsamples = 29\\nvalue = [21, 8]'),\n",
       " Text(163.47962529274005, 54.359999999999985, 'gini = 0.498\\nsamples = 17\\nvalue = [9, 8]'),\n",
       " Text(165.04777517564403, 54.359999999999985, 'gini = 0.0\\nsamples = 12\\nvalue = [12, 0]'),\n",
       " Text(164.26370023419204, 78.52000000000001, 'gini = 0.463\\nsamples = 11\\nvalue = [4, 7]'),\n",
       " Text(166.61592505854802, 90.6, 'X[10] <= 0.5\\ngini = 0.472\\nsamples = 21\\nvalue = [8, 13]'),\n",
       " Text(165.83185011709602, 78.52000000000001, 'gini = 0.298\\nsamples = 11\\nvalue = [2, 9]'),\n",
       " Text(167.4, 78.52000000000001, 'gini = 0.48\\nsamples = 10\\nvalue = [6, 4]'),\n",
       " Text(177.2989461358314, 102.67999999999999, 'X[0] <= 37.5\\ngini = 0.248\\nsamples = 221\\nvalue = [189, 32]'),\n",
       " Text(172.30046838407495, 90.6, 'X[10] <= 5.5\\ngini = 0.334\\nsamples = 118\\nvalue = [93, 25]'),\n",
       " Text(168.968149882904, 78.52000000000001, 'X[9] <= 12.5\\ngini = 0.219\\nsamples = 48\\nvalue = [42, 6]'),\n",
       " Text(168.184074941452, 66.44, 'gini = 0.42\\nsamples = 10\\nvalue = [7, 3]'),\n",
       " Text(169.75222482435598, 66.44, 'X[12] <= 3.5\\ngini = 0.145\\nsamples = 38\\nvalue = [35, 3]'),\n",
       " Text(168.968149882904, 54.359999999999985, 'gini = 0.0\\nsamples = 27\\nvalue = [27, 0]'),\n",
       " Text(170.53629976580797, 54.359999999999985, 'gini = 0.397\\nsamples = 11\\nvalue = [8, 3]'),\n",
       " Text(175.6327868852459, 78.52000000000001, 'X[0] <= 33.5\\ngini = 0.396\\nsamples = 70\\nvalue = [51, 19]'),\n",
       " Text(173.67259953161593, 66.44, 'X[9] <= 16.0\\ngini = 0.31\\nsamples = 47\\nvalue = [38, 9]'),\n",
       " Text(172.10444964871195, 54.359999999999985, 'X[5] <= 565.0\\ngini = 0.137\\nsamples = 27\\nvalue = [25, 2]'),\n",
       " Text(171.32037470725996, 42.28, 'gini = 0.0\\nsamples = 16\\nvalue = [16, 0]'),\n",
       " Text(172.88852459016394, 42.28, 'gini = 0.298\\nsamples = 11\\nvalue = [9, 2]'),\n",
       " Text(175.2407494145199, 54.359999999999985, 'X[5] <= 564.0\\ngini = 0.455\\nsamples = 20\\nvalue = [13, 7]'),\n",
       " Text(174.45667447306792, 42.28, 'gini = 0.5\\nsamples = 10\\nvalue = [5, 5]'),\n",
       " Text(176.0248243559719, 42.28, 'gini = 0.32\\nsamples = 10\\nvalue = [8, 2]'),\n",
       " Text(177.59297423887588, 66.44, 'X[9] <= 17.0\\ngini = 0.491\\nsamples = 23\\nvalue = [13, 10]'),\n",
       " Text(176.8088992974239, 54.359999999999985, 'gini = 0.473\\nsamples = 13\\nvalue = [5, 8]'),\n",
       " Text(178.37704918032787, 54.359999999999985, 'gini = 0.32\\nsamples = 10\\nvalue = [8, 2]'),\n",
       " Text(182.29742388758783, 90.6, 'X[5] <= 1351.5\\ngini = 0.127\\nsamples = 103\\nvalue = [96, 7]'),\n",
       " Text(181.51334894613584, 78.52000000000001, 'X[9] <= 21.5\\ngini = 0.069\\nsamples = 84\\nvalue = [81, 3]'),\n",
       " Text(180.72927400468384, 66.44, 'X[5] <= 718.5\\ngini = 0.03\\nsamples = 65\\nvalue = [64, 1]'),\n",
       " Text(179.94519906323185, 54.359999999999985, 'gini = 0.0\\nsamples = 55\\nvalue = [55, 0]'),\n",
       " Text(181.51334894613584, 54.359999999999985, 'gini = 0.18\\nsamples = 10\\nvalue = [9, 1]'),\n",
       " Text(182.29742388758783, 66.44, 'gini = 0.188\\nsamples = 19\\nvalue = [17, 2]'),\n",
       " Text(183.08149882903982, 78.52000000000001, 'gini = 0.332\\nsamples = 19\\nvalue = [15, 4]'),\n",
       " Text(168.50260538641686, 126.84, 'gini = 0.18\\nsamples = 10\\nvalue = [1, 9]'),\n",
       " Text(186.21779859484778, 138.92000000000002, 'X[0] <= 29.5\\ngini = 0.498\\nsamples = 83\\nvalue = [39, 44]'),\n",
       " Text(185.4337236533958, 126.84, 'gini = 0.355\\nsamples = 13\\nvalue = [3, 10]'),\n",
       " Text(187.00187353629977, 126.84, 'X[0] <= 51.5\\ngini = 0.5\\nsamples = 70\\nvalue = [36, 34]'),\n",
       " Text(186.21779859484778, 114.75999999999999, 'X[1] <= 5.0\\ngini = 0.489\\nsamples = 54\\nvalue = [31, 23]'),\n",
       " Text(184.6496487119438, 102.67999999999999, 'X[5] <= 984.0\\ngini = 0.444\\nsamples = 33\\nvalue = [22, 11]'),\n",
       " Text(183.8655737704918, 90.6, 'gini = 0.346\\nsamples = 18\\nvalue = [14, 4]'),\n",
       " Text(185.4337236533958, 90.6, 'gini = 0.498\\nsamples = 15\\nvalue = [8, 7]'),\n",
       " Text(187.78594847775176, 102.67999999999999, 'X[10] <= 5.5\\ngini = 0.49\\nsamples = 21\\nvalue = [9, 12]'),\n",
       " Text(187.00187353629977, 90.6, 'gini = 0.48\\nsamples = 10\\nvalue = [6, 4]'),\n",
       " Text(188.57002341920375, 90.6, 'gini = 0.397\\nsamples = 11\\nvalue = [3, 8]'),\n",
       " Text(187.78594847775176, 114.75999999999999, 'gini = 0.43\\nsamples = 16\\nvalue = [5, 11]'),\n",
       " Text(207.1182962529274, 151.0, 'X[15] <= 1.5\\ngini = 0.49\\nsamples = 318\\nvalue = [137, 181]'),\n",
       " Text(203.71247072599533, 138.92000000000002, 'X[13] <= 374.5\\ngini = 0.489\\nsamples = 216\\nvalue = [124, 92]'),\n",
       " Text(200.8211943793911, 126.84, 'X[9] <= 21.5\\ngini = 0.46\\nsamples = 192\\nvalue = [123, 69]'),\n",
       " Text(197.39086651053864, 114.75999999999999, 'X[5] <= 1105.0\\ngini = 0.414\\nsamples = 164\\nvalue = [116, 48]'),\n",
       " Text(192.8824355971897, 102.67999999999999, 'X[11] <= 294.0\\ngini = 0.311\\nsamples = 114\\nvalue = [92, 22]'),\n",
       " Text(190.13817330210773, 90.6, 'X[1] <= 0.5\\ngini = 0.131\\nsamples = 57\\nvalue = [53, 4]'),\n",
       " Text(189.35409836065574, 78.52000000000001, 'gini = 0.32\\nsamples = 10\\nvalue = [8, 2]'),\n",
       " Text(190.92224824355972, 78.52000000000001, 'X[11] <= 224.5\\ngini = 0.081\\nsamples = 47\\nvalue = [45, 2]'),\n",
       " Text(190.13817330210773, 66.44, 'gini = 0.298\\nsamples = 11\\nvalue = [9, 2]'),\n",
       " Text(191.7063231850117, 66.44, 'gini = 0.0\\nsamples = 36\\nvalue = [36, 0]'),\n",
       " Text(195.62669789227166, 90.6, 'X[10] <= 3.5\\ngini = 0.432\\nsamples = 57\\nvalue = [39, 18]'),\n",
       " Text(194.05854800936768, 78.52000000000001, 'X[5] <= 514.5\\ngini = 0.18\\nsamples = 20\\nvalue = [18, 2]'),\n",
       " Text(193.2744730679157, 66.44, 'gini = 0.32\\nsamples = 10\\nvalue = [8, 2]'),\n",
       " Text(194.84262295081967, 66.44, 'gini = 0.0\\nsamples = 10\\nvalue = [10, 0]'),\n",
       " Text(197.19484777517565, 78.52000000000001, 'X[2] <= 1.5\\ngini = 0.491\\nsamples = 37\\nvalue = [21, 16]'),\n",
       " Text(196.41077283372366, 66.44, 'X[0] <= 39.5\\ngini = 0.403\\nsamples = 25\\nvalue = [18, 7]'),\n",
       " Text(195.62669789227166, 54.359999999999985, 'gini = 0.153\\nsamples = 12\\nvalue = [11, 1]'),\n",
       " Text(197.19484777517565, 54.359999999999985, 'gini = 0.497\\nsamples = 13\\nvalue = [7, 6]'),\n",
       " Text(197.97892271662764, 66.44, 'gini = 0.375\\nsamples = 12\\nvalue = [3, 9]'),\n",
       " Text(201.8992974238876, 102.67999999999999, 'X[13] <= 325.0\\ngini = 0.499\\nsamples = 50\\nvalue = [24, 26]'),\n",
       " Text(201.1152224824356, 90.6, 'X[5] <= 4195.5\\ngini = 0.46\\nsamples = 39\\nvalue = [14, 25]'),\n",
       " Text(200.3311475409836, 78.52000000000001, 'X[11] <= 293.5\\ngini = 0.346\\nsamples = 27\\nvalue = [6, 21]'),\n",
       " Text(199.54707259953162, 66.44, 'gini = 0.0\\nsamples = 10\\nvalue = [0, 10]'),\n",
       " Text(201.1152224824356, 66.44, 'gini = 0.457\\nsamples = 17\\nvalue = [6, 11]'),\n",
       " Text(201.8992974238876, 78.52000000000001, 'gini = 0.444\\nsamples = 12\\nvalue = [8, 4]'),\n",
       " Text(202.68337236533958, 90.6, 'gini = 0.165\\nsamples = 11\\nvalue = [10, 1]'),\n",
       " Text(204.25152224824356, 114.75999999999999, 'X[9] <= 27.5\\ngini = 0.375\\nsamples = 28\\nvalue = [7, 21]'),\n",
       " Text(203.46744730679157, 102.67999999999999, 'gini = 0.117\\nsamples = 16\\nvalue = [1, 15]'),\n",
       " Text(205.03559718969555, 102.67999999999999, 'gini = 0.5\\nsamples = 12\\nvalue = [6, 6]'),\n",
       " Text(206.60374707259953, 126.84, 'X[11] <= 307.5\\ngini = 0.08\\nsamples = 24\\nvalue = [1, 23]'),\n",
       " Text(205.81967213114754, 114.75999999999999, 'gini = 0.18\\nsamples = 10\\nvalue = [1, 9]'),\n",
       " Text(207.38782201405152, 114.75999999999999, 'gini = 0.0\\nsamples = 14\\nvalue = [0, 14]'),\n",
       " Text(210.52412177985948, 138.92000000000002, 'X[12] <= 2.5\\ngini = 0.222\\nsamples = 102\\nvalue = [13, 89]'),\n",
       " Text(209.7400468384075, 126.84, 'X[11] <= 225.5\\ngini = 0.169\\nsamples = 86\\nvalue = [8, 78]'),\n",
       " Text(208.9559718969555, 114.75999999999999, 'gini = 0.42\\nsamples = 10\\nvalue = [3, 7]'),\n",
       " Text(210.52412177985948, 114.75999999999999, 'X[13] <= 170.0\\ngini = 0.123\\nsamples = 76\\nvalue = [5, 71]'),\n",
       " Text(209.7400468384075, 102.67999999999999, 'gini = 0.0\\nsamples = 33\\nvalue = [0, 33]'),\n",
       " Text(211.30819672131148, 102.67999999999999, 'X[0] <= 35.5\\ngini = 0.206\\nsamples = 43\\nvalue = [5, 38]'),\n",
       " Text(210.52412177985948, 90.6, 'gini = 0.36\\nsamples = 17\\nvalue = [4, 13]'),\n",
       " Text(212.09227166276347, 90.6, 'X[5] <= 650.5\\ngini = 0.074\\nsamples = 26\\nvalue = [1, 25]'),\n",
       " Text(211.30819672131148, 78.52000000000001, 'gini = 0.18\\nsamples = 10\\nvalue = [1, 9]'),\n",
       " Text(212.87634660421546, 78.52000000000001, 'gini = 0.0\\nsamples = 16\\nvalue = [0, 16]'),\n",
       " Text(211.30819672131148, 126.84, 'gini = 0.43\\nsamples = 16\\nvalue = [5, 11]'),\n",
       " Text(220.52107728337236, 175.16, 'X[11] <= 367.0\\ngini = 0.121\\nsamples = 401\\nvalue = [375, 26]'),\n",
       " Text(217.1887587822014, 163.07999999999998, 'X[5] <= 3208.5\\ngini = 0.077\\nsamples = 323\\nvalue = [310, 13]'),\n",
       " Text(215.22857142857143, 151.0, 'X[3] <= 1.5\\ngini = 0.047\\nsamples = 288\\nvalue = [281, 7]'),\n",
       " Text(213.66042154566745, 138.92000000000002, 'X[9] <= 5.5\\ngini = 0.018\\nsamples = 217\\nvalue = [215, 2]'),\n",
       " Text(212.87634660421546, 126.84, 'gini = 0.188\\nsamples = 19\\nvalue = [17, 2]'),\n",
       " Text(214.44449648711944, 126.84, 'gini = 0.0\\nsamples = 198\\nvalue = [198, 0]'),\n",
       " Text(216.7967213114754, 138.92000000000002, 'X[11] <= 301.5\\ngini = 0.131\\nsamples = 71\\nvalue = [66, 5]'),\n",
       " Text(216.01264637002342, 126.84, 'X[11] <= 230.5\\ngini = 0.073\\nsamples = 53\\nvalue = [51, 2]'),\n",
       " Text(215.22857142857143, 114.75999999999999, 'gini = 0.278\\nsamples = 12\\nvalue = [10, 2]'),\n",
       " Text(216.7967213114754, 114.75999999999999, 'gini = 0.0\\nsamples = 41\\nvalue = [41, 0]'),\n",
       " Text(217.5807962529274, 126.84, 'gini = 0.278\\nsamples = 18\\nvalue = [15, 3]'),\n",
       " Text(219.14894613583138, 151.0, 'X[12] <= 1.5\\ngini = 0.284\\nsamples = 35\\nvalue = [29, 6]'),\n",
       " Text(218.3648711943794, 138.92000000000002, 'gini = 0.49\\nsamples = 14\\nvalue = [8, 6]'),\n",
       " Text(219.93302107728337, 138.92000000000002, 'gini = 0.0\\nsamples = 21\\nvalue = [21, 0]'),\n",
       " Text(223.85339578454332, 163.07999999999998, 'X[10] <= 7.0\\ngini = 0.278\\nsamples = 78\\nvalue = [65, 13]'),\n",
       " Text(222.28524590163934, 151.0, 'X[0] <= 35.5\\ngini = 0.438\\nsamples = 34\\nvalue = [23, 11]'),\n",
       " Text(221.50117096018735, 138.92000000000002, 'gini = 0.496\\nsamples = 11\\nvalue = [5, 6]'),\n",
       " Text(223.06932084309133, 138.92000000000002, 'X[5] <= 534.5\\ngini = 0.34\\nsamples = 23\\nvalue = [18, 5]'),\n",
       " Text(222.28524590163934, 126.84, 'gini = 0.42\\nsamples = 10\\nvalue = [7, 3]'),\n",
       " Text(223.85339578454332, 126.84, 'gini = 0.26\\nsamples = 13\\nvalue = [11, 2]'),\n",
       " Text(225.4215456674473, 151.0, 'X[0] <= 31.5\\ngini = 0.087\\nsamples = 44\\nvalue = [42, 2]'),\n",
       " Text(224.6374707259953, 138.92000000000002, 'gini = 0.298\\nsamples = 11\\nvalue = [9, 2]'),\n",
       " Text(226.2056206088993, 138.92000000000002, 'gini = 0.0\\nsamples = 33\\nvalue = [33, 0]'),\n",
       " Text(280.8374204112998, 187.24, 'X[11] <= 637.5\\ngini = 0.311\\nsamples = 2229\\nvalue = [430, 1799]'),\n",
       " Text(262.04948404566744, 175.16, 'X[8] <= 1.5\\ngini = 0.403\\nsamples = 890\\nvalue = [249, 641]'),\n",
       " Text(251.6819306206089, 163.07999999999998, 'X[7] <= 0.5\\ngini = 0.355\\nsamples = 731\\nvalue = [169, 562]'),\n",
       " Text(240.7477605386417, 151.0, 'X[6] <= 0.5\\ngini = 0.329\\nsamples = 654\\nvalue = [136, 518]'),\n",
       " Text(233.13978337236534, 138.92000000000002, 'X[13] <= 79.0\\ngini = 0.266\\nsamples = 399\\nvalue = [63, 336]'),\n",
       " Text(225.4215456674473, 126.84, 'X[1] <= 2.5\\ngini = 0.305\\nsamples = 288\\nvalue = [54, 234]'),\n",
       " Text(222.4322599531616, 114.75999999999999, 'X[11] <= 574.0\\ngini = 0.423\\nsamples = 56\\nvalue = [17, 39]'),\n",
       " Text(221.64818501170961, 102.67999999999999, 'X[11] <= 500.0\\ngini = 0.364\\nsamples = 46\\nvalue = [11, 35]'),\n",
       " Text(220.08003512880563, 90.6, 'X[5] <= 680.5\\ngini = 0.463\\nsamples = 22\\nvalue = [8, 14]'),\n",
       " Text(219.29596018735364, 78.52000000000001, 'gini = 0.42\\nsamples = 10\\nvalue = [7, 3]'),\n",
       " Text(220.86411007025762, 78.52000000000001, 'gini = 0.153\\nsamples = 12\\nvalue = [1, 11]'),\n",
       " Text(223.2163348946136, 90.6, 'X[0] <= 37.0\\ngini = 0.219\\nsamples = 24\\nvalue = [3, 21]'),\n",
       " Text(222.4322599531616, 78.52000000000001, 'gini = 0.42\\nsamples = 10\\nvalue = [3, 7]'),\n",
       " Text(224.0004098360656, 78.52000000000001, 'gini = 0.0\\nsamples = 14\\nvalue = [0, 14]'),\n",
       " Text(223.2163348946136, 102.67999999999999, 'gini = 0.48\\nsamples = 10\\nvalue = [6, 4]'),\n",
       " Text(228.41083138173303, 114.75999999999999, 'X[2] <= 0.5\\ngini = 0.268\\nsamples = 232\\nvalue = [37, 195]'),\n",
       " Text(225.56855971896957, 102.67999999999999, 'X[5] <= 1711.5\\ngini = 0.061\\nsamples = 32\\nvalue = [1, 31]'),\n",
       " Text(224.78448477751758, 90.6, 'gini = 0.0\\nsamples = 22\\nvalue = [0, 22]'),\n",
       " Text(226.35263466042156, 90.6, 'gini = 0.18\\nsamples = 10\\nvalue = [1, 9]'),\n",
       " Text(231.2531030444965, 102.67999999999999, 'X[0] <= 46.5\\ngini = 0.295\\nsamples = 200\\nvalue = [36, 164]'),\n",
       " Text(227.92078454332554, 90.6, 'X[5] <= 36.5\\ngini = 0.223\\nsamples = 133\\nvalue = [17, 116]'),\n",
       " Text(227.13670960187355, 78.52000000000001, 'gini = 0.42\\nsamples = 10\\nvalue = [3, 7]'),\n",
       " Text(228.70485948477753, 78.52000000000001, 'X[0] <= 35.5\\ngini = 0.202\\nsamples = 123\\nvalue = [14, 109]'),\n",
       " Text(226.74467213114755, 66.44, 'X[2] <= 1.5\\ngini = 0.243\\nsamples = 92\\nvalue = [13, 79]'),\n",
       " Text(225.17652224824357, 54.359999999999985, 'X[5] <= 1129.0\\ngini = 0.42\\nsamples = 20\\nvalue = [6, 14]'),\n",
       " Text(224.39244730679158, 42.28, 'gini = 0.5\\nsamples = 10\\nvalue = [5, 5]'),\n",
       " Text(225.96059718969556, 42.28, 'gini = 0.18\\nsamples = 10\\nvalue = [1, 9]'),\n",
       " Text(228.31282201405153, 54.359999999999985, 'X[5] <= 2422.5\\ngini = 0.176\\nsamples = 72\\nvalue = [7, 65]'),\n",
       " Text(227.52874707259954, 42.28, 'X[0] <= 32.5\\ngini = 0.07\\nsamples = 55\\nvalue = [2, 53]'),\n",
       " Text(226.74467213114755, 30.19999999999999, 'gini = 0.0\\nsamples = 43\\nvalue = [0, 43]'),\n",
       " Text(228.31282201405153, 30.19999999999999, 'gini = 0.278\\nsamples = 12\\nvalue = [2, 10]'),\n",
       " Text(229.09689695550352, 42.28, 'gini = 0.415\\nsamples = 17\\nvalue = [5, 12]'),\n",
       " Text(230.6650468384075, 66.44, 'X[11] <= 518.5\\ngini = 0.062\\nsamples = 31\\nvalue = [1, 30]'),\n",
       " Text(229.88097189695551, 54.359999999999985, 'gini = 0.18\\nsamples = 10\\nvalue = [1, 9]'),\n",
       " Text(231.4491217798595, 54.359999999999985, 'gini = 0.0\\nsamples = 21\\nvalue = [0, 21]'),\n",
       " Text(234.58542154566746, 90.6, 'X[9] <= 13.5\\ngini = 0.406\\nsamples = 67\\nvalue = [19, 48]'),\n",
       " Text(233.01727166276348, 78.52000000000001, 'X[11] <= 511.5\\ngini = 0.208\\nsamples = 34\\nvalue = [4, 30]'),\n",
       " Text(232.2331967213115, 66.44, 'gini = 0.346\\nsamples = 18\\nvalue = [4, 14]'),\n",
       " Text(233.80134660421547, 66.44, 'gini = 0.0\\nsamples = 16\\nvalue = [0, 16]'),\n",
       " Text(236.15357142857144, 78.52000000000001, 'X[11] <= 515.0\\ngini = 0.496\\nsamples = 33\\nvalue = [15, 18]'),\n",
       " Text(235.36949648711945, 66.44, 'gini = 0.388\\nsamples = 19\\nvalue = [5, 14]'),\n",
       " Text(236.93764637002343, 66.44, 'gini = 0.408\\nsamples = 14\\nvalue = [10, 4]'),\n",
       " Text(240.85802107728338, 126.84, 'X[3] <= 1.5\\ngini = 0.149\\nsamples = 111\\nvalue = [9, 102]'),\n",
       " Text(240.0739461358314, 114.75999999999999, 'X[2] <= 1.5\\ngini = 0.23\\nsamples = 68\\nvalue = [9, 59]'),\n",
       " Text(239.2898711943794, 102.67999999999999, 'X[15] <= 1.5\\ngini = 0.165\\nsamples = 55\\nvalue = [5, 50]'),\n",
       " Text(238.5057962529274, 90.6, 'X[13] <= 189.5\\ngini = 0.311\\nsamples = 26\\nvalue = [5, 21]'),\n",
       " Text(237.72172131147542, 78.52000000000001, 'gini = 0.459\\nsamples = 14\\nvalue = [5, 9]'),\n",
       " Text(239.2898711943794, 78.52000000000001, 'gini = 0.0\\nsamples = 12\\nvalue = [0, 12]'),\n",
       " Text(240.0739461358314, 90.6, 'gini = 0.0\\nsamples = 29\\nvalue = [0, 29]'),\n",
       " Text(240.85802107728338, 102.67999999999999, 'gini = 0.426\\nsamples = 13\\nvalue = [4, 9]'),\n",
       " Text(241.64209601873537, 114.75999999999999, 'gini = 0.0\\nsamples = 43\\nvalue = [0, 43]'),\n",
       " Text(248.35573770491803, 138.92000000000002, 'X[5] <= 13.5\\ngini = 0.409\\nsamples = 255\\nvalue = [73, 182]'),\n",
       " Text(243.99432084309134, 126.84, 'X[5] <= -323.0\\ngini = 0.5\\nsamples = 43\\nvalue = [21, 22]'),\n",
       " Text(243.21024590163935, 114.75999999999999, 'gini = 0.32\\nsamples = 10\\nvalue = [2, 8]'),\n",
       " Text(244.77839578454333, 114.75999999999999, 'X[10] <= 6.0\\ngini = 0.489\\nsamples = 33\\nvalue = [19, 14]'),\n",
       " Text(243.99432084309134, 102.67999999999999, 'gini = 0.43\\nsamples = 16\\nvalue = [11, 5]'),\n",
       " Text(245.56247072599533, 102.67999999999999, 'gini = 0.498\\nsamples = 17\\nvalue = [8, 9]'),\n",
       " Text(252.71715456674474, 126.84, 'X[11] <= 478.5\\ngini = 0.37\\nsamples = 212\\nvalue = [52, 160]'),\n",
       " Text(248.6987704918033, 114.75999999999999, 'X[0] <= 37.5\\ngini = 0.476\\nsamples = 46\\nvalue = [18, 28]'),\n",
       " Text(247.1306206088993, 102.67999999999999, 'X[11] <= 460.5\\ngini = 0.497\\nsamples = 26\\nvalue = [14, 12]'),\n",
       " Text(246.34654566744732, 90.6, 'gini = 0.43\\nsamples = 16\\nvalue = [5, 11]'),\n",
       " Text(247.9146955503513, 90.6, 'gini = 0.18\\nsamples = 10\\nvalue = [9, 1]'),\n",
       " Text(250.26692037470727, 102.67999999999999, 'X[0] <= 44.5\\ngini = 0.32\\nsamples = 20\\nvalue = [4, 16]'),\n",
       " Text(249.48284543325528, 90.6, 'gini = 0.42\\nsamples = 10\\nvalue = [3, 7]'),\n",
       " Text(251.05099531615926, 90.6, 'gini = 0.18\\nsamples = 10\\nvalue = [1, 9]'),\n",
       " Text(256.73553864168616, 114.75999999999999, 'X[1] <= 1.5\\ngini = 0.326\\nsamples = 166\\nvalue = [34, 132]'),\n",
       " Text(253.40322014051523, 102.67999999999999, 'X[5] <= 1809.5\\ngini = 0.222\\nsamples = 63\\nvalue = [8, 55]'),\n",
       " Text(252.61914519906324, 90.6, 'X[11] <= 579.5\\ngini = 0.14\\nsamples = 53\\nvalue = [4, 49]'),\n",
       " Text(251.83507025761125, 78.52000000000001, 'gini = 0.0\\nsamples = 26\\nvalue = [0, 26]'),\n",
       " Text(253.40322014051523, 78.52000000000001, 'X[11] <= 609.5\\ngini = 0.252\\nsamples = 27\\nvalue = [4, 23]'),\n",
       " Text(252.61914519906324, 66.44, 'gini = 0.355\\nsamples = 13\\nvalue = [3, 10]'),\n",
       " Text(254.18729508196722, 66.44, 'gini = 0.133\\nsamples = 14\\nvalue = [1, 13]'),\n",
       " Text(254.18729508196722, 90.6, 'gini = 0.48\\nsamples = 10\\nvalue = [4, 6]'),\n",
       " Text(260.0678571428571, 102.67999999999999, 'X[9] <= 20.5\\ngini = 0.377\\nsamples = 103\\nvalue = [26, 77]'),\n",
       " Text(258.10766978922715, 90.6, 'X[10] <= 5.5\\ngini = 0.314\\nsamples = 77\\nvalue = [15, 62]'),\n",
       " Text(256.53951990632316, 78.52000000000001, 'X[0] <= 41.5\\ngini = 0.422\\nsamples = 33\\nvalue = [10, 23]'),\n",
       " Text(255.7554449648712, 66.44, 'X[10] <= 4.0\\ngini = 0.34\\nsamples = 23\\nvalue = [5, 18]'),\n",
       " Text(254.9713700234192, 54.359999999999985, 'gini = 0.142\\nsamples = 13\\nvalue = [1, 12]'),\n",
       " Text(256.53951990632316, 54.359999999999985, 'gini = 0.48\\nsamples = 10\\nvalue = [4, 6]'),\n",
       " Text(257.32359484777515, 66.44, 'gini = 0.5\\nsamples = 10\\nvalue = [5, 5]'),\n",
       " Text(259.6758196721311, 78.52000000000001, 'X[11] <= 533.5\\ngini = 0.201\\nsamples = 44\\nvalue = [5, 39]'),\n",
       " Text(258.89174473067914, 66.44, 'gini = 0.0\\nsamples = 17\\nvalue = [0, 17]'),\n",
       " Text(260.4598946135831, 66.44, 'X[1] <= 5.0\\ngini = 0.302\\nsamples = 27\\nvalue = [5, 22]'),\n",
       " Text(259.6758196721311, 54.359999999999985, 'gini = 0.142\\nsamples = 13\\nvalue = [1, 12]'),\n",
       " Text(261.2439695550351, 54.359999999999985, 'gini = 0.408\\nsamples = 14\\nvalue = [4, 10]'),\n",
       " Text(262.0280444964871, 90.6, 'X[9] <= 23.5\\ngini = 0.488\\nsamples = 26\\nvalue = [11, 15]'),\n",
       " Text(261.2439695550351, 78.52000000000001, 'gini = 0.48\\nsamples = 10\\nvalue = [6, 4]'),\n",
       " Text(262.8121194379391, 78.52000000000001, 'gini = 0.43\\nsamples = 16\\nvalue = [5, 11]'),\n",
       " Text(262.6161007025761, 151.0, 'X[9] <= 16.5\\ngini = 0.49\\nsamples = 77\\nvalue = [33, 44]'),\n",
       " Text(260.6559133489461, 138.92000000000002, 'X[11] <= 521.0\\ngini = 0.498\\nsamples = 47\\nvalue = [25, 22]'),\n",
       " Text(259.08776346604213, 126.84, 'X[12] <= 1.5\\ngini = 0.375\\nsamples = 20\\nvalue = [15, 5]'),\n",
       " Text(258.30368852459014, 114.75999999999999, 'gini = 0.18\\nsamples = 10\\nvalue = [9, 1]'),\n",
       " Text(259.8718384074941, 114.75999999999999, 'gini = 0.48\\nsamples = 10\\nvalue = [6, 4]'),\n",
       " Text(262.2240632318501, 126.84, 'X[5] <= 301.5\\ngini = 0.466\\nsamples = 27\\nvalue = [10, 17]'),\n",
       " Text(261.4399882903981, 114.75999999999999, 'gini = 0.408\\nsamples = 14\\nvalue = [4, 10]'),\n",
       " Text(263.0081381733021, 114.75999999999999, 'gini = 0.497\\nsamples = 13\\nvalue = [6, 7]'),\n",
       " Text(264.57628805620607, 138.92000000000002, 'X[12] <= 1.5\\ngini = 0.391\\nsamples = 30\\nvalue = [8, 22]'),\n",
       " Text(263.7922131147541, 126.84, 'gini = 0.219\\nsamples = 16\\nvalue = [2, 14]'),\n",
       " Text(265.36036299765806, 126.84, 'gini = 0.49\\nsamples = 14\\nvalue = [6, 8]'),\n",
       " Text(272.417037470726, 163.07999999999998, 'X[10] <= 7.5\\ngini = 0.5\\nsamples = 159\\nvalue = [80, 79]'),\n",
       " Text(269.280737704918, 151.0, 'X[0] <= 46.5\\ngini = 0.457\\nsamples = 68\\nvalue = [24, 44]'),\n",
       " Text(267.71258782201403, 138.92000000000002, 'X[2] <= 1.5\\ngini = 0.395\\nsamples = 48\\nvalue = [13, 35]'),\n",
       " Text(266.92851288056204, 126.84, 'X[1] <= 5.0\\ngini = 0.48\\nsamples = 30\\nvalue = [12, 18]'),\n",
       " Text(266.14443793911005, 114.75999999999999, 'X[9] <= 4.5\\ngini = 0.495\\nsamples = 20\\nvalue = [11, 9]'),\n",
       " Text(265.36036299765806, 102.67999999999999, 'gini = 0.42\\nsamples = 10\\nvalue = [7, 3]'),\n",
       " Text(266.92851288056204, 102.67999999999999, 'gini = 0.48\\nsamples = 10\\nvalue = [4, 6]'),\n",
       " Text(267.71258782201403, 114.75999999999999, 'gini = 0.18\\nsamples = 10\\nvalue = [1, 9]'),\n",
       " Text(268.496662763466, 126.84, 'gini = 0.105\\nsamples = 18\\nvalue = [1, 17]'),\n",
       " Text(270.848887587822, 138.92000000000002, 'X[11] <= 523.0\\ngini = 0.495\\nsamples = 20\\nvalue = [11, 9]'),\n",
       " Text(270.06481264637, 126.84, 'gini = 0.42\\nsamples = 10\\nvalue = [3, 7]'),\n",
       " Text(271.632962529274, 126.84, 'gini = 0.32\\nsamples = 10\\nvalue = [8, 2]'),\n",
       " Text(275.55333723653393, 151.0, 'X[11] <= 499.0\\ngini = 0.473\\nsamples = 91\\nvalue = [56, 35]'),\n",
       " Text(273.98518735362995, 138.92000000000002, 'X[9] <= 15.5\\ngini = 0.312\\nsamples = 31\\nvalue = [25, 6]'),\n",
       " Text(273.20111241217796, 126.84, 'gini = 0.49\\nsamples = 14\\nvalue = [8, 6]'),\n",
       " Text(274.76926229508194, 126.84, 'gini = 0.0\\nsamples = 17\\nvalue = [17, 0]'),\n",
       " Text(277.1214871194379, 138.92000000000002, 'X[9] <= 12.5\\ngini = 0.499\\nsamples = 60\\nvalue = [31, 29]'),\n",
       " Text(276.3374121779859, 126.84, 'gini = 0.444\\nsamples = 15\\nvalue = [10, 5]'),\n",
       " Text(277.9055620608899, 126.84, 'X[9] <= 24.5\\ngini = 0.498\\nsamples = 45\\nvalue = [21, 24]'),\n",
       " Text(276.3374121779859, 114.75999999999999, 'X[0] <= 36.5\\ngini = 0.444\\nsamples = 24\\nvalue = [8, 16]'),\n",
       " Text(275.55333723653393, 102.67999999999999, 'gini = 0.5\\nsamples = 10\\nvalue = [5, 5]'),\n",
       " Text(277.1214871194379, 102.67999999999999, 'gini = 0.337\\nsamples = 14\\nvalue = [3, 11]'),\n",
       " Text(279.4737119437939, 114.75999999999999, 'X[0] <= 36.5\\ngini = 0.472\\nsamples = 21\\nvalue = [13, 8]'),\n",
       " Text(278.6896370023419, 102.67999999999999, 'gini = 0.496\\nsamples = 11\\nvalue = [5, 6]'),\n",
       " Text(280.2577868852459, 102.67999999999999, 'gini = 0.32\\nsamples = 10\\nvalue = [8, 2]'),\n",
       " Text(299.6253567769321, 175.16, 'X[11] <= 794.5\\ngini = 0.234\\nsamples = 1339\\nvalue = [181, 1158]'),\n",
       " Text(287.6666825234192, 163.07999999999998, 'X[10] <= 0.5\\ngini = 0.293\\nsamples = 471\\nvalue = [84, 387]'),\n",
       " Text(284.00664519906326, 151.0, 'X[9] <= 20.5\\ngini = 0.46\\nsamples = 39\\nvalue = [14, 25]'),\n",
       " Text(283.22257025761127, 138.92000000000002, 'X[11] <= 703.0\\ngini = 0.493\\nsamples = 25\\nvalue = [14, 11]'),\n",
       " Text(282.4384953161593, 126.84, 'gini = 0.298\\nsamples = 11\\nvalue = [9, 2]'),\n",
       " Text(284.00664519906326, 126.84, 'gini = 0.459\\nsamples = 14\\nvalue = [5, 9]'),\n",
       " Text(284.79072014051525, 138.92000000000002, 'gini = 0.0\\nsamples = 14\\nvalue = [0, 14]'),\n",
       " Text(291.32671984777517, 151.0, 'X[11] <= 785.5\\ngini = 0.272\\nsamples = 432\\nvalue = [70, 362]'),\n",
       " Text(288.6253366510539, 138.92000000000002, 'X[8] <= 0.5\\ngini = 0.256\\nsamples = 411\\nvalue = [62, 349]'),\n",
       " Text(285.57479508196724, 126.84, 'X[14] <= 1.5\\ngini = 0.218\\nsamples = 313\\nvalue = [39, 274]'),\n",
       " Text(284.79072014051525, 114.75999999999999, 'X[9] <= 27.5\\ngini = 0.252\\nsamples = 264\\nvalue = [39, 225]'),\n",
       " Text(281.82593676814986, 102.67999999999999, 'X[5] <= 182.0\\ngini = 0.224\\nsamples = 234\\nvalue = [30, 204]'),\n",
       " Text(278.24859484777517, 90.6, 'X[9] <= 16.5\\ngini = 0.112\\nsamples = 67\\nvalue = [4, 63]'),\n",
       " Text(276.6804449648712, 78.52000000000001, 'X[11] <= 673.0\\ngini = 0.049\\nsamples = 40\\nvalue = [1, 39]'),\n",
       " Text(275.8963700234192, 66.44, 'gini = 0.18\\nsamples = 10\\nvalue = [1, 9]'),\n",
       " Text(277.4645199063232, 66.44, 'gini = 0.0\\nsamples = 30\\nvalue = [0, 30]'),\n",
       " Text(279.81674473067915, 78.52000000000001, 'X[11] <= 693.0\\ngini = 0.198\\nsamples = 27\\nvalue = [3, 24]'),\n",
       " Text(279.03266978922716, 66.44, 'gini = 0.0\\nsamples = 15\\nvalue = [0, 15]'),\n",
       " Text(280.60081967213114, 66.44, 'gini = 0.375\\nsamples = 12\\nvalue = [3, 9]'),\n",
       " Text(285.4032786885246, 90.6, 'X[5] <= 399.0\\ngini = 0.263\\nsamples = 167\\nvalue = [26, 141]'),\n",
       " Text(282.9530444964871, 78.52000000000001, 'X[2] <= 1.5\\ngini = 0.412\\nsamples = 31\\nvalue = [9, 22]'),\n",
       " Text(282.1689695550351, 66.44, 'gini = 0.494\\nsamples = 18\\nvalue = [8, 10]'),\n",
       " Text(283.7371194379391, 66.44, 'gini = 0.142\\nsamples = 13\\nvalue = [1, 12]'),\n",
       " Text(287.85351288056205, 78.52000000000001, 'X[12] <= 2.5\\ngini = 0.219\\nsamples = 136\\nvalue = [17, 119]'),\n",
       " Text(285.3052693208431, 66.44, 'X[3] <= 1.5\\ngini = 0.278\\nsamples = 90\\nvalue = [15, 75]'),\n",
       " Text(282.5610070257611, 54.359999999999985, 'X[9] <= 15.5\\ngini = 0.191\\nsamples = 56\\nvalue = [6, 50]'),\n",
       " Text(280.99285714285713, 42.28, 'X[0] <= 36.5\\ngini = 0.057\\nsamples = 34\\nvalue = [1, 33]'),\n",
       " Text(280.20878220140514, 30.19999999999999, 'gini = 0.18\\nsamples = 10\\nvalue = [1, 9]'),\n",
       " Text(281.7769320843091, 30.19999999999999, 'gini = 0.0\\nsamples = 24\\nvalue = [0, 24]'),\n",
       " Text(284.1291569086651, 42.28, 'X[0] <= 36.0\\ngini = 0.351\\nsamples = 22\\nvalue = [5, 17]'),\n",
       " Text(283.3450819672131, 30.19999999999999, 'gini = 0.18\\nsamples = 10\\nvalue = [1, 9]'),\n",
       " Text(284.9132318501171, 30.19999999999999, 'gini = 0.444\\nsamples = 12\\nvalue = [4, 8]'),\n",
       " Text(288.04953161592505, 54.359999999999985, 'X[6] <= 0.5\\ngini = 0.389\\nsamples = 34\\nvalue = [9, 25]'),\n",
       " Text(287.26545667447306, 42.28, 'X[5] <= 1147.5\\ngini = 0.236\\nsamples = 22\\nvalue = [3, 19]'),\n",
       " Text(286.48138173302107, 30.19999999999999, 'gini = 0.0\\nsamples = 10\\nvalue = [0, 10]'),\n",
       " Text(288.04953161592505, 30.19999999999999, 'gini = 0.375\\nsamples = 12\\nvalue = [3, 9]'),\n",
       " Text(288.83360655737704, 42.28, 'gini = 0.5\\nsamples = 12\\nvalue = [6, 6]'),\n",
       " Text(290.401756440281, 66.44, 'X[12] <= 5.5\\ngini = 0.083\\nsamples = 46\\nvalue = [2, 44]'),\n",
       " Text(289.61768149882903, 54.359999999999985, 'gini = 0.0\\nsamples = 31\\nvalue = [0, 31]'),\n",
       " Text(291.185831381733, 54.359999999999985, 'gini = 0.231\\nsamples = 15\\nvalue = [2, 13]'),\n",
       " Text(287.7555035128806, 102.67999999999999, 'X[11] <= 687.0\\ngini = 0.42\\nsamples = 30\\nvalue = [9, 21]'),\n",
       " Text(286.9714285714286, 90.6, 'gini = 0.463\\nsamples = 11\\nvalue = [7, 4]'),\n",
       " Text(288.53957845433257, 90.6, 'gini = 0.188\\nsamples = 19\\nvalue = [2, 17]'),\n",
       " Text(286.35887002341923, 114.75999999999999, 'gini = 0.0\\nsamples = 49\\nvalue = [0, 49]'),\n",
       " Text(291.67587822014053, 126.84, 'X[0] <= 32.5\\ngini = 0.359\\nsamples = 98\\nvalue = [23, 75]'),\n",
       " Text(290.10772833723655, 114.75999999999999, 'X[10] <= 7.0\\ngini = 0.133\\nsamples = 28\\nvalue = [2, 26]'),\n",
       " Text(289.32365339578456, 102.67999999999999, 'gini = 0.32\\nsamples = 10\\nvalue = [2, 8]'),\n",
       " Text(290.89180327868854, 102.67999999999999, 'gini = 0.0\\nsamples = 18\\nvalue = [0, 18]'),\n",
       " Text(293.2440281030445, 114.75999999999999, 'X[5] <= 200.5\\ngini = 0.42\\nsamples = 70\\nvalue = [21, 49]'),\n",
       " Text(292.4599531615925, 102.67999999999999, 'gini = 0.499\\nsamples = 19\\nvalue = [10, 9]'),\n",
       " Text(294.0281030444965, 102.67999999999999, 'X[11] <= 668.5\\ngini = 0.338\\nsamples = 51\\nvalue = [11, 40]'),\n",
       " Text(293.2440281030445, 90.6, 'gini = 0.486\\nsamples = 12\\nvalue = [5, 7]'),\n",
       " Text(294.8121779859485, 90.6, 'X[11] <= 716.5\\ngini = 0.26\\nsamples = 39\\nvalue = [6, 33]'),\n",
       " Text(294.0281030444965, 78.52000000000001, 'gini = 0.0\\nsamples = 15\\nvalue = [0, 15]'),\n",
       " Text(295.5962529274005, 78.52000000000001, 'X[1] <= 4.5\\ngini = 0.375\\nsamples = 24\\nvalue = [6, 18]'),\n",
       " Text(294.8121779859485, 66.44, 'gini = 0.473\\nsamples = 13\\nvalue = [5, 8]'),\n",
       " Text(296.3803278688525, 66.44, 'gini = 0.165\\nsamples = 11\\nvalue = [1, 10]'),\n",
       " Text(294.0281030444965, 138.92000000000002, 'X[6] <= 0.5\\ngini = 0.472\\nsamples = 21\\nvalue = [8, 13]'),\n",
       " Text(293.2440281030445, 126.84, 'gini = 0.463\\nsamples = 11\\nvalue = [7, 4]'),\n",
       " Text(294.8121779859485, 126.84, 'gini = 0.18\\nsamples = 10\\nvalue = [1, 9]'),\n",
       " Text(311.584031030445, 163.07999999999998, 'X[14] <= 5.5\\ngini = 0.199\\nsamples = 868\\nvalue = [97, 771]'),\n",
       " Text(306.25477166276346, 151.0, 'X[5] <= 142.0\\ngini = 0.19\\nsamples = 837\\nvalue = [89, 748]'),\n",
       " Text(297.94847775175646, 138.92000000000002, 'X[1] <= 1.5\\ngini = 0.122\\nsamples = 199\\nvalue = [13, 186]'),\n",
       " Text(296.3803278688525, 126.84, 'X[11] <= 859.5\\ngini = 0.027\\nsamples = 72\\nvalue = [1, 71]'),\n",
       " Text(295.5962529274005, 114.75999999999999, 'gini = 0.18\\nsamples = 10\\nvalue = [1, 9]'),\n",
       " Text(297.16440281030447, 114.75999999999999, 'gini = 0.0\\nsamples = 62\\nvalue = [0, 62]'),\n",
       " Text(299.51662763466044, 126.84, 'X[9] <= 3.5\\ngini = 0.171\\nsamples = 127\\nvalue = [12, 115]'),\n",
       " Text(298.73255269320845, 114.75999999999999, 'gini = 0.397\\nsamples = 11\\nvalue = [3, 8]'),\n",
       " Text(300.3007025761124, 114.75999999999999, 'X[11] <= 977.5\\ngini = 0.143\\nsamples = 116\\nvalue = [9, 107]'),\n",
       " Text(298.73255269320845, 102.67999999999999, 'X[5] <= 14.0\\ngini = 0.237\\nsamples = 51\\nvalue = [7, 44]'),\n",
       " Text(297.94847775175646, 90.6, 'X[9] <= 16.5\\ngini = 0.342\\nsamples = 32\\nvalue = [7, 25]'),\n",
       " Text(297.16440281030447, 78.52000000000001, 'gini = 0.117\\nsamples = 16\\nvalue = [1, 15]'),\n",
       " Text(298.73255269320845, 78.52000000000001, 'gini = 0.469\\nsamples = 16\\nvalue = [6, 10]'),\n",
       " Text(299.51662763466044, 90.6, 'gini = 0.0\\nsamples = 19\\nvalue = [0, 19]'),\n",
       " Text(301.8688524590164, 102.67999999999999, 'X[9] <= 9.5\\ngini = 0.06\\nsamples = 65\\nvalue = [2, 63]'),\n",
       " Text(301.0847775175644, 90.6, 'gini = 0.278\\nsamples = 12\\nvalue = [2, 10]'),\n",
       " Text(302.6529274004684, 90.6, 'gini = 0.0\\nsamples = 53\\nvalue = [0, 53]'),\n",
       " Text(314.5610655737705, 138.92000000000002, 'X[5] <= 181.0\\ngini = 0.21\\nsamples = 638\\nvalue = [76, 562]'),\n",
       " Text(313.77699063231853, 126.84, 'gini = 0.463\\nsamples = 11\\nvalue = [4, 7]'),\n",
       " Text(315.3451405152225, 126.84, 'X[5] <= 694.5\\ngini = 0.203\\nsamples = 627\\nvalue = [72, 555]'),\n",
       " Text(307.35737704918034, 114.75999999999999, 'X[5] <= 226.5\\ngini = 0.254\\nsamples = 235\\nvalue = [35, 200]'),\n",
       " Text(306.57330210772835, 102.67999999999999, 'gini = 0.0\\nsamples = 25\\nvalue = [0, 25]'),\n",
       " Text(308.14145199063233, 102.67999999999999, 'X[8] <= 0.5\\ngini = 0.278\\nsamples = 210\\nvalue = [35, 175]'),\n",
       " Text(304.2210772833724, 90.6, 'X[11] <= 954.0\\ngini = 0.234\\nsamples = 148\\nvalue = [20, 128]'),\n",
       " Text(301.0847775175644, 78.52000000000001, 'X[11] <= 858.0\\ngini = 0.346\\nsamples = 54\\nvalue = [12, 42]'),\n",
       " Text(299.51662763466044, 66.44, 'X[5] <= 313.0\\ngini = 0.083\\nsamples = 23\\nvalue = [1, 22]'),\n",
       " Text(298.73255269320845, 54.359999999999985, 'gini = 0.18\\nsamples = 10\\nvalue = [1, 9]'),\n",
       " Text(300.3007025761124, 54.359999999999985, 'gini = 0.0\\nsamples = 13\\nvalue = [0, 13]'),\n",
       " Text(302.6529274004684, 66.44, 'X[1] <= 6.5\\ngini = 0.458\\nsamples = 31\\nvalue = [11, 20]'),\n",
       " Text(301.8688524590164, 54.359999999999985, 'X[5] <= 440.5\\ngini = 0.495\\nsamples = 20\\nvalue = [9, 11]'),\n",
       " Text(301.0847775175644, 42.28, 'gini = 0.48\\nsamples = 10\\nvalue = [4, 6]'),\n",
       " Text(302.6529274004684, 42.28, 'gini = 0.5\\nsamples = 10\\nvalue = [5, 5]'),\n",
       " Text(303.4370023419204, 54.359999999999985, 'gini = 0.298\\nsamples = 11\\nvalue = [2, 9]'),\n",
       " Text(307.35737704918034, 78.52000000000001, 'X[13] <= 100.0\\ngini = 0.156\\nsamples = 94\\nvalue = [8, 86]'),\n",
       " Text(306.57330210772835, 66.44, 'X[1] <= 8.5\\ngini = 0.112\\nsamples = 84\\nvalue = [5, 79]'),\n",
       " Text(305.00515222482437, 54.359999999999985, 'X[0] <= 34.5\\ngini = 0.062\\nsamples = 62\\nvalue = [2, 60]'),\n",
       " Text(304.2210772833724, 42.28, 'X[5] <= 426.0\\ngini = 0.147\\nsamples = 25\\nvalue = [2, 23]'),\n",
       " Text(303.4370023419204, 30.19999999999999, 'gini = 0.278\\nsamples = 12\\nvalue = [2, 10]'),\n",
       " Text(305.00515222482437, 30.19999999999999, 'gini = 0.0\\nsamples = 13\\nvalue = [0, 13]'),\n",
       " Text(305.78922716627636, 42.28, 'gini = 0.0\\nsamples = 37\\nvalue = [0, 37]'),\n",
       " Text(308.14145199063233, 54.359999999999985, 'X[11] <= 1238.5\\ngini = 0.236\\nsamples = 22\\nvalue = [3, 19]'),\n",
       " Text(307.35737704918034, 42.28, 'gini = 0.153\\nsamples = 12\\nvalue = [1, 11]'),\n",
       " Text(308.9255269320843, 42.28, 'gini = 0.32\\nsamples = 10\\nvalue = [2, 8]'),\n",
       " Text(308.14145199063233, 66.44, 'gini = 0.42\\nsamples = 10\\nvalue = [3, 7]'),\n",
       " Text(312.0618266978923, 90.6, 'X[12] <= 2.5\\ngini = 0.367\\nsamples = 62\\nvalue = [15, 47]'),\n",
       " Text(310.4936768149883, 78.52000000000001, 'X[11] <= 995.0\\ngini = 0.26\\nsamples = 39\\nvalue = [6, 33]'),\n",
       " Text(309.7096018735363, 66.44, 'gini = 0.117\\nsamples = 16\\nvalue = [1, 15]'),\n",
       " Text(311.2777517564403, 66.44, 'X[11] <= 1241.5\\ngini = 0.34\\nsamples = 23\\nvalue = [5, 18]'),\n",
       " Text(310.4936768149883, 54.359999999999985, 'gini = 0.426\\nsamples = 13\\nvalue = [4, 9]'),\n",
       " Text(312.0618266978923, 54.359999999999985, 'gini = 0.18\\nsamples = 10\\nvalue = [1, 9]'),\n",
       " Text(313.62997658079627, 78.52000000000001, 'X[9] <= 17.0\\ngini = 0.476\\nsamples = 23\\nvalue = [9, 14]'),\n",
       " Text(312.8459016393443, 66.44, 'gini = 0.48\\nsamples = 10\\nvalue = [6, 4]'),\n",
       " Text(314.41405152224826, 66.44, 'gini = 0.355\\nsamples = 13\\nvalue = [3, 10]'),\n",
       " Text(323.3329039812646, 114.75999999999999, 'X[11] <= 1018.5\\ngini = 0.171\\nsamples = 392\\nvalue = [37, 355]'),\n",
       " Text(318.3344262295082, 102.67999999999999, 'X[0] <= 55.5\\ngini = 0.104\\nsamples = 182\\nvalue = [10, 172]'),\n",
       " Text(316.76627634660423, 90.6, 'X[2] <= 0.5\\ngini = 0.064\\nsamples = 152\\nvalue = [5, 147]'),\n",
       " Text(315.98220140515224, 78.52000000000001, 'gini = 0.245\\nsamples = 14\\nvalue = [2, 12]'),\n",
       " Text(317.5503512880562, 78.52000000000001, 'X[0] <= 31.5\\ngini = 0.043\\nsamples = 138\\nvalue = [3, 135]'),\n",
       " Text(315.98220140515224, 66.44, 'X[3] <= 1.5\\ngini = 0.128\\nsamples = 29\\nvalue = [2, 27]'),\n",
       " Text(315.19812646370025, 54.359999999999985, 'gini = 0.245\\nsamples = 14\\nvalue = [2, 12]'),\n",
       " Text(316.76627634660423, 54.359999999999985, 'gini = 0.0\\nsamples = 15\\nvalue = [0, 15]'),\n",
       " Text(319.1185011709602, 66.44, 'X[9] <= 27.0\\ngini = 0.018\\nsamples = 109\\nvalue = [1, 108]'),\n",
       " Text(318.3344262295082, 54.359999999999985, 'gini = 0.0\\nsamples = 91\\nvalue = [0, 91]'),\n",
       " Text(319.9025761124122, 54.359999999999985, 'gini = 0.105\\nsamples = 18\\nvalue = [1, 17]'),\n",
       " Text(319.9025761124122, 90.6, 'X[0] <= 59.5\\ngini = 0.278\\nsamples = 30\\nvalue = [5, 25]'),\n",
       " Text(319.1185011709602, 78.52000000000001, 'gini = 0.375\\nsamples = 16\\nvalue = [4, 12]'),\n",
       " Text(320.6866510538642, 78.52000000000001, 'gini = 0.133\\nsamples = 14\\nvalue = [1, 13]'),\n",
       " Text(328.3313817330211, 102.67999999999999, 'X[11] <= 1209.5\\ngini = 0.224\\nsamples = 210\\nvalue = [27, 183]'),\n",
       " Text(325.7831381733021, 90.6, 'X[11] <= 1142.5\\ngini = 0.315\\nsamples = 92\\nvalue = [18, 74]'),\n",
       " Text(323.82295081967214, 78.52000000000001, 'X[12] <= 1.5\\ngini = 0.208\\nsamples = 68\\nvalue = [8, 60]'),\n",
       " Text(322.25480093676816, 66.44, 'X[9] <= 13.5\\ngini = 0.342\\nsamples = 32\\nvalue = [7, 25]'),\n",
       " Text(321.4707259953162, 54.359999999999985, 'gini = 0.459\\nsamples = 14\\nvalue = [5, 9]'),\n",
       " Text(323.03887587822015, 54.359999999999985, 'gini = 0.198\\nsamples = 18\\nvalue = [2, 16]'),\n",
       " Text(325.3911007025761, 66.44, 'X[1] <= 2.0\\ngini = 0.054\\nsamples = 36\\nvalue = [1, 35]'),\n",
       " Text(324.60702576112413, 54.359999999999985, 'gini = 0.18\\nsamples = 10\\nvalue = [1, 9]'),\n",
       " Text(326.1751756440281, 54.359999999999985, 'gini = 0.0\\nsamples = 26\\nvalue = [0, 26]'),\n",
       " Text(327.7433255269321, 78.52000000000001, 'X[11] <= 1172.0\\ngini = 0.486\\nsamples = 24\\nvalue = [10, 14]'),\n",
       " Text(326.9592505854801, 66.44, 'gini = 0.473\\nsamples = 13\\nvalue = [8, 5]'),\n",
       " Text(328.5274004683841, 66.44, 'gini = 0.298\\nsamples = 11\\nvalue = [2, 9]'),\n",
       " Text(330.87962529274006, 90.6, 'X[1] <= 0.5\\ngini = 0.141\\nsamples = 118\\nvalue = [9, 109]'),\n",
       " Text(330.09555035128807, 78.52000000000001, 'gini = 0.397\\nsamples = 11\\nvalue = [3, 8]'),\n",
       " Text(331.66370023419205, 78.52000000000001, 'X[1] <= 5.5\\ngini = 0.106\\nsamples = 107\\nvalue = [6, 101]'),\n",
       " Text(330.09555035128807, 66.44, 'X[10] <= 8.5\\ngini = 0.029\\nsamples = 68\\nvalue = [1, 67]'),\n",
       " Text(329.3114754098361, 54.359999999999985, 'gini = 0.0\\nsamples = 57\\nvalue = [0, 57]'),\n",
       " Text(330.87962529274006, 54.359999999999985, 'gini = 0.165\\nsamples = 11\\nvalue = [1, 10]'),\n",
       " Text(333.23185011709603, 66.44, 'X[0] <= 39.5\\ngini = 0.224\\nsamples = 39\\nvalue = [5, 34]'),\n",
       " Text(332.44777517564404, 54.359999999999985, 'X[9] <= 19.0\\ngini = 0.077\\nsamples = 25\\nvalue = [1, 24]'),\n",
       " Text(331.66370023419205, 42.28, 'gini = 0.0\\nsamples = 15\\nvalue = [0, 15]'),\n",
       " Text(333.23185011709603, 42.28, 'gini = 0.18\\nsamples = 10\\nvalue = [1, 9]'),\n",
       " Text(334.015925058548, 54.359999999999985, 'gini = 0.408\\nsamples = 14\\nvalue = [4, 10]'),\n",
       " Text(316.9132903981265, 151.0, 'X[15] <= 1.5\\ngini = 0.383\\nsamples = 31\\nvalue = [8, 23]'),\n",
       " Text(316.1292154566745, 138.92000000000002, 'gini = 0.488\\nsamples = 19\\nvalue = [8, 11]'),\n",
       " Text(317.6973653395785, 138.92000000000002, 'gini = 0.0\\nsamples = 12\\nvalue = [0, 12]')]"
      ]
     },
     "execution_count": 19,
     "metadata": {},
     "output_type": "execute_result"
    },
    {
     "data": {
      "image/png": "[encoded data removed]",
      "text/plain": [
       "<Figure size 432x288 with 1 Axes>"
      ]
     },
     "metadata": {
      "needs_background": "light"
     },
     "output_type": "display_data"
    }
   ],
   "source": [
    "tree.plot_tree(dt3)"
   ]
  },
  {
   "cell_type": "code",
   "execution_count": 20,
   "metadata": {},
   "outputs": [
    {
     "data": {
      "text/plain": [
       "array([0.0536955 , 0.01323104, 0.00708666, 0.00247459, 0.        ,\n",
       "       0.04446577, 0.05931688, 0.00252839, 0.0872283 , 0.05579961,\n",
       "       0.10590988, 0.43476746, 0.00759507, 0.06477719, 0.01216181,\n",
       "       0.04896185])"
      ]
     },
     "execution_count": 20,
     "metadata": {},
     "output_type": "execute_result"
    }
   ],
   "source": [
    "dt3.feature_importances_"
   ]
  },
  {
   "cell_type": "code",
   "execution_count": 21,
   "metadata": {},
   "outputs": [
    {
     "data": {
      "text/plain": [
       "array([0.        , 0.00247459, 0.00252839, 0.00708666, 0.00759507,\n",
       "       0.01216181, 0.01323104, 0.04446577, 0.04896185, 0.0536955 ,\n",
       "       0.05579961, 0.05931688, 0.06477719, 0.0872283 , 0.10590988,\n",
       "       0.43476746])"
      ]
     },
     "execution_count": 21,
     "metadata": {},
     "output_type": "execute_result"
    }
   ],
   "source": [
    "a=dt3.feature_importances_\n",
    "a.sort()\n",
    "a"
   ]
  },
  {
   "cell_type": "code",
   "execution_count": 22,
   "metadata": {},
   "outputs": [
    {
     "data": {
      "text/html": [
       "<div>\n",
       "<style scoped>\n",
       "    .dataframe tbody tr th:only-of-type {\n",
       "        vertical-align: middle;\n",
       "    }\n",
       "\n",
       "    .dataframe tbody tr th {\n",
       "        vertical-align: top;\n",
       "    }\n",
       "\n",
       "    .dataframe thead th {\n",
       "        text-align: right;\n",
       "    }\n",
       "</style>\n",
       "<table border=\"1\" class=\"dataframe\">\n",
       "  <thead>\n",
       "    <tr style=\"text-align: right;\">\n",
       "      <th></th>\n",
       "      <th>age</th>\n",
       "      <th>job</th>\n",
       "      <th>marital</th>\n",
       "      <th>education</th>\n",
       "      <th>default</th>\n",
       "      <th>balance</th>\n",
       "      <th>housing</th>\n",
       "      <th>loan</th>\n",
       "      <th>contact</th>\n",
       "      <th>day</th>\n",
       "      <th>month</th>\n",
       "      <th>duration</th>\n",
       "      <th>campaign</th>\n",
       "      <th>pdays</th>\n",
       "      <th>previous</th>\n",
       "      <th>poutcome</th>\n",
       "      <th>deposit</th>\n",
       "    </tr>\n",
       "  </thead>\n",
       "  <tbody>\n",
       "    <tr>\n",
       "      <td>0</td>\n",
       "      <td>59</td>\n",
       "      <td>0</td>\n",
       "      <td>1</td>\n",
       "      <td>1</td>\n",
       "      <td>0</td>\n",
       "      <td>2343</td>\n",
       "      <td>1</td>\n",
       "      <td>0</td>\n",
       "      <td>2</td>\n",
       "      <td>5</td>\n",
       "      <td>8</td>\n",
       "      <td>1042</td>\n",
       "      <td>1</td>\n",
       "      <td>-1</td>\n",
       "      <td>0</td>\n",
       "      <td>3</td>\n",
       "      <td>1</td>\n",
       "    </tr>\n",
       "    <tr>\n",
       "      <td>1</td>\n",
       "      <td>56</td>\n",
       "      <td>0</td>\n",
       "      <td>1</td>\n",
       "      <td>1</td>\n",
       "      <td>0</td>\n",
       "      <td>45</td>\n",
       "      <td>0</td>\n",
       "      <td>0</td>\n",
       "      <td>2</td>\n",
       "      <td>5</td>\n",
       "      <td>8</td>\n",
       "      <td>1467</td>\n",
       "      <td>1</td>\n",
       "      <td>-1</td>\n",
       "      <td>0</td>\n",
       "      <td>3</td>\n",
       "      <td>1</td>\n",
       "    </tr>\n",
       "    <tr>\n",
       "      <td>2</td>\n",
       "      <td>41</td>\n",
       "      <td>9</td>\n",
       "      <td>1</td>\n",
       "      <td>1</td>\n",
       "      <td>0</td>\n",
       "      <td>1270</td>\n",
       "      <td>1</td>\n",
       "      <td>0</td>\n",
       "      <td>2</td>\n",
       "      <td>5</td>\n",
       "      <td>8</td>\n",
       "      <td>1389</td>\n",
       "      <td>1</td>\n",
       "      <td>-1</td>\n",
       "      <td>0</td>\n",
       "      <td>3</td>\n",
       "      <td>1</td>\n",
       "    </tr>\n",
       "    <tr>\n",
       "      <td>3</td>\n",
       "      <td>55</td>\n",
       "      <td>7</td>\n",
       "      <td>1</td>\n",
       "      <td>1</td>\n",
       "      <td>0</td>\n",
       "      <td>2476</td>\n",
       "      <td>1</td>\n",
       "      <td>0</td>\n",
       "      <td>2</td>\n",
       "      <td>5</td>\n",
       "      <td>8</td>\n",
       "      <td>579</td>\n",
       "      <td>1</td>\n",
       "      <td>-1</td>\n",
       "      <td>0</td>\n",
       "      <td>3</td>\n",
       "      <td>1</td>\n",
       "    </tr>\n",
       "    <tr>\n",
       "      <td>4</td>\n",
       "      <td>54</td>\n",
       "      <td>0</td>\n",
       "      <td>1</td>\n",
       "      <td>2</td>\n",
       "      <td>0</td>\n",
       "      <td>184</td>\n",
       "      <td>0</td>\n",
       "      <td>0</td>\n",
       "      <td>2</td>\n",
       "      <td>5</td>\n",
       "      <td>8</td>\n",
       "      <td>673</td>\n",
       "      <td>2</td>\n",
       "      <td>-1</td>\n",
       "      <td>0</td>\n",
       "      <td>3</td>\n",
       "      <td>1</td>\n",
       "    </tr>\n",
       "  </tbody>\n",
       "</table>\n",
       "</div>"
      ],
      "text/plain": [
       "   age  job  marital  education  default  balance  housing  loan  contact  \\\n",
       "0   59    0        1          1        0     2343        1     0        2   \n",
       "1   56    0        1          1        0       45        0     0        2   \n",
       "2   41    9        1          1        0     1270        1     0        2   \n",
       "3   55    7        1          1        0     2476        1     0        2   \n",
       "4   54    0        1          2        0      184        0     0        2   \n",
       "\n",
       "   day  month  duration  campaign  pdays  previous  poutcome  deposit  \n",
       "0    5      8      1042         1     -1         0         3        1  \n",
       "1    5      8      1467         1     -1         0         3        1  \n",
       "2    5      8      1389         1     -1         0         3        1  \n",
       "3    5      8       579         1     -1         0         3        1  \n",
       "4    5      8       673         2     -1         0         3        1  "
      ]
     },
     "execution_count": 22,
     "metadata": {},
     "output_type": "execute_result"
    }
   ],
   "source": [
    "df.head()"
   ]
  },
  {
   "cell_type": "code",
   "execution_count": 23,
   "metadata": {},
   "outputs": [],
   "source": [
    "from sklearn.ensemble import VotingClassifier"
   ]
  },
  {
   "cell_type": "code",
   "execution_count": 24,
   "metadata": {},
   "outputs": [],
   "source": [
    "lr = LogisticRegression()\n",
    "dt1  =DecisionTreeClassifier()\n",
    "dt2 =DecisionTreeClassifier(criterion=\"entropy\")"
   ]
  },
  {
   "cell_type": "code",
   "execution_count": 25,
   "metadata": {},
   "outputs": [],
   "source": [
    "model_list=[(\"m1\",lr),(\"m2\",dt1),('m3',dt2)]\n",
    "    "
   ]
  },
  {
   "cell_type": "code",
   "execution_count": 26,
   "metadata": {},
   "outputs": [],
   "source": [
    "vc =VotingClassifier(estimators=model_list)"
   ]
  },
  {
   "cell_type": "code",
   "execution_count": 27,
   "metadata": {},
   "outputs": [
    {
     "name": "stdout",
     "output_type": "stream",
     "text": [
      "              precision    recall  f1-score   support\n",
      "\n",
      "           0       0.84      0.83      0.83      1760\n",
      "           1       0.81      0.82      0.82      1589\n",
      "\n",
      "    accuracy                           0.83      3349\n",
      "   macro avg       0.83      0.83      0.83      3349\n",
      "weighted avg       0.83      0.83      0.83      3349\n",
      "\n"
     ]
    },
    {
     "data": {
      "text/plain": [
       "VotingClassifier(estimators=[('m1',\n",
       "                              LogisticRegression(C=1.0, class_weight=None,\n",
       "                                                 dual=False, fit_intercept=True,\n",
       "                                                 intercept_scaling=1,\n",
       "                                                 l1_ratio=None, max_iter=100,\n",
       "                                                 multi_class='warn',\n",
       "                                                 n_jobs=None, penalty='l2',\n",
       "                                                 random_state=None,\n",
       "                                                 solver='warn', tol=0.0001,\n",
       "                                                 verbose=0, warm_start=False)),\n",
       "                             ('m2',\n",
       "                              DecisionTreeClassifier(class_weight=None,\n",
       "                                                     criterion='gini',\n",
       "                                                     max_depth=None,...\n",
       "                             ('m3',\n",
       "                              DecisionTreeClassifier(class_weight=None,\n",
       "                                                     criterion='entropy',\n",
       "                                                     max_depth=None,\n",
       "                                                     max_features=None,\n",
       "                                                     max_leaf_nodes=None,\n",
       "                                                     min_impurity_decrease=0.0,\n",
       "                                                     min_impurity_split=None,\n",
       "                                                     min_samples_leaf=1,\n",
       "                                                     min_samples_split=2,\n",
       "                                                     min_weight_fraction_leaf=0.0,\n",
       "                                                     presort=False,\n",
       "                                                     random_state=None,\n",
       "                                                     splitter='best'))],\n",
       "                 flatten_transform=True, n_jobs=None, voting='hard',\n",
       "                 weights=None)"
      ]
     },
     "execution_count": 27,
     "metadata": {},
     "output_type": "execute_result"
    }
   ],
   "source": [
    "classify(vc)"
   ]
  },
  {
   "cell_type": "code",
   "execution_count": 28,
   "metadata": {},
   "outputs": [],
   "source": [
    "vc2= vc =VotingClassifier(estimators=model_list,voting='soft')"
   ]
  },
  {
   "cell_type": "code",
   "execution_count": 29,
   "metadata": {},
   "outputs": [
    {
     "name": "stdout",
     "output_type": "stream",
     "text": [
      "              precision    recall  f1-score   support\n",
      "\n",
      "           0       0.84      0.83      0.83      1760\n",
      "           1       0.81      0.82      0.82      1589\n",
      "\n",
      "    accuracy                           0.83      3349\n",
      "   macro avg       0.83      0.83      0.83      3349\n",
      "weighted avg       0.83      0.83      0.83      3349\n",
      "\n"
     ]
    },
    {
     "data": {
      "text/plain": [
       "VotingClassifier(estimators=[('m1',\n",
       "                              LogisticRegression(C=1.0, class_weight=None,\n",
       "                                                 dual=False, fit_intercept=True,\n",
       "                                                 intercept_scaling=1,\n",
       "                                                 l1_ratio=None, max_iter=100,\n",
       "                                                 multi_class='warn',\n",
       "                                                 n_jobs=None, penalty='l2',\n",
       "                                                 random_state=None,\n",
       "                                                 solver='warn', tol=0.0001,\n",
       "                                                 verbose=0, warm_start=False)),\n",
       "                             ('m2',\n",
       "                              DecisionTreeClassifier(class_weight=None,\n",
       "                                                     criterion='gini',\n",
       "                                                     max_depth=None,...\n",
       "                             ('m3',\n",
       "                              DecisionTreeClassifier(class_weight=None,\n",
       "                                                     criterion='entropy',\n",
       "                                                     max_depth=None,\n",
       "                                                     max_features=None,\n",
       "                                                     max_leaf_nodes=None,\n",
       "                                                     min_impurity_decrease=0.0,\n",
       "                                                     min_impurity_split=None,\n",
       "                                                     min_samples_leaf=1,\n",
       "                                                     min_samples_split=2,\n",
       "                                                     min_weight_fraction_leaf=0.0,\n",
       "                                                     presort=False,\n",
       "                                                     random_state=None,\n",
       "                                                     splitter='best'))],\n",
       "                 flatten_transform=True, n_jobs=None, voting='soft',\n",
       "                 weights=None)"
      ]
     },
     "execution_count": 29,
     "metadata": {},
     "output_type": "execute_result"
    }
   ],
   "source": [
    "classify(vc2)"
   ]
  },
  {
   "cell_type": "code",
   "execution_count": 30,
   "metadata": {},
   "outputs": [],
   "source": [
    "from sklearn.ensemble import BaggingClassifier"
   ]
  },
  {
   "cell_type": "code",
   "execution_count": 31,
   "metadata": {},
   "outputs": [],
   "source": [
    "#bagging\n",
    "bc = BaggingClassifier(lr,n_estimators=5,max_samples=100,random_state=1)"
   ]
  },
  {
   "cell_type": "code",
   "execution_count": 32,
   "metadata": {},
   "outputs": [
    {
     "name": "stdout",
     "output_type": "stream",
     "text": [
      "              precision    recall  f1-score   support\n",
      "\n",
      "           0       0.78      0.83      0.80      1760\n",
      "           1       0.80      0.74      0.77      1589\n",
      "\n",
      "    accuracy                           0.79      3349\n",
      "   macro avg       0.79      0.79      0.79      3349\n",
      "weighted avg       0.79      0.79      0.79      3349\n",
      "\n"
     ]
    },
    {
     "data": {
      "text/plain": [
       "BaggingClassifier(base_estimator=LogisticRegression(C=1.0, class_weight=None,\n",
       "                                                    dual=False,\n",
       "                                                    fit_intercept=True,\n",
       "                                                    intercept_scaling=1,\n",
       "                                                    l1_ratio=None, max_iter=100,\n",
       "                                                    multi_class='warn',\n",
       "                                                    n_jobs=None, penalty='l2',\n",
       "                                                    random_state=None,\n",
       "                                                    solver='warn', tol=0.0001,\n",
       "                                                    verbose=0,\n",
       "                                                    warm_start=False),\n",
       "                  bootstrap=True, bootstrap_features=False, max_features=1.0,\n",
       "                  max_samples=100, n_estimators=5, n_jobs=None, oob_score=False,\n",
       "                  random_state=1, verbose=0, warm_start=False)"
      ]
     },
     "execution_count": 32,
     "metadata": {},
     "output_type": "execute_result"
    }
   ],
   "source": [
    "classify(bc)"
   ]
  },
  {
   "cell_type": "code",
   "execution_count": 33,
   "metadata": {},
   "outputs": [],
   "source": [
    "#pasting\n",
    "pc2 = BaggingClassifier(lr,n_estimators=5,max_samples=100,random_state=1,bootstrap=False)"
   ]
  },
  {
   "cell_type": "code",
   "execution_count": 34,
   "metadata": {},
   "outputs": [
    {
     "name": "stdout",
     "output_type": "stream",
     "text": [
      "              precision    recall  f1-score   support\n",
      "\n",
      "           0       0.76      0.84      0.79      1760\n",
      "           1       0.79      0.70      0.75      1589\n",
      "\n",
      "    accuracy                           0.77      3349\n",
      "   macro avg       0.78      0.77      0.77      3349\n",
      "weighted avg       0.78      0.77      0.77      3349\n",
      "\n"
     ]
    },
    {
     "data": {
      "text/plain": [
       "BaggingClassifier(base_estimator=LogisticRegression(C=1.0, class_weight=None,\n",
       "                                                    dual=False,\n",
       "                                                    fit_intercept=True,\n",
       "                                                    intercept_scaling=1,\n",
       "                                                    l1_ratio=None, max_iter=100,\n",
       "                                                    multi_class='warn',\n",
       "                                                    n_jobs=None, penalty='l2',\n",
       "                                                    random_state=None,\n",
       "                                                    solver='warn', tol=0.0001,\n",
       "                                                    verbose=0,\n",
       "                                                    warm_start=False),\n",
       "                  bootstrap=False, bootstrap_features=False, max_features=1.0,\n",
       "                  max_samples=100, n_estimators=5, n_jobs=None, oob_score=False,\n",
       "                  random_state=1, verbose=0, warm_start=False)"
      ]
     },
     "execution_count": 34,
     "metadata": {},
     "output_type": "execute_result"
    }
   ],
   "source": [
    "classify(pc2)"
   ]
  },
  {
   "cell_type": "code",
   "execution_count": 35,
   "metadata": {},
   "outputs": [],
   "source": [
    "from sklearn.ensemble import RandomForestClassifier"
   ]
  },
  {
   "cell_type": "code",
   "execution_count": 39,
   "metadata": {},
   "outputs": [],
   "source": [
    "rf  = RandomForestClassifier(n_estimators=10,max_features=10,random_state=1)"
   ]
  },
  {
   "cell_type": "code",
   "execution_count": 40,
   "metadata": {},
   "outputs": [
    {
     "name": "stdout",
     "output_type": "stream",
     "text": [
      "              precision    recall  f1-score   support\n",
      "\n",
      "           0       0.84      0.83      0.84      1760\n",
      "           1       0.82      0.83      0.82      1589\n",
      "\n",
      "    accuracy                           0.83      3349\n",
      "   macro avg       0.83      0.83      0.83      3349\n",
      "weighted avg       0.83      0.83      0.83      3349\n",
      "\n"
     ]
    },
    {
     "data": {
      "text/plain": [
       "RandomForestClassifier(bootstrap=True, class_weight=None, criterion='gini',\n",
       "                       max_depth=None, max_features=10, max_leaf_nodes=None,\n",
       "                       min_impurity_decrease=0.0, min_impurity_split=None,\n",
       "                       min_samples_leaf=1, min_samples_split=2,\n",
       "                       min_weight_fraction_leaf=0.0, n_estimators=10,\n",
       "                       n_jobs=None, oob_score=False, random_state=1, verbose=0,\n",
       "                       warm_start=False)"
      ]
     },
     "execution_count": 40,
     "metadata": {},
     "output_type": "execute_result"
    }
   ],
   "source": [
    "classify(rf)"
   ]
  },
  {
   "cell_type": "markdown",
   "metadata": {},
   "source": [
    "###### stacking"
   ]
  },
  {
   "cell_type": "code",
   "execution_count": 41,
   "metadata": {},
   "outputs": [
    {
     "name": "stdout",
     "output_type": "stream",
     "text": [
      "Collecting mlxtend\n",
      "  Downloading https://files.pythonhosted.org/packages/52/04/c362f34f666f0ddc7cf593805e64d64fa670ed96fd9302e68549dd48287d/mlxtend-0.17.0-py2.py3-none-any.whl (1.3MB)\n",
      "Requirement already satisfied: scikit-learn>=0.20.3 in c:\\programdata\\anaconda3\\lib\\site-packages (from mlxtend) (0.21.3)\n",
      "Requirement already satisfied: joblib>=0.13.2 in c:\\programdata\\anaconda3\\lib\\site-packages (from mlxtend) (0.13.2)\n",
      "Requirement already satisfied: scipy>=1.2.1 in c:\\programdata\\anaconda3\\lib\\site-packages (from mlxtend) (1.3.1)\n",
      "Requirement already satisfied: numpy>=1.16.2 in c:\\programdata\\anaconda3\\lib\\site-packages (from mlxtend) (1.16.5)\n",
      "Requirement already satisfied: matplotlib>=3.0.0 in c:\\programdata\\anaconda3\\lib\\site-packages (from mlxtend) (3.1.1)\n",
      "Requirement already satisfied: setuptools in c:\\programdata\\anaconda3\\lib\\site-packages (from mlxtend) (41.4.0)\n",
      "Requirement already satisfied: pandas>=0.24.2 in c:\\programdata\\anaconda3\\lib\\site-packages (from mlxtend) (0.25.1)\n",
      "Requirement already satisfied: cycler>=0.10 in c:\\programdata\\anaconda3\\lib\\site-packages (from matplotlib>=3.0.0->mlxtend) (0.10.0)\n",
      "Requirement already satisfied: kiwisolver>=1.0.1 in c:\\programdata\\anaconda3\\lib\\site-packages (from matplotlib>=3.0.0->mlxtend) (1.1.0)\n",
      "Requirement already satisfied: pyparsing!=2.0.4,!=2.1.2,!=2.1.6,>=2.0.1 in c:\\programdata\\anaconda3\\lib\\site-packages (from matplotlib>=3.0.0->mlxtend) (2.4.2)\n",
      "Requirement already satisfied: python-dateutil>=2.1 in c:\\programdata\\anaconda3\\lib\\site-packages (from matplotlib>=3.0.0->mlxtend) (2.8.0)\n",
      "Requirement already satisfied: pytz>=2017.2 in c:\\programdata\\anaconda3\\lib\\site-packages (from pandas>=0.24.2->mlxtend) (2019.3)\n",
      "Requirement already satisfied: six in c:\\programdata\\anaconda3\\lib\\site-packages (from cycler>=0.10->matplotlib>=3.0.0->mlxtend) (1.12.0)\n",
      "Installing collected packages: mlxtend\n",
      "Successfully installed mlxtend-0.17.0\n"
     ]
    }
   ],
   "source": [
    "!pip install mlxtend"
   ]
  },
  {
   "cell_type": "code",
   "execution_count": 42,
   "metadata": {},
   "outputs": [],
   "source": [
    "from mlxtend.classifier import StackingClassifier"
   ]
  },
  {
   "cell_type": "code",
   "execution_count": 43,
   "metadata": {},
   "outputs": [],
   "source": [
    "lr = LogisticRegression()\n",
    "dt1 = DecisionTreeClassifier()\n",
    "dt2 = DecisionTreeClassifier(criterion='entropy')"
   ]
  },
  {
   "cell_type": "code",
   "execution_count": 44,
   "metadata": {},
   "outputs": [],
   "source": [
    "model_list = [lr,dt1,dt2]"
   ]
  },
  {
   "cell_type": "code",
   "execution_count": 45,
   "metadata": {},
   "outputs": [],
   "source": [
    "meta = LogisticRegression()"
   ]
  },
  {
   "cell_type": "code",
   "execution_count": 46,
   "metadata": {},
   "outputs": [],
   "source": [
    "sc = StackingClassifier(classifiers=model_list,meta_classifier=meta)"
   ]
  },
  {
   "cell_type": "code",
   "execution_count": 47,
   "metadata": {},
   "outputs": [
    {
     "name": "stdout",
     "output_type": "stream",
     "text": [
      "              precision    recall  f1-score   support\n",
      "\n",
      "           0       0.88      0.74      0.80      1760\n",
      "           1       0.75      0.89      0.81      1589\n",
      "\n",
      "    accuracy                           0.81      3349\n",
      "   macro avg       0.82      0.81      0.81      3349\n",
      "weighted avg       0.82      0.81      0.81      3349\n",
      "\n"
     ]
    },
    {
     "data": {
      "text/plain": [
       "StackingClassifier(average_probas=False,\n",
       "                   classifiers=[LogisticRegression(C=1.0, class_weight=None,\n",
       "                                                   dual=False,\n",
       "                                                   fit_intercept=True,\n",
       "                                                   intercept_scaling=1,\n",
       "                                                   l1_ratio=None, max_iter=100,\n",
       "                                                   multi_class='warn',\n",
       "                                                   n_jobs=None, penalty='l2',\n",
       "                                                   random_state=None,\n",
       "                                                   solver='warn', tol=0.0001,\n",
       "                                                   verbose=0,\n",
       "                                                   warm_start=False),\n",
       "                                DecisionTreeClassifier(class_weight=None,\n",
       "                                                       criterion='gini',\n",
       "                                                       max_...\n",
       "                   meta_classifier=LogisticRegression(C=1.0, class_weight=None,\n",
       "                                                      dual=False,\n",
       "                                                      fit_intercept=True,\n",
       "                                                      intercept_scaling=1,\n",
       "                                                      l1_ratio=None,\n",
       "                                                      max_iter=100,\n",
       "                                                      multi_class='warn',\n",
       "                                                      n_jobs=None, penalty='l2',\n",
       "                                                      random_state=None,\n",
       "                                                      solver='warn', tol=0.0001,\n",
       "                                                      verbose=0,\n",
       "                                                      warm_start=False),\n",
       "                   store_train_meta_features=False, use_clones=True,\n",
       "                   use_features_in_secondary=False, use_probas=False,\n",
       "                   verbose=0)"
      ]
     },
     "execution_count": 47,
     "metadata": {},
     "output_type": "execute_result"
    }
   ],
   "source": [
    "classify(sc)"
   ]
  },
  {
   "cell_type": "markdown",
   "metadata": {},
   "source": [
    "## ada boosting"
   ]
  },
  {
   "cell_type": "code",
   "execution_count": 48,
   "metadata": {},
   "outputs": [],
   "source": [
    "from sklearn.ensemble import AdaBoostClassifier"
   ]
  },
  {
   "cell_type": "code",
   "execution_count": 49,
   "metadata": {},
   "outputs": [],
   "source": [
    "ada = AdaBoostClassifier(n_estimators=100)"
   ]
  },
  {
   "cell_type": "code",
   "execution_count": 50,
   "metadata": {},
   "outputs": [
    {
     "name": "stdout",
     "output_type": "stream",
     "text": [
      "              precision    recall  f1-score   support\n",
      "\n",
      "           0       0.83      0.86      0.84      1760\n",
      "           1       0.83      0.80      0.82      1589\n",
      "\n",
      "    accuracy                           0.83      3349\n",
      "   macro avg       0.83      0.83      0.83      3349\n",
      "weighted avg       0.83      0.83      0.83      3349\n",
      "\n"
     ]
    },
    {
     "data": {
      "text/plain": [
       "AdaBoostClassifier(algorithm='SAMME.R', base_estimator=None, learning_rate=1.0,\n",
       "                   n_estimators=100, random_state=None)"
      ]
     },
     "execution_count": 50,
     "metadata": {},
     "output_type": "execute_result"
    }
   ],
   "source": [
    "classify(ada)"
   ]
  },
  {
   "cell_type": "code",
   "execution_count": 51,
   "metadata": {},
   "outputs": [],
   "source": [
    "from sklearn.ensemble import GradientBoostingClassifier"
   ]
  },
  {
   "cell_type": "code",
   "execution_count": 52,
   "metadata": {},
   "outputs": [],
   "source": [
    "gb = GradientBoostingClassifier(n_estimators=100)"
   ]
  },
  {
   "cell_type": "code",
   "execution_count": 53,
   "metadata": {},
   "outputs": [
    {
     "name": "stdout",
     "output_type": "stream",
     "text": [
      "              precision    recall  f1-score   support\n",
      "\n",
      "           0       0.87      0.82      0.84      1760\n",
      "           1       0.81      0.86      0.83      1589\n",
      "\n",
      "    accuracy                           0.84      3349\n",
      "   macro avg       0.84      0.84      0.84      3349\n",
      "weighted avg       0.84      0.84      0.84      3349\n",
      "\n"
     ]
    },
    {
     "data": {
      "text/plain": [
       "GradientBoostingClassifier(criterion='friedman_mse', init=None,\n",
       "                           learning_rate=0.1, loss='deviance', max_depth=3,\n",
       "                           max_features=None, max_leaf_nodes=None,\n",
       "                           min_impurity_decrease=0.0, min_impurity_split=None,\n",
       "                           min_samples_leaf=1, min_samples_split=2,\n",
       "                           min_weight_fraction_leaf=0.0, n_estimators=100,\n",
       "                           n_iter_no_change=None, presort='auto',\n",
       "                           random_state=None, subsample=1.0, tol=0.0001,\n",
       "                           validation_fraction=0.1, verbose=0,\n",
       "                           warm_start=False)"
      ]
     },
     "execution_count": 53,
     "metadata": {},
     "output_type": "execute_result"
    }
   ],
   "source": [
    "classify(gb)"
   ]
  },
  {
   "cell_type": "markdown",
   "metadata": {},
   "source": [
    "### XG BOOST"
   ]
  },
  {
   "cell_type": "code",
   "execution_count": 55,
   "metadata": {},
   "outputs": [
    {
     "name": "stdout",
     "output_type": "stream",
     "text": [
      "Collecting xgboost\n",
      "  Downloading https://files.pythonhosted.org/packages/5e/49/b95c037b717b4ceadc76b6e164603471225c27052d1611d5a2e832757945/xgboost-0.90-py2.py3-none-win_amd64.whl (18.3MB)\n",
      "Requirement already satisfied: scipy in c:\\programdata\\anaconda3\\lib\\site-packages (from xgboost) (1.3.1)\n",
      "Requirement already satisfied: numpy in c:\\programdata\\anaconda3\\lib\\site-packages (from xgboost) (1.16.5)\n",
      "Installing collected packages: xgboost\n",
      "Successfully installed xgboost-0.90\n"
     ]
    }
   ],
   "source": [
    "!pip install xgboost"
   ]
  },
  {
   "cell_type": "code",
   "execution_count": 56,
   "metadata": {},
   "outputs": [],
   "source": [
    "from xgboost import XGBClassifier"
   ]
  },
  {
   "cell_type": "code",
   "execution_count": 57,
   "metadata": {},
   "outputs": [],
   "source": [
    "xc = XGBClassifier(n_estimators=100,Lambda=2)"
   ]
  },
  {
   "cell_type": "code",
   "execution_count": 58,
   "metadata": {},
   "outputs": [
    {
     "name": "stdout",
     "output_type": "stream",
     "text": [
      "              precision    recall  f1-score   support\n",
      "\n",
      "           0       0.87      0.81      0.84      1760\n",
      "           1       0.81      0.86      0.83      1589\n",
      "\n",
      "    accuracy                           0.84      3349\n",
      "   macro avg       0.84      0.84      0.84      3349\n",
      "weighted avg       0.84      0.84      0.84      3349\n",
      "\n"
     ]
    },
    {
     "data": {
      "text/plain": [
       "XGBClassifier(Lambda=2, base_score=0.5, booster='gbtree', colsample_bylevel=1,\n",
       "              colsample_bynode=1, colsample_bytree=1, gamma=0,\n",
       "              learning_rate=0.1, max_delta_step=0, max_depth=3,\n",
       "              min_child_weight=1, missing=None, n_estimators=100, n_jobs=1,\n",
       "              nthread=None, objective='binary:logistic', random_state=0,\n",
       "              reg_alpha=0, reg_lambda=1, scale_pos_weight=1, seed=None,\n",
       "              silent=None, subsample=1, verbosity=1)"
      ]
     },
     "execution_count": 58,
     "metadata": {},
     "output_type": "execute_result"
    }
   ],
   "source": [
    "classify(xc)"
   ]
  },
  {
   "cell_type": "code",
   "execution_count": null,
   "metadata": {},
   "outputs": [],
   "source": []
  }
 ],
 "metadata": {
  "kernelspec": {
   "display_name": "Python 3",
   "language": "python",
   "name": "python3"
  },
  "language_info": {
   "codemirror_mode": {
    "name": "ipython",
    "version": 3
   },
   "file_extension": ".py",
   "mimetype": "text/x-python",
   "name": "python",
   "nbconvert_exporter": "python",
   "pygments_lexer": "ipython3",
   "version": "3.7.4"
  }
 },
 "nbformat": 4,
 "nbformat_minor": 2
}
